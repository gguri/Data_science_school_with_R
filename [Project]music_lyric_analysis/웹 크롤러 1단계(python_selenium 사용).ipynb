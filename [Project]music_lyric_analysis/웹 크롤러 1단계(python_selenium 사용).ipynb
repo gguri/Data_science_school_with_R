{
 "cells": [
  {
   "cell_type": "markdown",
   "metadata": {},
   "source": [
    "### 1 단계 웹 크롤러 - DJ playlist\n",
    "### url : http://www.melon.com/mymusic/dj/mymusicdjplaylistview_inform.htm?plylstSeq=)\n",
    "### 노래 제목(title), 노래 id(id) 수집 후 label\n",
    "### javascript가 적용된 페이지 Rselenium사용해서 크롤링 시도\n",
    "### Rselenium 패키지 설치 후 서버 시작이 Docker 형식으로 바뀐듯(도커 모름..)\n",
    "### 대안책) Python이 좋다던데...? \n",
    "### Beautifulsoup와 selenium 패키지를 통해 제목과 id수집\n",
    "### R로 열심히 삽질 한 후, 크롤러는 python으로 하라는 이유를 알 것 같다."
   ]
  },
  {
   "cell_type": "code",
   "execution_count": 21,
   "metadata": {
    "collapsed": false
   },
   "outputs": [],
   "source": [
    "from selenium import webdriver\n",
    "from bs4 import BeautifulSoup\n",
    "import re"
   ]
  },
  {
   "cell_type": "code",
   "execution_count": 4,
   "metadata": {
    "collapsed": false
   },
   "outputs": [],
   "source": [
    "driver = webdriver.Chrome('C:/Users/JungChul/Anaconda3/Library/chromedriver')"
   ]
  },
  {
   "cell_type": "code",
   "execution_count": 31,
   "metadata": {
    "collapsed": false
   },
   "outputs": [
    {
     "name": "stdout",
     "output_type": "stream",
     "text": [
      "485716\n",
      "4821648\n",
      "4835665\n",
      "4844070\n",
      "4864207\n",
      "5394020\n",
      "5386171\n",
      "5401918\n",
      "5400441\n",
      "433353\n",
      "4646575\n",
      "4664060\n",
      "4433490\n",
      "313559\n",
      "4646573\n",
      "4671151\n",
      "62619\n",
      "3976973\n",
      "2425271\n",
      "3853980\n",
      "2743596\n",
      "4072327\n",
      "1116679\n",
      "1136816\n",
      "5383095\n",
      "1507696\n",
      "3907591\n",
      "2202693\n",
      "331025\n",
      "5381550\n",
      "5445249\n",
      "1318511\n",
      "3700533\n",
      "1929329\n",
      "1622157\n",
      "2941173\n",
      "3906355\n",
      "4865030\n",
      "2239627\n",
      "3018898\n",
      "4864206\n",
      "81123\n",
      "3604476\n",
      "4739884\n",
      "4264810\n",
      "239668\n",
      "3143265\n",
      "4463542\n",
      "1489153\n",
      "534751\n"
     ]
    },
    {
     "data": {
      "text/plain": [
       "['정말 사랑했을까',\n",
       " '별 일 아니에요',\n",
       " '사랑일까?',\n",
       " '시간을 거슬러',\n",
       " '묘해, 너와 (Full Session)',\n",
       " '그 한 사람',\n",
       " '너무 보고싶어',\n",
       " '어린애처럼',\n",
       " '굿바이',\n",
       " '여름아! 부탁해',\n",
       " '여름밤의 꿈',\n",
       " '그대가 있어 좋아요',\n",
       " '썸 (Feat. 릴보이 Of 긱스)',\n",
       " '우린 제법 잘 어울려요',\n",
       " '너의 의미 (Feat. 김창완)',\n",
       " '눈, 코, 입',\n",
       " '사랑 Two',\n",
       " '대화가 필요해',\n",
       " '오늘 헤어졌어요',\n",
       " '어땠을까 (Feat. 박정현)',\n",
       " '그럴때마다',\n",
       " 'The A Team',\n",
       " 'I Believe',\n",
       " '프란다스의 개',\n",
       " '우리 사랑했던 시간만큼',\n",
       " 'The Puppy Song',\n",
       " 'True Love (Feat. Lily Allen)',\n",
       " 'On My Way Here',\n",
       " 'Still Fighting It (SK그룹 반도체 편 광고)',\n",
       " '파랑새',\n",
       " 'It`s All About You',\n",
       " 'Ode To My Family',\n",
       " 'Marry You (MBC 무한도전 광희 결혼 축가 곡)',\n",
       " 'Nobody',\n",
       " '휘파람',\n",
       " 'A Whiter Shade Of Pale',\n",
       " 'Lost Inside',\n",
       " '쉽지않아 (Missing)',\n",
       " 'Boogie',\n",
       " '그여자',\n",
       " '묘해, 너와',\n",
       " '킬리만자로의 표범',\n",
       " 'What Makes You Beautiful',\n",
       " 'It Never Entered My Mind',\n",
       " 'Let`s Start From Here',\n",
       " 'One Summer Night',\n",
       " 'Rolling In The Deep',\n",
       " 'Just The Way You Are',\n",
       " 'Henrietta (Album Ver.)',\n",
       " 'Lucha! Amigo']"
      ]
     },
     "execution_count": 31,
     "metadata": {},
     "output_type": "execute_result"
    }
   ],
   "source": [
    "driver.get(\"http://www.melon.com/mymusic/dj/mymusicdjplaylistview_inform.htm?plylstSeq=401719231\")\n",
    "html = driver.page_source\n",
    "soup = BeautifulSoup(html, 'html.parser') \n",
    "result = []\n",
    "for a in soup.find_all('a', class_=\"btn_icon_detail\"):\n",
    "    result.append(a['href']) \n",
    "    \n",
    "for link in result:\n",
    "    link = re.sub('[^0-9]', '', link)\n",
    "    print(link)\n",
    "\n",
    "title = []\n",
    "for a in soup.find_all('a', class_=\"btn_icon_detail\"):\n",
    "    title.append(a.text)\n",
    "title"
   ]
  }
 ],
 "metadata": {
  "anaconda-cloud": {},
  "kernelspec": {
   "display_name": "Python [default]",
   "language": "python",
   "name": "python3"
  },
  "language_info": {
   "codemirror_mode": {
    "name": "ipython",
    "version": 3
   },
   "file_extension": ".py",
   "mimetype": "text/x-python",
   "name": "python",
   "nbconvert_exporter": "python",
   "pygments_lexer": "ipython3",
   "version": "3.5.2"
  }
 },
 "nbformat": 4,
 "nbformat_minor": 1
}
