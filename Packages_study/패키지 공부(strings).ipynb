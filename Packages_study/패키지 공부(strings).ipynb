{
 "cells": [
  {
   "cell_type": "markdown",
   "metadata": {},
   "source": [
    "# Strings패키지 공부\n",
    "### 출처 : http://www.di.fc.ul.pt/~jpn/r/\n",
    "---"
   ]
  },
  {
   "cell_type": "markdown",
   "metadata": {},
   "source": [
    "# Standard functions\n",
    "- paste : pastes vectors together\n",
    "- substr : extract/replace substrings in a character vector\n",
    "- substring : expand cyclically several results\n",
    "- strsplit : split the elements into substrings according to the matches(uses regular expressions)\n",
    "---"
   ]
  },
  {
   "cell_type": "code",
   "execution_count": 3,
   "metadata": {
    "collapsed": false
   },
   "outputs": [
    {
     "data": {
      "text/html": [
       "<span style=white-space:pre-wrap>'Today is  Mon Sep 04 16:22:23 2017'</span>"
      ],
      "text/latex": [
       "'Today is  Mon Sep 04 16:22:23 2017'"
      ],
      "text/markdown": [
       "<span style=white-space:pre-wrap>'Today is  Mon Sep 04 16:22:23 2017'</span>"
      ],
      "text/plain": [
       "[1] \"Today is  Mon Sep 04 16:22:23 2017\""
      ]
     },
     "metadata": {},
     "output_type": "display_data"
    }
   ],
   "source": [
    "# date()를 통해 현지 시간 출력\n",
    "paste(\"Today is \", date())"
   ]
  },
  {
   "cell_type": "code",
   "execution_count": 5,
   "metadata": {
    "collapsed": false
   },
   "outputs": [
    {
     "data": {
      "text/html": [
       "<ol class=list-inline>\n",
       "\t<li>'A1'</li>\n",
       "\t<li>'A2'</li>\n",
       "\t<li>'A3'</li>\n",
       "\t<li>'A4'</li>\n",
       "\t<li>'A5'</li>\n",
       "\t<li>'A6'</li>\n",
       "\t<li>'A7'</li>\n",
       "</ol>\n"
      ],
      "text/latex": [
       "\\begin{enumerate*}\n",
       "\\item 'A1'\n",
       "\\item 'A2'\n",
       "\\item 'A3'\n",
       "\\item 'A4'\n",
       "\\item 'A5'\n",
       "\\item 'A6'\n",
       "\\item 'A7'\n",
       "\\end{enumerate*}\n"
      ],
      "text/markdown": [
       "1. 'A1'\n",
       "2. 'A2'\n",
       "3. 'A3'\n",
       "4. 'A4'\n",
       "5. 'A5'\n",
       "6. 'A6'\n",
       "7. 'A7'\n",
       "\n",
       "\n"
      ],
      "text/plain": [
       "[1] \"A1\" \"A2\" \"A3\" \"A4\" \"A5\" \"A6\" \"A7\""
      ]
     },
     "metadata": {},
     "output_type": "display_data"
    }
   ],
   "source": [
    "# paste0 : 문자 사이에 공백 없이 출력\n",
    "xs <- 1:7\n",
    "paste0(\"A\", xs)"
   ]
  },
  {
   "cell_type": "code",
   "execution_count": 6,
   "metadata": {
    "collapsed": false
   },
   "outputs": [
    {
     "data": {
      "text/html": [
       "<ol class=list-inline>\n",
       "\t<li>'A,1'</li>\n",
       "\t<li>'A,2'</li>\n",
       "\t<li>'A,3'</li>\n",
       "\t<li>'A,4'</li>\n",
       "\t<li>'A,5'</li>\n",
       "\t<li>'A,6'</li>\n",
       "\t<li>'A,7'</li>\n",
       "</ol>\n"
      ],
      "text/latex": [
       "\\begin{enumerate*}\n",
       "\\item 'A,1'\n",
       "\\item 'A,2'\n",
       "\\item 'A,3'\n",
       "\\item 'A,4'\n",
       "\\item 'A,5'\n",
       "\\item 'A,6'\n",
       "\\item 'A,7'\n",
       "\\end{enumerate*}\n"
      ],
      "text/markdown": [
       "1. 'A,1'\n",
       "2. 'A,2'\n",
       "3. 'A,3'\n",
       "4. 'A,4'\n",
       "5. 'A,5'\n",
       "6. 'A,6'\n",
       "7. 'A,7'\n",
       "\n",
       "\n"
      ],
      "text/plain": [
       "[1] \"A,1\" \"A,2\" \"A,3\" \"A,4\" \"A,5\" \"A,6\" \"A,7\""
      ]
     },
     "metadata": {},
     "output_type": "display_data"
    }
   ],
   "source": [
    "paste(\"A\", xs, sep = \",\")"
   ]
  },
  {
   "cell_type": "code",
   "execution_count": 13,
   "metadata": {
    "collapsed": false,
    "scrolled": true
   },
   "outputs": [
    {
     "data": {
      "text/html": [
       "<ol class=list-inline>\n",
       "\t<li>'a'</li>\n",
       "\t<li>'b'</li>\n",
       "\t<li>'c'</li>\n",
       "\t<li>'d'</li>\n",
       "\t<li>'e'</li>\n",
       "\t<li>'f'</li>\n",
       "\t<li>'g'</li>\n",
       "\t<li>'h'</li>\n",
       "\t<li>'i'</li>\n",
       "\t<li>'j'</li>\n",
       "</ol>\n"
      ],
      "text/latex": [
       "\\begin{enumerate*}\n",
       "\\item 'a'\n",
       "\\item 'b'\n",
       "\\item 'c'\n",
       "\\item 'd'\n",
       "\\item 'e'\n",
       "\\item 'f'\n",
       "\\item 'g'\n",
       "\\item 'h'\n",
       "\\item 'i'\n",
       "\\item 'j'\n",
       "\\end{enumerate*}\n"
      ],
      "text/markdown": [
       "1. 'a'\n",
       "2. 'b'\n",
       "3. 'c'\n",
       "4. 'd'\n",
       "5. 'e'\n",
       "6. 'f'\n",
       "7. 'g'\n",
       "8. 'h'\n",
       "9. 'i'\n",
       "10. 'j'\n",
       "\n",
       "\n"
      ],
      "text/plain": [
       " [1] \"a\" \"b\" \"c\" \"d\" \"e\" \"f\" \"g\" \"h\" \"i\" \"j\""
      ]
     },
     "metadata": {},
     "output_type": "display_data"
    },
    {
     "data": {
      "text/html": [
       "<ol class=list-inline>\n",
       "\t<li>'a|1'</li>\n",
       "\t<li>'b|2'</li>\n",
       "\t<li>'c|3'</li>\n",
       "\t<li>'d|4'</li>\n",
       "\t<li>'e|5'</li>\n",
       "\t<li>'f|6'</li>\n",
       "\t<li>'g|7'</li>\n",
       "\t<li>'h|1'</li>\n",
       "\t<li>'i|2'</li>\n",
       "\t<li>'j|3'</li>\n",
       "</ol>\n"
      ],
      "text/latex": [
       "\\begin{enumerate*}\n",
       "\\item 'a\\textbar{}1'\n",
       "\\item 'b\\textbar{}2'\n",
       "\\item 'c\\textbar{}3'\n",
       "\\item 'd\\textbar{}4'\n",
       "\\item 'e\\textbar{}5'\n",
       "\\item 'f\\textbar{}6'\n",
       "\\item 'g\\textbar{}7'\n",
       "\\item 'h\\textbar{}1'\n",
       "\\item 'i\\textbar{}2'\n",
       "\\item 'j\\textbar{}3'\n",
       "\\end{enumerate*}\n"
      ],
      "text/markdown": [
       "1. 'a|1'\n",
       "2. 'b|2'\n",
       "3. 'c|3'\n",
       "4. 'd|4'\n",
       "5. 'e|5'\n",
       "6. 'f|6'\n",
       "7. 'g|7'\n",
       "8. 'h|1'\n",
       "9. 'i|2'\n",
       "10. 'j|3'\n",
       "\n",
       "\n"
      ],
      "text/plain": [
       " [1] \"a|1\" \"b|2\" \"c|3\" \"d|4\" \"e|5\" \"f|6\" \"g|7\" \"h|1\" \"i|2\" \"j|3\""
      ]
     },
     "metadata": {},
     "output_type": "display_data"
    }
   ],
   "source": [
    "letters[1:10] # 소문자 알파벳 출력\n",
    "paste(letters[1:10], xs, sep = \"|\")"
   ]
  },
  {
   "cell_type": "code",
   "execution_count": 16,
   "metadata": {
    "collapsed": false
   },
   "outputs": [
    {
     "data": {
      "text/html": [
       "'a|1,b|2,c|3,d|4,e|5,f|6,g|7,h|1,i|2,j|3'"
      ],
      "text/latex": [
       "'a\\textbar{}1,b\\textbar{}2,c\\textbar{}3,d\\textbar{}4,e\\textbar{}5,f\\textbar{}6,g\\textbar{}7,h\\textbar{}1,i\\textbar{}2,j\\textbar{}3'"
      ],
      "text/markdown": [
       "'a|1,b|2,c|3,d|4,e|5,f|6,g|7,h|1,i|2,j|3'"
      ],
      "text/plain": [
       "[1] \"a|1,b|2,c|3,d|4,e|5,f|6,g|7,h|1,i|2,j|3\""
      ]
     },
     "metadata": {},
     "output_type": "display_data"
    }
   ],
   "source": [
    "paste(letters[1:10], xs, sep = \"|\", collapse = \",\")"
   ]
  },
  {
   "cell_type": "code",
   "execution_count": 34,
   "metadata": {
    "collapsed": false
   },
   "outputs": [
    {
     "data": {
      "text/html": [
       "'o mapa nao e o territorio, tem 25characteres'"
      ],
      "text/latex": [
       "'o mapa nao e o territorio, tem 25characteres'"
      ],
      "text/markdown": [
       "'o mapa nao e o territorio, tem 25characteres'"
      ],
      "text/plain": [
       "[1] \"o mapa nao e o territorio, tem 25characteres\""
      ]
     },
     "metadata": {},
     "output_type": "display_data"
    }
   ],
   "source": [
    "cs <- \"o mapa nao e o territorio\"\n",
    "paste0(cs,\", tem \", nchar(cs), \"characteres\")"
   ]
  },
  {
   "cell_type": "code",
   "execution_count": 35,
   "metadata": {
    "collapsed": false
   },
   "outputs": [
    {
     "data": {
      "text/html": [
       "'mapa'"
      ],
      "text/latex": [
       "'mapa'"
      ],
      "text/markdown": [
       "'mapa'"
      ],
      "text/plain": [
       "[1] \"mapa\""
      ]
     },
     "metadata": {},
     "output_type": "display_data"
    }
   ],
   "source": [
    "# start, end로 문자 뽑아내기\n",
    "substr(cs, 3, 6)"
   ]
  },
  {
   "cell_type": "code",
   "execution_count": 36,
   "metadata": {
    "collapsed": false
   },
   "outputs": [
    {
     "data": {
      "text/html": [
       "'o MAPA nao e o territorio'"
      ],
      "text/latex": [
       "'o MAPA nao e o territorio'"
      ],
      "text/markdown": [
       "'o MAPA nao e o territorio'"
      ],
      "text/plain": [
       "[1] \"o MAPA nao e o territorio\""
      ]
     },
     "metadata": {},
     "output_type": "display_data"
    }
   ],
   "source": [
    "# 해당 위치 문자 변환\n",
    "substr(cs, 3, 6) <- \"MAPA\"\n",
    "cs"
   ]
  },
  {
   "cell_type": "code",
   "execution_count": 42,
   "metadata": {
    "collapsed": false
   },
   "outputs": [
    {
     "data": {
      "text/html": [
       "<ol class=list-inline>\n",
       "\t<li>' MA'</li>\n",
       "\t<li>' MAP'</li>\n",
       "\t<li>' MAPA'</li>\n",
       "</ol>\n"
      ],
      "text/latex": [
       "\\begin{enumerate*}\n",
       "\\item ' MA'\n",
       "\\item ' MAP'\n",
       "\\item ' MAPA'\n",
       "\\end{enumerate*}\n"
      ],
      "text/markdown": [
       "1. ' MA'\n",
       "2. ' MAP'\n",
       "3. ' MAPA'\n",
       "\n",
       "\n"
      ],
      "text/plain": [
       "[1] \" MA\"   \" MAP\"  \" MAPA\""
      ]
     },
     "metadata": {},
     "output_type": "display_data"
    }
   ],
   "source": [
    "# substr은 결과가 1개 뿐이지만\n",
    "# substring은 여러개 결과 출력\n",
    "substring(cs, 2, 4:6)"
   ]
  },
  {
   "cell_type": "code",
   "execution_count": 48,
   "metadata": {
    "collapsed": false
   },
   "outputs": [
    {
     "data": {
      "text/html": [
       "<ol>\n",
       "\t<li><ol class=list-inline>\n",
       "\t<li>''</li>\n",
       "\t<li>' m'</li>\n",
       "\t<li>'p'</li>\n",
       "\t<li>' n'</li>\n",
       "\t<li>''</li>\n",
       "\t<li>' e '</li>\n",
       "\t<li>' territ'</li>\n",
       "\t<li>'ri'</li>\n",
       "</ol>\n",
       "</li>\n",
       "</ol>\n"
      ],
      "text/latex": [
       "\\begin{enumerate}\n",
       "\\item \\begin{enumerate*}\n",
       "\\item ''\n",
       "\\item ' m'\n",
       "\\item 'p'\n",
       "\\item ' n'\n",
       "\\item ''\n",
       "\\item ' e '\n",
       "\\item ' territ'\n",
       "\\item 'ri'\n",
       "\\end{enumerate*}\n",
       "\n",
       "\\end{enumerate}\n"
      ],
      "text/markdown": [
       "1. 1. ''\n",
       "2. ' m'\n",
       "3. 'p'\n",
       "4. ' n'\n",
       "5. ''\n",
       "6. ' e '\n",
       "7. ' territ'\n",
       "8. 'ri'\n",
       "\n",
       "\n",
       "\n",
       "\n",
       "\n"
      ],
      "text/plain": [
       "[[1]]\n",
       "[1] \"\"        \" m\"      \"p\"       \" n\"      \"\"        \" e \"     \" territ\"\n",
       "[8] \"ri\"     \n"
      ]
     },
     "metadata": {},
     "output_type": "display_data"
    }
   ],
   "source": [
    "# strsplit(데이터, 패턴)\n",
    "# o와 a를 기준으로 문자열을 분리\n",
    "cs <- \"o mapa nao e o territorio\"\n",
    "strsplit(cs,\"[oa]\")"
   ]
  },
  {
   "cell_type": "code",
   "execution_count": 45,
   "metadata": {
    "collapsed": false
   },
   "outputs": [
    {
     "data": {
      "text/html": [
       "'a|1,b|2,c|3,d|4,e|5,f|6,g|7,h|1,i|2,j|3'"
      ],
      "text/latex": [
       "'a\\textbar{}1,b\\textbar{}2,c\\textbar{}3,d\\textbar{}4,e\\textbar{}5,f\\textbar{}6,g\\textbar{}7,h\\textbar{}1,i\\textbar{}2,j\\textbar{}3'"
      ],
      "text/markdown": [
       "'a|1,b|2,c|3,d|4,e|5,f|6,g|7,h|1,i|2,j|3'"
      ],
      "text/plain": [
       "[1] \"a|1,b|2,c|3,d|4,e|5,f|6,g|7,h|1,i|2,j|3\""
      ]
     },
     "metadata": {},
     "output_type": "display_data"
    }
   ],
   "source": [
    "cs <- paste(letters[1:10],1:7,sep=\"|\",collapse=\",\")\n",
    "cs"
   ]
  },
  {
   "cell_type": "code",
   "execution_count": 47,
   "metadata": {
    "collapsed": false
   },
   "outputs": [
    {
     "data": {
      "text/html": [
       "<ol class=list-inline>\n",
       "\t<li>'a'</li>\n",
       "\t<li>'1'</li>\n",
       "\t<li>'b'</li>\n",
       "\t<li>'2'</li>\n",
       "\t<li>'c'</li>\n",
       "\t<li>'3'</li>\n",
       "\t<li>'d'</li>\n",
       "\t<li>'4'</li>\n",
       "\t<li>'e'</li>\n",
       "\t<li>'5'</li>\n",
       "\t<li>'f'</li>\n",
       "\t<li>'6'</li>\n",
       "\t<li>'g'</li>\n",
       "\t<li>'7'</li>\n",
       "\t<li>'h'</li>\n",
       "\t<li>'1'</li>\n",
       "\t<li>'i'</li>\n",
       "\t<li>'2'</li>\n",
       "\t<li>'j'</li>\n",
       "\t<li>'3'</li>\n",
       "</ol>\n"
      ],
      "text/latex": [
       "\\begin{enumerate*}\n",
       "\\item 'a'\n",
       "\\item '1'\n",
       "\\item 'b'\n",
       "\\item '2'\n",
       "\\item 'c'\n",
       "\\item '3'\n",
       "\\item 'd'\n",
       "\\item '4'\n",
       "\\item 'e'\n",
       "\\item '5'\n",
       "\\item 'f'\n",
       "\\item '6'\n",
       "\\item 'g'\n",
       "\\item '7'\n",
       "\\item 'h'\n",
       "\\item '1'\n",
       "\\item 'i'\n",
       "\\item '2'\n",
       "\\item 'j'\n",
       "\\item '3'\n",
       "\\end{enumerate*}\n"
      ],
      "text/markdown": [
       "1. 'a'\n",
       "2. '1'\n",
       "3. 'b'\n",
       "4. '2'\n",
       "5. 'c'\n",
       "6. '3'\n",
       "7. 'd'\n",
       "8. '4'\n",
       "9. 'e'\n",
       "10. '5'\n",
       "11. 'f'\n",
       "12. '6'\n",
       "13. 'g'\n",
       "14. '7'\n",
       "15. 'h'\n",
       "16. '1'\n",
       "17. 'i'\n",
       "18. '2'\n",
       "19. 'j'\n",
       "20. '3'\n",
       "\n",
       "\n"
      ],
      "text/plain": [
       " [1] \"a\" \"1\" \"b\" \"2\" \"c\" \"3\" \"d\" \"4\" \"e\" \"5\" \"f\" \"6\" \"g\" \"7\" \"h\" \"1\" \"i\" \"2\" \"j\"\n",
       "[20] \"3\""
      ]
     },
     "metadata": {},
     "output_type": "display_data"
    }
   ],
   "source": [
    "# ,와 |을 기준으로 문자열을 분리\n",
    "cs1 <- strsplit(cs,\"[,|]\")[[1]]\n",
    "cs1"
   ]
  },
  {
   "cell_type": "code",
   "execution_count": 49,
   "metadata": {
    "collapsed": false
   },
   "outputs": [
    {
     "data": {
      "text/html": [
       "'a1b2c3d4e5f6g7h1i2j3'"
      ],
      "text/latex": [
       "'a1b2c3d4e5f6g7h1i2j3'"
      ],
      "text/markdown": [
       "'a1b2c3d4e5f6g7h1i2j3'"
      ],
      "text/plain": [
       "[1] \"a1b2c3d4e5f6g7h1i2j3\""
      ]
     },
     "metadata": {},
     "output_type": "display_data"
    }
   ],
   "source": [
    "cs1 <- paste0(cs1,collapse=\"\")\n",
    "cs1"
   ]
  },
  {
   "cell_type": "markdown",
   "metadata": {},
   "source": [
    "# Regular Expressions(정규표현식)\n",
    "---"
   ]
  },
  {
   "cell_type": "code",
   "execution_count": 52,
   "metadata": {
    "collapsed": false
   },
   "outputs": [
    {
     "data": {
      "text/html": [
       "<ol>\n",
       "\t<li><ol class=list-inline>\n",
       "\t<li>'a'</li>\n",
       "\t<li>'b'</li>\n",
       "\t<li>'c'</li>\n",
       "\t<li>'d'</li>\n",
       "\t<li>'e'</li>\n",
       "\t<li>'f'</li>\n",
       "\t<li>'g'</li>\n",
       "\t<li>'h'</li>\n",
       "\t<li>'i'</li>\n",
       "\t<li>'j'</li>\n",
       "</ol>\n",
       "</li>\n",
       "</ol>\n"
      ],
      "text/latex": [
       "\\begin{enumerate}\n",
       "\\item \\begin{enumerate*}\n",
       "\\item 'a'\n",
       "\\item 'b'\n",
       "\\item 'c'\n",
       "\\item 'd'\n",
       "\\item 'e'\n",
       "\\item 'f'\n",
       "\\item 'g'\n",
       "\\item 'h'\n",
       "\\item 'i'\n",
       "\\item 'j'\n",
       "\\end{enumerate*}\n",
       "\n",
       "\\end{enumerate}\n"
      ],
      "text/markdown": [
       "1. 1. 'a'\n",
       "2. 'b'\n",
       "3. 'c'\n",
       "4. 'd'\n",
       "5. 'e'\n",
       "6. 'f'\n",
       "7. 'g'\n",
       "8. 'h'\n",
       "9. 'i'\n",
       "10. 'j'\n",
       "\n",
       "\n",
       "\n",
       "\n",
       "\n"
      ],
      "text/plain": [
       "[[1]]\n",
       " [1] \"a\" \"b\" \"c\" \"d\" \"e\" \"f\" \"g\" \"h\" \"i\" \"j\"\n"
      ]
     },
     "metadata": {},
     "output_type": "display_data"
    }
   ],
   "source": [
    "# 숫자를 기준으로 문자열을 분리\n",
    "strsplit(cs1,\"[1-9]\")"
   ]
  },
  {
   "cell_type": "code",
   "execution_count": 56,
   "metadata": {
    "collapsed": false
   },
   "outputs": [
    {
     "data": {
      "text/html": [
       "<ol>\n",
       "\t<li><ol class=list-inline>\n",
       "\t<li>''</li>\n",
       "\t<li>''</li>\n",
       "\t<li>''</li>\n",
       "\t<li>''</li>\n",
       "\t<li>''</li>\n",
       "\t<li>''</li>\n",
       "\t<li>''</li>\n",
       "</ol>\n",
       "</li>\n",
       "</ol>\n"
      ],
      "text/latex": [
       "\\begin{enumerate}\n",
       "\\item \\begin{enumerate*}\n",
       "\\item ''\n",
       "\\item ''\n",
       "\\item ''\n",
       "\\item ''\n",
       "\\item ''\n",
       "\\item ''\n",
       "\\item ''\n",
       "\\end{enumerate*}\n",
       "\n",
       "\\end{enumerate}\n"
      ],
      "text/markdown": [
       "1. 1. ''\n",
       "2. ''\n",
       "3. ''\n",
       "4. ''\n",
       "5. ''\n",
       "6. ''\n",
       "7. ''\n",
       "\n",
       "\n",
       "\n",
       "\n",
       "\n"
      ],
      "text/plain": [
       "[[1]]\n",
       "[1] \"\" \"\" \"\" \"\" \"\" \"\" \"\"\n"
      ]
     },
     "metadata": {},
     "output_type": "display_data"
    },
    {
     "data": {
      "text/html": [
       "<ol>\n",
       "\t<li>'a.b.c'</li>\n",
       "</ol>\n"
      ],
      "text/latex": [
       "\\begin{enumerate}\n",
       "\\item 'a.b.c'\n",
       "\\end{enumerate}\n"
      ],
      "text/markdown": [
       "1. 'a.b.c'\n",
       "\n",
       "\n"
      ],
      "text/plain": [
       "[[1]]\n",
       "[1] \"a.b.c\"\n"
      ]
     },
     "metadata": {},
     "output_type": "display_data"
    }
   ],
   "source": [
    "# . : 어떠한 문자든 출력 a.b.c.d의 길이 만큼\n",
    "strsplit(\"a.b.c.d\", \".\") \n",
    "# .d : .d로 끝나는 문자 출력\n",
    "strsplit(\"a.b.c.d\", \".d\")"
   ]
  },
  {
   "cell_type": "code",
   "execution_count": 67,
   "metadata": {
    "collapsed": false
   },
   "outputs": [
    {
     "data": {
      "text/html": [
       "<ol>\n",
       "\t<li><ol class=list-inline>\n",
       "\t<li>'a'</li>\n",
       "\t<li>'b'</li>\n",
       "\t<li>'c'</li>\n",
       "</ol>\n",
       "</li>\n",
       "</ol>\n"
      ],
      "text/latex": [
       "\\begin{enumerate}\n",
       "\\item \\begin{enumerate*}\n",
       "\\item 'a'\n",
       "\\item 'b'\n",
       "\\item 'c'\n",
       "\\end{enumerate*}\n",
       "\n",
       "\\end{enumerate}\n"
      ],
      "text/markdown": [
       "1. 1. 'a'\n",
       "2. 'b'\n",
       "3. 'c'\n",
       "\n",
       "\n",
       "\n",
       "\n",
       "\n"
      ],
      "text/plain": [
       "[[1]]\n",
       "[1] \"a\" \"b\" \"c\"\n"
      ]
     },
     "metadata": {},
     "output_type": "display_data"
    }
   ],
   "source": [
    "# .을 이용해서 문자를 분리하려면 \\\\(escape)사용\n",
    "strsplit(\"a.b.c\", \"\\\\.\")"
   ]
  },
  {
   "cell_type": "code",
   "execution_count": 59,
   "metadata": {
    "collapsed": false
   },
   "outputs": [],
   "source": [
    "cs <- c(\"aaa\",\"abb\",\"ccc\",\"dda\",\"eaa\")"
   ]
  },
  {
   "cell_type": "code",
   "execution_count": 66,
   "metadata": {
    "collapsed": false
   },
   "outputs": [
    {
     "data": {
      "text/html": [
       "<ol class=list-inline>\n",
       "\t<li>'Xaa'</li>\n",
       "\t<li>'Xbb'</li>\n",
       "\t<li>'ccc'</li>\n",
       "\t<li>'ddX'</li>\n",
       "\t<li>'eXa'</li>\n",
       "</ol>\n"
      ],
      "text/latex": [
       "\\begin{enumerate*}\n",
       "\\item 'Xaa'\n",
       "\\item 'Xbb'\n",
       "\\item 'ccc'\n",
       "\\item 'ddX'\n",
       "\\item 'eXa'\n",
       "\\end{enumerate*}\n"
      ],
      "text/markdown": [
       "1. 'Xaa'\n",
       "2. 'Xbb'\n",
       "3. 'ccc'\n",
       "4. 'ddX'\n",
       "5. 'eXa'\n",
       "\n",
       "\n"
      ],
      "text/plain": [
       "[1] \"Xaa\" \"Xbb\" \"ccc\" \"ddX\" \"eXa\""
      ]
     },
     "metadata": {},
     "output_type": "display_data"
    }
   ],
   "source": [
    "# sub : 패턴이 처음 매칭되는 문자 변경\n",
    "sub(\"a\", \"X\", cs) "
   ]
  },
  {
   "cell_type": "code",
   "execution_count": 65,
   "metadata": {
    "collapsed": false
   },
   "outputs": [
    {
     "data": {
      "text/html": [
       "<ol class=list-inline>\n",
       "\t<li>'XXX'</li>\n",
       "\t<li>'Xbb'</li>\n",
       "\t<li>'ccc'</li>\n",
       "\t<li>'ddX'</li>\n",
       "\t<li>'eXX'</li>\n",
       "</ol>\n"
      ],
      "text/latex": [
       "\\begin{enumerate*}\n",
       "\\item 'XXX'\n",
       "\\item 'Xbb'\n",
       "\\item 'ccc'\n",
       "\\item 'ddX'\n",
       "\\item 'eXX'\n",
       "\\end{enumerate*}\n"
      ],
      "text/markdown": [
       "1. 'XXX'\n",
       "2. 'Xbb'\n",
       "3. 'ccc'\n",
       "4. 'ddX'\n",
       "5. 'eXX'\n",
       "\n",
       "\n"
      ],
      "text/plain": [
       "[1] \"XXX\" \"Xbb\" \"ccc\" \"ddX\" \"eXX\""
      ]
     },
     "metadata": {},
     "output_type": "display_data"
    }
   ],
   "source": [
    "# gsub : 패턴이 매칭되는 모든 문자 변경\n",
    "gsub(\"a\", \"X\", cs) "
   ]
  },
  {
   "cell_type": "code",
   "execution_count": 69,
   "metadata": {
    "collapsed": false
   },
   "outputs": [
    {
     "data": {
      "text/html": [
       "'Evidence for a model (or belief) must be considered against alternative models. Let me describe a neutral (and very simple) example: Assume I say I have Extra Sensorial Perception (ESP) and tell you that the next dice throw will be 1. You throw the dice and I was right. That is evidence for my claim of ESP. However there\\'s an alternative model (\\'just a lucky guess\\') that also explains it and it\\'s much more likely to be the right model (because ESP needs much more assumptions, many of those in conflict with accepted facts and theories). This is a subject of statistical inference. It\\'s crucial to consider the alternatives when we want to put our beliefs to the test.'"
      ],
      "text/latex": [
       "'Evidence for a model (or belief) must be considered against alternative models. Let me describe a neutral (and very simple) example: Assume I say I have Extra Sensorial Perception (ESP) and tell you that the next dice throw will be 1. You throw the dice and I was right. That is evidence for my claim of ESP. However there\\textbackslash{}'s an alternative model (\\textbackslash{}'just a lucky guess\\textbackslash{}') that also explains it and it\\textbackslash{}'s much more likely to be the right model (because ESP needs much more assumptions, many of those in conflict with accepted facts and theories). This is a subject of statistical inference. It\\textbackslash{}'s crucial to consider the alternatives when we want to put our beliefs to the test.'"
      ],
      "text/markdown": [
       "'Evidence for a model (or belief) must be considered against alternative models. Let me describe a neutral (and very simple) example: Assume I say I have Extra Sensorial Perception (ESP) and tell you that the next dice throw will be 1. You throw the dice and I was right. That is evidence for my claim of ESP. However there\\'s an alternative model (\\'just a lucky guess\\') that also explains it and it\\'s much more likely to be the right model (because ESP needs much more assumptions, many of those in conflict with accepted facts and theories). This is a subject of statistical inference. It\\'s crucial to consider the alternatives when we want to put our beliefs to the test.'"
      ],
      "text/plain": [
       "[1] \"Evidence for a model (or belief) must be considered against alternative models. Let me describe a neutral (and very simple) example: Assume I say I have Extra Sensorial Perception (ESP) and tell you that the next dice throw will be 1. You throw the dice and I was right. That is evidence for my claim of ESP. However there's an alternative model ('just a lucky guess') that also explains it and it's much more likely to be the right model (because ESP needs much more assumptions, many of those in conflict with accepted facts and theories). This is a subject of statistical inference. It's crucial to consider the alternatives when we want to put our beliefs to the test.\""
      ]
     },
     "metadata": {},
     "output_type": "display_data"
    }
   ],
   "source": [
    "text.test <- \"Evidence for a model (or belief) must be considered against alternative models. Let me describe a neutral (and very simple) example: Assume I say I have Extra Sensorial Perception (ESP) and tell you that the next dice throw will be 1. You throw the dice and I was right. That is evidence for my claim of ESP. However there's an alternative model ('just a lucky guess') that also explains it and it's much more likely to be the right model (because ESP needs much more assumptions, many of those in conflict with accepted facts and theories). This is a subject of statistical inference. It's crucial to consider the alternatives when we want to put our beliefs to the test.\"\n",
    "text.test"
   ]
  },
  {
   "cell_type": "code",
   "execution_count": 70,
   "metadata": {
    "collapsed": false
   },
   "outputs": [
    {
     "data": {
      "text/html": [
       "'Evidence for a XXX (or XXX) must be considered against alternative XXXs. Let me describe a neutral (and very simple) example: Assume I say I have Extra Sensorial Perception (ESP) and tell you that the next dice throw will be 1. You throw the dice and I was right. That is evidence for my claim of ESP. However there\\'s an alternative XXX (\\'just a lucky guess\\') that also explains it and it\\'s much more likely to be the right XXX (because ESP needs much more assumptions, many of those in conflict with accepted facts and theories). This is a subject of statistical inference. It\\'s crucial to consider the alternatives when we want to put our XXXs to the test.'"
      ],
      "text/latex": [
       "'Evidence for a XXX (or XXX) must be considered against alternative XXXs. Let me describe a neutral (and very simple) example: Assume I say I have Extra Sensorial Perception (ESP) and tell you that the next dice throw will be 1. You throw the dice and I was right. That is evidence for my claim of ESP. However there\\textbackslash{}'s an alternative XXX (\\textbackslash{}'just a lucky guess\\textbackslash{}') that also explains it and it\\textbackslash{}'s much more likely to be the right XXX (because ESP needs much more assumptions, many of those in conflict with accepted facts and theories). This is a subject of statistical inference. It\\textbackslash{}'s crucial to consider the alternatives when we want to put our XXXs to the test.'"
      ],
      "text/markdown": [
       "'Evidence for a XXX (or XXX) must be considered against alternative XXXs. Let me describe a neutral (and very simple) example: Assume I say I have Extra Sensorial Perception (ESP) and tell you that the next dice throw will be 1. You throw the dice and I was right. That is evidence for my claim of ESP. However there\\'s an alternative XXX (\\'just a lucky guess\\') that also explains it and it\\'s much more likely to be the right XXX (because ESP needs much more assumptions, many of those in conflict with accepted facts and theories). This is a subject of statistical inference. It\\'s crucial to consider the alternatives when we want to put our XXXs to the test.'"
      ],
      "text/plain": [
       "[1] \"Evidence for a XXX (or XXX) must be considered against alternative XXXs. Let me describe a neutral (and very simple) example: Assume I say I have Extra Sensorial Perception (ESP) and tell you that the next dice throw will be 1. You throw the dice and I was right. That is evidence for my claim of ESP. However there's an alternative XXX ('just a lucky guess') that also explains it and it's much more likely to be the right XXX (because ESP needs much more assumptions, many of those in conflict with accepted facts and theories). This is a subject of statistical inference. It's crucial to consider the alternatives when we want to put our XXXs to the test.\""
      ]
     },
     "metadata": {},
     "output_type": "display_data"
    }
   ],
   "source": [
    "# belief 또는 model 이라는 문자를 XXX로 변경\n",
    "gsub(\"belief|model\",\"XXX\",text.test) "
   ]
  },
  {
   "cell_type": "code",
   "execution_count": 72,
   "metadata": {
    "collapsed": false
   },
   "outputs": [
    {
     "data": {
      "text/html": [
       "'Evidence for a model (or belief) must be considered against alXXXive models. Let me describe a neutral (and very simple) example: Assume I say I have Extra Sensorial Perception (ESP) and tell you XXX the next dice throw will be 1. You throw the dice and I was right. That is evidence for my claim of ESP. However there\\'s an alXXXive model (\\'just a lucky guess\\') XXX also explains it and it\\'s much more likely to be the right model (because ESP needs much more assumptions, many of those in conflict with accepted facts and theories). This is a subject of sXXXical inference. It\\'s crucial to consider the alXXXives when we want to put our beliefs to the XXX.'"
      ],
      "text/latex": [
       "'Evidence for a model (or belief) must be considered against alXXXive models. Let me describe a neutral (and very simple) example: Assume I say I have Extra Sensorial Perception (ESP) and tell you XXX the next dice throw will be 1. You throw the dice and I was right. That is evidence for my claim of ESP. However there\\textbackslash{}'s an alXXXive model (\\textbackslash{}'just a lucky guess\\textbackslash{}') XXX also explains it and it\\textbackslash{}'s much more likely to be the right model (because ESP needs much more assumptions, many of those in conflict with accepted facts and theories). This is a subject of sXXXical inference. It\\textbackslash{}'s crucial to consider the alXXXives when we want to put our beliefs to the XXX.'"
      ],
      "text/markdown": [
       "'Evidence for a model (or belief) must be considered against alXXXive models. Let me describe a neutral (and very simple) example: Assume I say I have Extra Sensorial Perception (ESP) and tell you XXX the next dice throw will be 1. You throw the dice and I was right. That is evidence for my claim of ESP. However there\\'s an alXXXive model (\\'just a lucky guess\\') XXX also explains it and it\\'s much more likely to be the right model (because ESP needs much more assumptions, many of those in conflict with accepted facts and theories). This is a subject of sXXXical inference. It\\'s crucial to consider the alXXXives when we want to put our beliefs to the XXX.'"
      ],
      "text/plain": [
       "[1] \"Evidence for a model (or belief) must be considered against alXXXive models. Let me describe a neutral (and very simple) example: Assume I say I have Extra Sensorial Perception (ESP) and tell you XXX the next dice throw will be 1. You throw the dice and I was right. That is evidence for my claim of ESP. However there's an alXXXive model ('just a lucky guess') XXX also explains it and it's much more likely to be the right model (because ESP needs much more assumptions, many of those in conflict with accepted facts and theories). This is a subject of sXXXical inference. It's crucial to consider the alXXXives when we want to put our beliefs to the XXX.\""
      ]
     },
     "metadata": {},
     "output_type": "display_data"
    }
   ],
   "source": [
    "# t ~~ ?t : t로 둘러쌓여있는 문자중에서\n",
    "# [a-z]* : 0번 이상 나온 모든 문자들 XXX로 변경\n",
    "gsub(\"t([a-z]*)?t\",\"XXX\",text.test)"
   ]
  },
  {
   "cell_type": "markdown",
   "metadata": {},
   "source": [
    "- [a-z]+ : [a-z]가 적어도 한번 이상\n",
    "- [a-z]*  : [a-z]가 0번 이상\n",
    "- [a-z]? : [a-z]가 0 or 1번"
   ]
  },
  {
   "cell_type": "code",
   "execution_count": 76,
   "metadata": {
    "collapsed": false
   },
   "outputs": [
    {
     "data": {
      "text/html": [
       "'Evidence for a model (or belief) must be considered against alternative models. Let me describe a neutral (and very simple) example: AYYume I say I have Extra Sensorial Perception (ESP) and teYY you that the next dice throw wiYY be 1. You throw the dice and I was right. That is evidence for my claim of ESP. However there\\'s an alternative model (\\'just a lucky gueYY\\') that also explains it and it\\'s much more likely to be the right model (because ESP nYYds much more aYYumptions, many of those in conflict with aYYepted facts and theories). This is a subject of statistical inference. It\\'s crucial to consider the alternatives when we want to put our beliefs to the test.'"
      ],
      "text/latex": [
       "'Evidence for a model (or belief) must be considered against alternative models. Let me describe a neutral (and very simple) example: AYYume I say I have Extra Sensorial Perception (ESP) and teYY you that the next dice throw wiYY be 1. You throw the dice and I was right. That is evidence for my claim of ESP. However there\\textbackslash{}'s an alternative model (\\textbackslash{}'just a lucky gueYY\\textbackslash{}') that also explains it and it\\textbackslash{}'s much more likely to be the right model (because ESP nYYds much more aYYumptions, many of those in conflict with aYYepted facts and theories). This is a subject of statistical inference. It\\textbackslash{}'s crucial to consider the alternatives when we want to put our beliefs to the test.'"
      ],
      "text/markdown": [
       "'Evidence for a model (or belief) must be considered against alternative models. Let me describe a neutral (and very simple) example: AYYume I say I have Extra Sensorial Perception (ESP) and teYY you that the next dice throw wiYY be 1. You throw the dice and I was right. That is evidence for my claim of ESP. However there\\'s an alternative model (\\'just a lucky gueYY\\') that also explains it and it\\'s much more likely to be the right model (because ESP nYYds much more aYYumptions, many of those in conflict with aYYepted facts and theories). This is a subject of statistical inference. It\\'s crucial to consider the alternatives when we want to put our beliefs to the test.'"
      ],
      "text/plain": [
       "[1] \"Evidence for a model (or belief) must be considered against alternative models. Let me describe a neutral (and very simple) example: AYYume I say I have Extra Sensorial Perception (ESP) and teYY you that the next dice throw wiYY be 1. You throw the dice and I was right. That is evidence for my claim of ESP. However there's an alternative model ('just a lucky gueYY') that also explains it and it's much more likely to be the right model (because ESP nYYds much more aYYumptions, many of those in conflict with aYYepted facts and theories). This is a subject of statistical inference. It's crucial to consider the alternatives when we want to put our beliefs to the test.\""
      ]
     },
     "metadata": {},
     "output_type": "display_data"
    }
   ],
   "source": [
    "# 반복 문자 지우기\n",
    "# [a-z]가 2번 반복된 경우 \n",
    "# ex) ee, ss\n",
    "gsub(\"([a-z])\\\\1\",\"YY\",text.test) "
   ]
  },
  {
   "cell_type": "code",
   "execution_count": 77,
   "metadata": {
    "collapsed": false
   },
   "outputs": [
    {
     "data": {
      "text/html": [
       "'Evidence for a *model* (or belief) must be considered against alternative *model*s. Let me describe a neutral (and very simple) example: Assume I say I have Extra Sensorial Perception (ESP) and tell you that the next dice throw will be 1. You throw the dice and I was right. That is evidence for my claim of ESP. However there\\'s an alternative *model* (\\'just a lucky guess\\') that also explains it and it\\'s much more likely to be the right *model* (because ESP needs much more assumptions, many of those in conflict with accepted facts and theories). This is a subject of statistical inference. It\\'s crucial to consider the alternatives when we want to put our beliefs to the test.'"
      ],
      "text/latex": [
       "'Evidence for a *model* (or belief) must be considered against alternative *model*s. Let me describe a neutral (and very simple) example: Assume I say I have Extra Sensorial Perception (ESP) and tell you that the next dice throw will be 1. You throw the dice and I was right. That is evidence for my claim of ESP. However there\\textbackslash{}'s an alternative *model* (\\textbackslash{}'just a lucky guess\\textbackslash{}') that also explains it and it\\textbackslash{}'s much more likely to be the right *model* (because ESP needs much more assumptions, many of those in conflict with accepted facts and theories). This is a subject of statistical inference. It\\textbackslash{}'s crucial to consider the alternatives when we want to put our beliefs to the test.'"
      ],
      "text/markdown": [
       "'Evidence for a *model* (or belief) must be considered against alternative *model*s. Let me describe a neutral (and very simple) example: Assume I say I have Extra Sensorial Perception (ESP) and tell you that the next dice throw will be 1. You throw the dice and I was right. That is evidence for my claim of ESP. However there\\'s an alternative *model* (\\'just a lucky guess\\') that also explains it and it\\'s much more likely to be the right *model* (because ESP needs much more assumptions, many of those in conflict with accepted facts and theories). This is a subject of statistical inference. It\\'s crucial to consider the alternatives when we want to put our beliefs to the test.'"
      ],
      "text/plain": [
       "[1] \"Evidence for a *model* (or belief) must be considered against alternative *model*s. Let me describe a neutral (and very simple) example: Assume I say I have Extra Sensorial Perception (ESP) and tell you that the next dice throw will be 1. You throw the dice and I was right. That is evidence for my claim of ESP. However there's an alternative *model* ('just a lucky guess') that also explains it and it's much more likely to be the right *model* (because ESP needs much more assumptions, many of those in conflict with accepted facts and theories). This is a subject of statistical inference. It's crucial to consider the alternatives when we want to put our beliefs to the test.\""
      ]
     },
     "metadata": {},
     "output_type": "display_data"
    }
   ],
   "source": [
    "# model이라는 문자의 좌우에 * 추가\n",
    "gsub(\"(model)\",\"*\\\\1*\",text.test) "
   ]
  },
  {
   "cell_type": "code",
   "execution_count": 80,
   "metadata": {
    "collapsed": false
   },
   "outputs": [
    {
     "data": {
      "text/html": [
       "'Eidvence for a model (or belief) must be considered against alternative models. Let me describe a neutral (and very simple) example: Assume I say I have Extra Sensorial Perception (ESP) and tell you that the next dice throw will be 1. You throw the dice and I was right. That is eidvence for my claim of ESP. However there\\'s an alternative model (\\'just a lucky guess\\') that also explains it and it\\'s much more likely to be the right model (because ESP needs much more assumptions, many of those in conflict with accepted facts and theories). This is a subject of statistical inference. It\\'s crucial to consider the alternatives when we want to put our beliefs to the test.'"
      ],
      "text/latex": [
       "'Eidvence for a model (or belief) must be considered against alternative models. Let me describe a neutral (and very simple) example: Assume I say I have Extra Sensorial Perception (ESP) and tell you that the next dice throw will be 1. You throw the dice and I was right. That is eidvence for my claim of ESP. However there\\textbackslash{}'s an alternative model (\\textbackslash{}'just a lucky guess\\textbackslash{}') that also explains it and it\\textbackslash{}'s much more likely to be the right model (because ESP needs much more assumptions, many of those in conflict with accepted facts and theories). This is a subject of statistical inference. It\\textbackslash{}'s crucial to consider the alternatives when we want to put our beliefs to the test.'"
      ],
      "text/markdown": [
       "'Eidvence for a model (or belief) must be considered against alternative models. Let me describe a neutral (and very simple) example: Assume I say I have Extra Sensorial Perception (ESP) and tell you that the next dice throw will be 1. You throw the dice and I was right. That is eidvence for my claim of ESP. However there\\'s an alternative model (\\'just a lucky guess\\') that also explains it and it\\'s much more likely to be the right model (because ESP needs much more assumptions, many of those in conflict with accepted facts and theories). This is a subject of statistical inference. It\\'s crucial to consider the alternatives when we want to put our beliefs to the test.'"
      ],
      "text/plain": [
       "[1] \"Eidvence for a model (or belief) must be considered against alternative models. Let me describe a neutral (and very simple) example: Assume I say I have Extra Sensorial Perception (ESP) and tell you that the next dice throw will be 1. You throw the dice and I was right. That is eidvence for my claim of ESP. However there's an alternative model ('just a lucky guess') that also explains it and it's much more likely to be the right model (because ESP needs much more assumptions, many of those in conflict with accepted facts and theories). This is a subject of statistical inference. It's crucial to consider the alternatives when we want to put our beliefs to the test.\""
      ]
     },
     "metadata": {},
     "output_type": "display_data"
    }
   ],
   "source": [
    "# vid가 들어가는 부분을 idv로 변경\n",
    "gsub(\"(v)(i)(d)\",\"\\\\2\\\\3\\\\1\", text.test)"
   ]
  },
  {
   "cell_type": "code",
   "execution_count": 82,
   "metadata": {
    "collapsed": false
   },
   "outputs": [
    {
     "data": {
      "text/html": [
       "'Evidence for a model (or belief) must be considered %against* %alternative* models. Let me describe a neutral (%and* very simple) example: %Assume* I say I have Extra Sensorial Perception (ESP) %and* tell you that the next dice throw will be 1. You throw the dice %and* I was right. That is evidence for my claim of ESP. However there\\'s %an* %alternative* model (\\'just a lucky guess\\') that %also* explains it %and* it\\'s much more likely to be the right model (because ESP needs much more %assumptions*, many of those in conflict with %accepted* facts %and* theories). This is a subject of statistical inference. It\\'s crucial to consider the %alternatives* when we want to put our beliefs to the test.'"
      ],
      "text/latex": [
       "'Evidence for a model (or belief) must be considered \\%against* \\%alternative* models. Let me describe a neutral (\\%and* very simple) example: \\%Assume* I say I have Extra Sensorial Perception (ESP) \\%and* tell you that the next dice throw will be 1. You throw the dice \\%and* I was right. That is evidence for my claim of ESP. However there\\textbackslash{}'s \\%an* \\%alternative* model (\\textbackslash{}'just a lucky guess\\textbackslash{}') that \\%also* explains it \\%and* it\\textbackslash{}'s much more likely to be the right model (because ESP needs much more \\%assumptions*, many of those in conflict with \\%accepted* facts \\%and* theories). This is a subject of statistical inference. It\\textbackslash{}'s crucial to consider the \\%alternatives* when we want to put our beliefs to the test.'"
      ],
      "text/markdown": [
       "'Evidence for a model (or belief) must be considered %against* %alternative* models. Let me describe a neutral (%and* very simple) example: %Assume* I say I have Extra Sensorial Perception (ESP) %and* tell you that the next dice throw will be 1. You throw the dice %and* I was right. That is evidence for my claim of ESP. However there\\'s %an* %alternative* model (\\'just a lucky guess\\') that %also* explains it %and* it\\'s much more likely to be the right model (because ESP needs much more %assumptions*, many of those in conflict with %accepted* facts %and* theories). This is a subject of statistical inference. It\\'s crucial to consider the %alternatives* when we want to put our beliefs to the test.'"
      ],
      "text/plain": [
       "[1] \"Evidence for a model (or belief) must be considered %against* %alternative* models. Let me describe a neutral (%and* very simple) example: %Assume* I say I have Extra Sensorial Perception (ESP) %and* tell you that the next dice throw will be 1. You throw the dice %and* I was right. That is evidence for my claim of ESP. However there's %an* %alternative* model ('just a lucky guess') that %also* explains it %and* it's much more likely to be the right model (because ESP needs much more %assumptions*, many of those in conflict with %accepted* facts %and* theories). This is a subject of statistical inference. It's crucial to consider the %alternatives* when we want to put our beliefs to the test.\""
      ]
     },
     "metadata": {},
     "output_type": "display_data"
    }
   ],
   "source": [
    "# ([^a-zA-Z]) : 어떤 알파벳으로 시작하던지간에\n",
    "# ([aA][a-z]+) : 중간에 a 또는 A가 들어가고 소문자로 끝나면\n",
    "# \\\\1% : 첫 번째에는 %를 넣고\n",
    "# \\\\2* : 두 번째에는 *를 넣어라\n",
    "gsub(\"([^a-zA-Z])([aA][a-z]+)\",\"\\\\1%\\\\2*\",text.test) "
   ]
  },
  {
   "cell_type": "code",
   "execution_count": 92,
   "metadata": {
    "collapsed": false
   },
   "outputs": [
    {
     "data": {
      "text/html": [
       "'Evidence ZZZ a model (ZZZ belief) must ZZZ considered against alternative models. Let ZZZ describe ZZZ neutral (ZZZ very simple) example: Assume I ZZZ I have Extra Sensorial Perception (ESP) ZZZ tell ZZZ that ZZZ next dice throw will ZZZ 1. You throw ZZZ dice ZZZ I ZZZ right. That ZZZ evidence ZZZ my claim ZZZ ESP. However there\\'ZZZ an alternative model (\\'just ZZZ lucky guess\\') that also explains ZZZ and ZZZ\\'s much more likely ZZZ be ZZZ right model (because ESP needs much more assumptions, many ZZZ those ZZZ conflict with accepted facts ZZZ theories). This ZZZ a subject ZZZ statistical inference. It\\'ZZZ crucial ZZZ consider ZZZ alternatives when ZZZ want ZZZ put ZZZ beliefs ZZZ the test.'"
      ],
      "text/latex": [
       "'Evidence ZZZ a model (ZZZ belief) must ZZZ considered against alternative models. Let ZZZ describe ZZZ neutral (ZZZ very simple) example: Assume I ZZZ I have Extra Sensorial Perception (ESP) ZZZ tell ZZZ that ZZZ next dice throw will ZZZ 1. You throw ZZZ dice ZZZ I ZZZ right. That ZZZ evidence ZZZ my claim ZZZ ESP. However there\\textbackslash{}'ZZZ an alternative model (\\textbackslash{}'just ZZZ lucky guess\\textbackslash{}') that also explains ZZZ and ZZZ\\textbackslash{}'s much more likely ZZZ be ZZZ right model (because ESP needs much more assumptions, many ZZZ those ZZZ conflict with accepted facts ZZZ theories). This ZZZ a subject ZZZ statistical inference. It\\textbackslash{}'ZZZ crucial ZZZ consider ZZZ alternatives when ZZZ want ZZZ put ZZZ beliefs ZZZ the test.'"
      ],
      "text/markdown": [
       "'Evidence ZZZ a model (ZZZ belief) must ZZZ considered against alternative models. Let ZZZ describe ZZZ neutral (ZZZ very simple) example: Assume I ZZZ I have Extra Sensorial Perception (ESP) ZZZ tell ZZZ that ZZZ next dice throw will ZZZ 1. You throw ZZZ dice ZZZ I ZZZ right. That ZZZ evidence ZZZ my claim ZZZ ESP. However there\\'ZZZ an alternative model (\\'just ZZZ lucky guess\\') that also explains ZZZ and ZZZ\\'s much more likely ZZZ be ZZZ right model (because ESP needs much more assumptions, many ZZZ those ZZZ conflict with accepted facts ZZZ theories). This ZZZ a subject ZZZ statistical inference. It\\'ZZZ crucial ZZZ consider ZZZ alternatives when ZZZ want ZZZ put ZZZ beliefs ZZZ the test.'"
      ],
      "text/plain": [
       "[1] \"Evidence ZZZ a model (ZZZ belief) must ZZZ considered against alternative models. Let ZZZ describe ZZZ neutral (ZZZ very simple) example: Assume I ZZZ I have Extra Sensorial Perception (ESP) ZZZ tell ZZZ that ZZZ next dice throw will ZZZ 1. You throw ZZZ dice ZZZ I ZZZ right. That ZZZ evidence ZZZ my claim ZZZ ESP. However there'ZZZ an alternative model ('just ZZZ lucky guess') that also explains ZZZ and ZZZ's much more likely ZZZ be ZZZ right model (because ESP needs much more assumptions, many ZZZ those ZZZ conflict with accepted facts ZZZ theories). This ZZZ a subject ZZZ statistical inference. It'ZZZ crucial ZZZ consider ZZZ alternatives when ZZZ want ZZZ put ZZZ beliefs ZZZ the test.\""
      ]
     },
     "metadata": {},
     "output_type": "display_data"
    }
   ],
   "source": [
    "gsub(\"([^a-zA-Z])([a-z]){1,3}([^a-zA-Z])\",\"\\\\1ZZZ\\\\3\",\n",
    "     text.test) "
   ]
  },
  {
   "cell_type": "code",
   "execution_count": 94,
   "metadata": {
    "collapsed": false
   },
   "outputs": [
    {
     "data": {
      "text/html": [
       "<ol class=list-inline>\n",
       "\t<li>'Evidence'</li>\n",
       "\t<li>'for'</li>\n",
       "\t<li>'a'</li>\n",
       "\t<li>'model'</li>\n",
       "\t<li>'or'</li>\n",
       "\t<li>'belief'</li>\n",
       "\t<li>'must'</li>\n",
       "\t<li>'be'</li>\n",
       "\t<li>'considered'</li>\n",
       "\t<li>'against'</li>\n",
       "\t<li>'alternative'</li>\n",
       "\t<li>'models'</li>\n",
       "\t<li>'Let'</li>\n",
       "\t<li>'me'</li>\n",
       "\t<li>'describe'</li>\n",
       "\t<li>'a'</li>\n",
       "\t<li>'neutral'</li>\n",
       "\t<li>'and'</li>\n",
       "\t<li>'very'</li>\n",
       "\t<li>'simple'</li>\n",
       "\t<li>'example'</li>\n",
       "\t<li>'Assume'</li>\n",
       "\t<li>'I'</li>\n",
       "\t<li>'say'</li>\n",
       "\t<li>'I'</li>\n",
       "\t<li>'have'</li>\n",
       "\t<li>'Extra'</li>\n",
       "\t<li>'Sensorial'</li>\n",
       "\t<li>'Perception'</li>\n",
       "\t<li>'ESP'</li>\n",
       "\t<li>'and'</li>\n",
       "\t<li>'tell'</li>\n",
       "\t<li>'you'</li>\n",
       "\t<li>'that'</li>\n",
       "\t<li>'the'</li>\n",
       "\t<li>'next'</li>\n",
       "\t<li>'dice'</li>\n",
       "\t<li>'throw'</li>\n",
       "\t<li>'will'</li>\n",
       "\t<li>'be'</li>\n",
       "\t<li>'1'</li>\n",
       "\t<li>'You'</li>\n",
       "\t<li>'throw'</li>\n",
       "\t<li>'the'</li>\n",
       "\t<li>'dice'</li>\n",
       "\t<li>'and'</li>\n",
       "\t<li>'I'</li>\n",
       "\t<li>'was'</li>\n",
       "\t<li>'right'</li>\n",
       "\t<li>'That'</li>\n",
       "\t<li>'is'</li>\n",
       "\t<li>'evidence'</li>\n",
       "\t<li>'for'</li>\n",
       "\t<li>'my'</li>\n",
       "\t<li>'claim'</li>\n",
       "\t<li>'of'</li>\n",
       "\t<li>'ESP'</li>\n",
       "\t<li>'However'</li>\n",
       "\t<li>'there'</li>\n",
       "\t<li>'s'</li>\n",
       "\t<li>'an'</li>\n",
       "\t<li>'alternative'</li>\n",
       "\t<li>'model'</li>\n",
       "\t<li>'just'</li>\n",
       "\t<li>'a'</li>\n",
       "\t<li>'lucky'</li>\n",
       "\t<li>'guess'</li>\n",
       "\t<li>'that'</li>\n",
       "\t<li>'also'</li>\n",
       "\t<li>'explains'</li>\n",
       "\t<li>'it'</li>\n",
       "\t<li>'and'</li>\n",
       "\t<li>'it'</li>\n",
       "\t<li>'s'</li>\n",
       "\t<li>'much'</li>\n",
       "\t<li>'more'</li>\n",
       "\t<li>'likely'</li>\n",
       "\t<li>'to'</li>\n",
       "\t<li>'be'</li>\n",
       "\t<li>'the'</li>\n",
       "\t<li>'right'</li>\n",
       "\t<li>'model'</li>\n",
       "\t<li>'because'</li>\n",
       "\t<li>'ESP'</li>\n",
       "\t<li>'needs'</li>\n",
       "\t<li>'much'</li>\n",
       "\t<li>'more'</li>\n",
       "\t<li>'assumptions'</li>\n",
       "\t<li>'many'</li>\n",
       "\t<li>'of'</li>\n",
       "\t<li>'those'</li>\n",
       "\t<li>'in'</li>\n",
       "\t<li>'conflict'</li>\n",
       "\t<li>'with'</li>\n",
       "\t<li>'accepted'</li>\n",
       "\t<li>'facts'</li>\n",
       "\t<li>'and'</li>\n",
       "\t<li>'theories'</li>\n",
       "\t<li>'This'</li>\n",
       "\t<li>'is'</li>\n",
       "\t<li>'a'</li>\n",
       "\t<li>'subject'</li>\n",
       "\t<li>'of'</li>\n",
       "\t<li>'statistical'</li>\n",
       "\t<li>'inference'</li>\n",
       "\t<li>'It'</li>\n",
       "\t<li>'s'</li>\n",
       "\t<li>'crucial'</li>\n",
       "\t<li>'to'</li>\n",
       "\t<li>'consider'</li>\n",
       "\t<li>'the'</li>\n",
       "\t<li>'alternatives'</li>\n",
       "\t<li>'when'</li>\n",
       "\t<li>'we'</li>\n",
       "\t<li>'want'</li>\n",
       "\t<li>'to'</li>\n",
       "\t<li>'put'</li>\n",
       "\t<li>'our'</li>\n",
       "\t<li>'beliefs'</li>\n",
       "\t<li>'to'</li>\n",
       "\t<li>'the'</li>\n",
       "\t<li>'test'</li>\n",
       "</ol>\n"
      ],
      "text/latex": [
       "\\begin{enumerate*}\n",
       "\\item 'Evidence'\n",
       "\\item 'for'\n",
       "\\item 'a'\n",
       "\\item 'model'\n",
       "\\item 'or'\n",
       "\\item 'belief'\n",
       "\\item 'must'\n",
       "\\item 'be'\n",
       "\\item 'considered'\n",
       "\\item 'against'\n",
       "\\item 'alternative'\n",
       "\\item 'models'\n",
       "\\item 'Let'\n",
       "\\item 'me'\n",
       "\\item 'describe'\n",
       "\\item 'a'\n",
       "\\item 'neutral'\n",
       "\\item 'and'\n",
       "\\item 'very'\n",
       "\\item 'simple'\n",
       "\\item 'example'\n",
       "\\item 'Assume'\n",
       "\\item 'I'\n",
       "\\item 'say'\n",
       "\\item 'I'\n",
       "\\item 'have'\n",
       "\\item 'Extra'\n",
       "\\item 'Sensorial'\n",
       "\\item 'Perception'\n",
       "\\item 'ESP'\n",
       "\\item 'and'\n",
       "\\item 'tell'\n",
       "\\item 'you'\n",
       "\\item 'that'\n",
       "\\item 'the'\n",
       "\\item 'next'\n",
       "\\item 'dice'\n",
       "\\item 'throw'\n",
       "\\item 'will'\n",
       "\\item 'be'\n",
       "\\item '1'\n",
       "\\item 'You'\n",
       "\\item 'throw'\n",
       "\\item 'the'\n",
       "\\item 'dice'\n",
       "\\item 'and'\n",
       "\\item 'I'\n",
       "\\item 'was'\n",
       "\\item 'right'\n",
       "\\item 'That'\n",
       "\\item 'is'\n",
       "\\item 'evidence'\n",
       "\\item 'for'\n",
       "\\item 'my'\n",
       "\\item 'claim'\n",
       "\\item 'of'\n",
       "\\item 'ESP'\n",
       "\\item 'However'\n",
       "\\item 'there'\n",
       "\\item 's'\n",
       "\\item 'an'\n",
       "\\item 'alternative'\n",
       "\\item 'model'\n",
       "\\item 'just'\n",
       "\\item 'a'\n",
       "\\item 'lucky'\n",
       "\\item 'guess'\n",
       "\\item 'that'\n",
       "\\item 'also'\n",
       "\\item 'explains'\n",
       "\\item 'it'\n",
       "\\item 'and'\n",
       "\\item 'it'\n",
       "\\item 's'\n",
       "\\item 'much'\n",
       "\\item 'more'\n",
       "\\item 'likely'\n",
       "\\item 'to'\n",
       "\\item 'be'\n",
       "\\item 'the'\n",
       "\\item 'right'\n",
       "\\item 'model'\n",
       "\\item 'because'\n",
       "\\item 'ESP'\n",
       "\\item 'needs'\n",
       "\\item 'much'\n",
       "\\item 'more'\n",
       "\\item 'assumptions'\n",
       "\\item 'many'\n",
       "\\item 'of'\n",
       "\\item 'those'\n",
       "\\item 'in'\n",
       "\\item 'conflict'\n",
       "\\item 'with'\n",
       "\\item 'accepted'\n",
       "\\item 'facts'\n",
       "\\item 'and'\n",
       "\\item 'theories'\n",
       "\\item 'This'\n",
       "\\item 'is'\n",
       "\\item 'a'\n",
       "\\item 'subject'\n",
       "\\item 'of'\n",
       "\\item 'statistical'\n",
       "\\item 'inference'\n",
       "\\item 'It'\n",
       "\\item 's'\n",
       "\\item 'crucial'\n",
       "\\item 'to'\n",
       "\\item 'consider'\n",
       "\\item 'the'\n",
       "\\item 'alternatives'\n",
       "\\item 'when'\n",
       "\\item 'we'\n",
       "\\item 'want'\n",
       "\\item 'to'\n",
       "\\item 'put'\n",
       "\\item 'our'\n",
       "\\item 'beliefs'\n",
       "\\item 'to'\n",
       "\\item 'the'\n",
       "\\item 'test'\n",
       "\\end{enumerate*}\n"
      ],
      "text/markdown": [
       "1. 'Evidence'\n",
       "2. 'for'\n",
       "3. 'a'\n",
       "4. 'model'\n",
       "5. 'or'\n",
       "6. 'belief'\n",
       "7. 'must'\n",
       "8. 'be'\n",
       "9. 'considered'\n",
       "10. 'against'\n",
       "11. 'alternative'\n",
       "12. 'models'\n",
       "13. 'Let'\n",
       "14. 'me'\n",
       "15. 'describe'\n",
       "16. 'a'\n",
       "17. 'neutral'\n",
       "18. 'and'\n",
       "19. 'very'\n",
       "20. 'simple'\n",
       "21. 'example'\n",
       "22. 'Assume'\n",
       "23. 'I'\n",
       "24. 'say'\n",
       "25. 'I'\n",
       "26. 'have'\n",
       "27. 'Extra'\n",
       "28. 'Sensorial'\n",
       "29. 'Perception'\n",
       "30. 'ESP'\n",
       "31. 'and'\n",
       "32. 'tell'\n",
       "33. 'you'\n",
       "34. 'that'\n",
       "35. 'the'\n",
       "36. 'next'\n",
       "37. 'dice'\n",
       "38. 'throw'\n",
       "39. 'will'\n",
       "40. 'be'\n",
       "41. '1'\n",
       "42. 'You'\n",
       "43. 'throw'\n",
       "44. 'the'\n",
       "45. 'dice'\n",
       "46. 'and'\n",
       "47. 'I'\n",
       "48. 'was'\n",
       "49. 'right'\n",
       "50. 'That'\n",
       "51. 'is'\n",
       "52. 'evidence'\n",
       "53. 'for'\n",
       "54. 'my'\n",
       "55. 'claim'\n",
       "56. 'of'\n",
       "57. 'ESP'\n",
       "58. 'However'\n",
       "59. 'there'\n",
       "60. 's'\n",
       "61. 'an'\n",
       "62. 'alternative'\n",
       "63. 'model'\n",
       "64. 'just'\n",
       "65. 'a'\n",
       "66. 'lucky'\n",
       "67. 'guess'\n",
       "68. 'that'\n",
       "69. 'also'\n",
       "70. 'explains'\n",
       "71. 'it'\n",
       "72. 'and'\n",
       "73. 'it'\n",
       "74. 's'\n",
       "75. 'much'\n",
       "76. 'more'\n",
       "77. 'likely'\n",
       "78. 'to'\n",
       "79. 'be'\n",
       "80. 'the'\n",
       "81. 'right'\n",
       "82. 'model'\n",
       "83. 'because'\n",
       "84. 'ESP'\n",
       "85. 'needs'\n",
       "86. 'much'\n",
       "87. 'more'\n",
       "88. 'assumptions'\n",
       "89. 'many'\n",
       "90. 'of'\n",
       "91. 'those'\n",
       "92. 'in'\n",
       "93. 'conflict'\n",
       "94. 'with'\n",
       "95. 'accepted'\n",
       "96. 'facts'\n",
       "97. 'and'\n",
       "98. 'theories'\n",
       "99. 'This'\n",
       "100. 'is'\n",
       "101. 'a'\n",
       "102. 'subject'\n",
       "103. 'of'\n",
       "104. 'statistical'\n",
       "105. 'inference'\n",
       "106. 'It'\n",
       "107. 's'\n",
       "108. 'crucial'\n",
       "109. 'to'\n",
       "110. 'consider'\n",
       "111. 'the'\n",
       "112. 'alternatives'\n",
       "113. 'when'\n",
       "114. 'we'\n",
       "115. 'want'\n",
       "116. 'to'\n",
       "117. 'put'\n",
       "118. 'our'\n",
       "119. 'beliefs'\n",
       "120. 'to'\n",
       "121. 'the'\n",
       "122. 'test'\n",
       "\n",
       "\n"
      ],
      "text/plain": [
       "  [1] \"Evidence\"     \"for\"          \"a\"            \"model\"        \"or\"          \n",
       "  [6] \"belief\"       \"must\"         \"be\"           \"considered\"   \"against\"     \n",
       " [11] \"alternative\"  \"models\"       \"Let\"          \"me\"           \"describe\"    \n",
       " [16] \"a\"            \"neutral\"      \"and\"          \"very\"         \"simple\"      \n",
       " [21] \"example\"      \"Assume\"       \"I\"            \"say\"          \"I\"           \n",
       " [26] \"have\"         \"Extra\"        \"Sensorial\"    \"Perception\"   \"ESP\"         \n",
       " [31] \"and\"          \"tell\"         \"you\"          \"that\"         \"the\"         \n",
       " [36] \"next\"         \"dice\"         \"throw\"        \"will\"         \"be\"          \n",
       " [41] \"1\"            \"You\"          \"throw\"        \"the\"          \"dice\"        \n",
       " [46] \"and\"          \"I\"            \"was\"          \"right\"        \"That\"        \n",
       " [51] \"is\"           \"evidence\"     \"for\"          \"my\"           \"claim\"       \n",
       " [56] \"of\"           \"ESP\"          \"However\"      \"there\"        \"s\"           \n",
       " [61] \"an\"           \"alternative\"  \"model\"        \"just\"         \"a\"           \n",
       " [66] \"lucky\"        \"guess\"        \"that\"         \"also\"         \"explains\"    \n",
       " [71] \"it\"           \"and\"          \"it\"           \"s\"            \"much\"        \n",
       " [76] \"more\"         \"likely\"       \"to\"           \"be\"           \"the\"         \n",
       " [81] \"right\"        \"model\"        \"because\"      \"ESP\"          \"needs\"       \n",
       " [86] \"much\"         \"more\"         \"assumptions\"  \"many\"         \"of\"          \n",
       " [91] \"those\"        \"in\"           \"conflict\"     \"with\"         \"accepted\"    \n",
       " [96] \"facts\"        \"and\"          \"theories\"     \"This\"         \"is\"          \n",
       "[101] \"a\"            \"subject\"      \"of\"           \"statistical\"  \"inference\"   \n",
       "[106] \"It\"           \"s\"            \"crucial\"      \"to\"           \"consider\"    \n",
       "[111] \"the\"          \"alternatives\" \"when\"         \"we\"           \"want\"        \n",
       "[116] \"to\"           \"put\"          \"our\"          \"beliefs\"      \"to\"          \n",
       "[121] \"the\"          \"test\"        "
      ]
     },
     "metadata": {},
     "output_type": "display_data"
    }
   ],
   "source": [
    "# , . : 공백 () '로 문자열 분리\n",
    "separators <- \"[,.: ()']\"\n",
    "tokens <- strsplit(text.test, separators)[[1]]  \n",
    "# \"\" 제거\n",
    "tokens <- tokens[tokens != \"\"]                  \n",
    "tokens"
   ]
  },
  {
   "cell_type": "code",
   "execution_count": 95,
   "metadata": {
    "collapsed": false
   },
   "outputs": [
    {
     "data": {
      "text/html": [
       "<ol class=list-inline>\n",
       "\t<li>37</li>\n",
       "\t<li>45</li>\n",
       "</ol>\n"
      ],
      "text/latex": [
       "\\begin{enumerate*}\n",
       "\\item 37\n",
       "\\item 45\n",
       "\\end{enumerate*}\n"
      ],
      "text/markdown": [
       "1. 37\n",
       "2. 45\n",
       "\n",
       "\n"
      ],
      "text/plain": [
       "[1] 37 45"
      ]
     },
     "metadata": {},
     "output_type": "display_data"
    }
   ],
   "source": [
    "# dice의 위치가 어디일까요?\n",
    "grep(\"dice\", tokens, fixed=TRUE)"
   ]
  },
  {
   "cell_type": "code",
   "execution_count": 102,
   "metadata": {
    "collapsed": false
   },
   "outputs": [],
   "source": [
    "string <- \"abcedabcfaa\"\n",
    "# string 문자열을 알파벳 1개 단위로 분리하고"
   ]
  },
  {
   "cell_type": "code",
   "execution_count": 103,
   "metadata": {
    "collapsed": false
   },
   "outputs": [
    {
     "data": {
      "text/html": [
       "'a,b,c,e,d,a,b,c,f,a,a,'"
      ],
      "text/latex": [
       "'a,b,c,e,d,a,b,c,f,a,a,'"
      ],
      "text/markdown": [
       "'a,b,c,e,d,a,b,c,f,a,a,'"
      ],
      "text/plain": [
       "[1] \"a,b,c,e,d,a,b,c,f,a,a,\""
      ]
     },
     "metadata": {},
     "output_type": "display_data"
    }
   ],
   "source": [
    "gsub(\"([a-z])\",\"\\\\1,\",string)\n",
    "# 해당 결과를 ,기준으로 다시 분리 => 결과는 list"
   ]
  },
  {
   "cell_type": "code",
   "execution_count": 110,
   "metadata": {
    "collapsed": false
   },
   "outputs": [
    {
     "data": {
      "text/html": [
       "<ol>\n",
       "\t<li><ol class=list-inline>\n",
       "\t<li>'a'</li>\n",
       "\t<li>'b'</li>\n",
       "\t<li>'c'</li>\n",
       "\t<li>'e'</li>\n",
       "\t<li>'d'</li>\n",
       "\t<li>'a'</li>\n",
       "\t<li>'b'</li>\n",
       "\t<li>'c'</li>\n",
       "\t<li>'f'</li>\n",
       "\t<li>'a'</li>\n",
       "\t<li>'a'</li>\n",
       "</ol>\n",
       "</li>\n",
       "</ol>\n"
      ],
      "text/latex": [
       "\\begin{enumerate}\n",
       "\\item \\begin{enumerate*}\n",
       "\\item 'a'\n",
       "\\item 'b'\n",
       "\\item 'c'\n",
       "\\item 'e'\n",
       "\\item 'd'\n",
       "\\item 'a'\n",
       "\\item 'b'\n",
       "\\item 'c'\n",
       "\\item 'f'\n",
       "\\item 'a'\n",
       "\\item 'a'\n",
       "\\end{enumerate*}\n",
       "\n",
       "\\end{enumerate}\n"
      ],
      "text/markdown": [
       "1. 1. 'a'\n",
       "2. 'b'\n",
       "3. 'c'\n",
       "4. 'e'\n",
       "5. 'd'\n",
       "6. 'a'\n",
       "7. 'b'\n",
       "8. 'c'\n",
       "9. 'f'\n",
       "10. 'a'\n",
       "11. 'a'\n",
       "\n",
       "\n",
       "\n",
       "\n",
       "\n"
      ],
      "text/plain": [
       "[[1]]\n",
       " [1] \"a\" \"b\" \"c\" \"e\" \"d\" \"a\" \"b\" \"c\" \"f\" \"a\" \"a\"\n"
      ]
     },
     "metadata": {},
     "output_type": "display_data"
    }
   ],
   "source": [
    "# strsplit 결과가 list이기에 [[1]] (대괄호 2개)\n",
    "strsplit(gsub(\"([a-z])\",\"\\\\1,\",string),\",\")"
   ]
  },
  {
   "cell_type": "code",
   "execution_count": 111,
   "metadata": {
    "collapsed": false
   },
   "outputs": [
    {
     "data": {
      "text/html": [
       "<ol class=list-inline>\n",
       "\t<li>'a'</li>\n",
       "\t<li>'b'</li>\n",
       "\t<li>'c'</li>\n",
       "\t<li>'e'</li>\n",
       "\t<li>'d'</li>\n",
       "\t<li>'a'</li>\n",
       "\t<li>'b'</li>\n",
       "\t<li>'c'</li>\n",
       "\t<li>'f'</li>\n",
       "\t<li>'a'</li>\n",
       "\t<li>'a'</li>\n",
       "</ol>\n"
      ],
      "text/latex": [
       "\\begin{enumerate*}\n",
       "\\item 'a'\n",
       "\\item 'b'\n",
       "\\item 'c'\n",
       "\\item 'e'\n",
       "\\item 'd'\n",
       "\\item 'a'\n",
       "\\item 'b'\n",
       "\\item 'c'\n",
       "\\item 'f'\n",
       "\\item 'a'\n",
       "\\item 'a'\n",
       "\\end{enumerate*}\n"
      ],
      "text/markdown": [
       "1. 'a'\n",
       "2. 'b'\n",
       "3. 'c'\n",
       "4. 'e'\n",
       "5. 'd'\n",
       "6. 'a'\n",
       "7. 'b'\n",
       "8. 'c'\n",
       "9. 'f'\n",
       "10. 'a'\n",
       "11. 'a'\n",
       "\n",
       "\n"
      ],
      "text/plain": [
       " [1] \"a\" \"b\" \"c\" \"e\" \"d\" \"a\" \"b\" \"c\" \"f\" \"a\" \"a\""
      ]
     },
     "metadata": {},
     "output_type": "display_data"
    }
   ],
   "source": [
    "cs <- strsplit(gsub(\"([a-z])\",\"\\\\1,\",string),\",\")[[1]]\n",
    "cs"
   ]
  },
  {
   "cell_type": "markdown",
   "metadata": {},
   "source": [
    "# Regexpr\n",
    "---"
   ]
  },
  {
   "cell_type": "code",
   "execution_count": 113,
   "metadata": {
    "collapsed": false
   },
   "outputs": [],
   "source": [
    "cs <- c(\"aaa\", \"axx\", \"xaa\", \"axx\", \"xxx\", \"xxx\")"
   ]
  },
  {
   "cell_type": "code",
   "execution_count": 115,
   "metadata": {
    "collapsed": false
   },
   "outputs": [
    {
     "data": {
      "text/html": [
       "<ol class=list-inline>\n",
       "\t<li>1</li>\n",
       "\t<li>1</li>\n",
       "\t<li>2</li>\n",
       "\t<li>1</li>\n",
       "\t<li>-1</li>\n",
       "\t<li>-1</li>\n",
       "</ol>\n"
      ],
      "text/latex": [
       "\\begin{enumerate*}\n",
       "\\item 1\n",
       "\\item 1\n",
       "\\item 2\n",
       "\\item 1\n",
       "\\item -1\n",
       "\\item -1\n",
       "\\end{enumerate*}\n"
      ],
      "text/markdown": [
       "1. 1\n",
       "2. 1\n",
       "3. 2\n",
       "4. 1\n",
       "5. -1\n",
       "6. -1\n",
       "\n",
       "\n"
      ],
      "text/plain": [
       "[1]  1  1  2  1 -1 -1\n",
       "attr(,\"match.length\")\n",
       "[1]  1  1  1  1 -1 -1\n",
       "attr(,\"useBytes\")\n",
       "[1] TRUE"
      ]
     },
     "metadata": {},
     "output_type": "display_data"
    }
   ],
   "source": [
    "# regexpr : 처음 매칭되는 요소의 위치를 출력 (-1은 not)\n",
    "regexpr(\"a\", cs)"
   ]
  },
  {
   "cell_type": "code",
   "execution_count": 123,
   "metadata": {
    "collapsed": false
   },
   "outputs": [
    {
     "data": {
      "text/html": [
       "<ol class=list-inline>\n",
       "\t<li>1</li>\n",
       "\t<li>1</li>\n",
       "\t<li>1</li>\n",
       "\t<li>1</li>\n",
       "\t<li>1</li>\n",
       "\t<li>1</li>\n",
       "</ol>\n"
      ],
      "text/latex": [
       "\\begin{enumerate*}\n",
       "\\item 1\n",
       "\\item 1\n",
       "\\item 1\n",
       "\\item 1\n",
       "\\item 1\n",
       "\\item 1\n",
       "\\end{enumerate*}\n"
      ],
      "text/markdown": [
       "1. 1\n",
       "2. 1\n",
       "3. 1\n",
       "4. 1\n",
       "5. 1\n",
       "6. 1\n",
       "\n",
       "\n"
      ],
      "text/plain": [
       "[1] 1 1 1 1 1 1\n",
       "attr(,\"match.length\")\n",
       "[1] 3 1 0 1 0 0\n",
       "attr(,\"useBytes\")\n",
       "[1] TRUE"
      ]
     },
     "metadata": {},
     "output_type": "display_data"
    },
    {
     "data": {
      "text/html": [
       "<ol class=list-inline>\n",
       "\t<li>3</li>\n",
       "\t<li>1</li>\n",
       "\t<li>0</li>\n",
       "\t<li>1</li>\n",
       "\t<li>0</li>\n",
       "\t<li>0</li>\n",
       "</ol>\n"
      ],
      "text/latex": [
       "\\begin{enumerate*}\n",
       "\\item 3\n",
       "\\item 1\n",
       "\\item 0\n",
       "\\item 1\n",
       "\\item 0\n",
       "\\item 0\n",
       "\\end{enumerate*}\n"
      ],
      "text/markdown": [
       "1. 3\n",
       "2. 1\n",
       "3. 0\n",
       "4. 1\n",
       "5. 0\n",
       "6. 0\n",
       "\n",
       "\n"
      ],
      "text/plain": [
       "[1] 3 1 0 1 0 0"
      ]
     },
     "metadata": {},
     "output_type": "display_data"
    }
   ],
   "source": [
    "# a* : a가 0번 이상 => 전부다 1이겠징\n",
    "test <- regexpr(\"a*\", cs)\n",
    "test\n",
    "# attr을 사용하면 매칭되는 문자의 길이를 알 수 있습니다.\n",
    "attr(test, \"match.length\")"
   ]
  },
  {
   "cell_type": "code",
   "execution_count": 124,
   "metadata": {
    "collapsed": true
   },
   "outputs": [],
   "source": [
    "cs <- c(\"123ab67\",\"ab321\",\"10000\",\"0\",\"abc\")"
   ]
  },
  {
   "cell_type": "code",
   "execution_count": 127,
   "metadata": {
    "collapsed": false
   },
   "outputs": [
    {
     "data": {
      "text/html": [
       "<ol>\n",
       "\t<li><ol class=list-inline>\n",
       "\t<li>1</li>\n",
       "\t<li>1</li>\n",
       "</ol>\n",
       "</li>\n",
       "\t<li><ol class=list-inline>\n",
       "\t<li>1</li>\n",
       "\t<li>3</li>\n",
       "</ol>\n",
       "</li>\n",
       "\t<li><ol class=list-inline>\n",
       "\t<li>1</li>\n",
       "\t<li>1</li>\n",
       "</ol>\n",
       "</li>\n",
       "\t<li><ol class=list-inline>\n",
       "\t<li>1</li>\n",
       "\t<li>1</li>\n",
       "</ol>\n",
       "</li>\n",
       "\t<li>-1</li>\n",
       "</ol>\n"
      ],
      "text/latex": [
       "\\begin{enumerate}\n",
       "\\item \\begin{enumerate*}\n",
       "\\item 1\n",
       "\\item 1\n",
       "\\end{enumerate*}\n",
       "\n",
       "\\item \\begin{enumerate*}\n",
       "\\item 1\n",
       "\\item 3\n",
       "\\end{enumerate*}\n",
       "\n",
       "\\item \\begin{enumerate*}\n",
       "\\item 1\n",
       "\\item 1\n",
       "\\end{enumerate*}\n",
       "\n",
       "\\item \\begin{enumerate*}\n",
       "\\item 1\n",
       "\\item 1\n",
       "\\end{enumerate*}\n",
       "\n",
       "\\item -1\n",
       "\\end{enumerate}\n"
      ],
      "text/markdown": [
       "1. 1. 1\n",
       "2. 1\n",
       "\n",
       "\n",
       "\n",
       "2. 1. 1\n",
       "2. 3\n",
       "\n",
       "\n",
       "\n",
       "3. 1. 1\n",
       "2. 1\n",
       "\n",
       "\n",
       "\n",
       "4. 1. 1\n",
       "2. 1\n",
       "\n",
       "\n",
       "\n",
       "5. -1\n",
       "\n",
       "\n"
      ],
      "text/plain": [
       "[[1]]\n",
       "[1] 1 1\n",
       "attr(,\"match.length\")\n",
       "[1] 3 3\n",
       "attr(,\"useBytes\")\n",
       "[1] TRUE\n",
       "\n",
       "[[2]]\n",
       "[1] 1 3\n",
       "attr(,\"match.length\")\n",
       "[1] 5 3\n",
       "attr(,\"useBytes\")\n",
       "[1] TRUE\n",
       "\n",
       "[[3]]\n",
       "[1] 1 1\n",
       "attr(,\"match.length\")\n",
       "[1] 5 5\n",
       "attr(,\"useBytes\")\n",
       "[1] TRUE\n",
       "\n",
       "[[4]]\n",
       "[1] 1 1\n",
       "attr(,\"match.length\")\n",
       "[1] 1 1\n",
       "attr(,\"useBytes\")\n",
       "[1] TRUE\n",
       "\n",
       "[[5]]\n",
       "[1] -1\n",
       "attr(,\"match.length\")\n",
       "[1] -1\n",
       "attr(,\"useBytes\")\n",
       "[1] TRUE\n"
      ]
     },
     "metadata": {},
     "output_type": "display_data"
    }
   ],
   "source": [
    "# 1: [a-z]* : 소문자 알파벳으로 0번 이상 시작하며\n",
    "# 2: [0-9]+ : 숫자가 한 번이라도 나오는 cs의 index위치\n",
    "# [a-z]*([0-9]+) : 알파벳이 0번이상이니 숫자로 시작하는 문자 찾기\n",
    "# 각 표현식에 대한 결과\n",
    "regexec(\"[a-z]*([0-9]+)\",cs) "
   ]
  },
  {
   "cell_type": "markdown",
   "metadata": {},
   "source": [
    "### R에서는 list형태로 출력되기에 다른 결과\n",
    "- [[1]]\n",
    "- [1] 1 1\n",
    "- attr(,\"match.length\")\n",
    "- [1] 3 3\n",
    "- attr(,\"useBytes\")\n",
    "- [1] TRUE\n"
   ]
  },
  {
   "cell_type": "code",
   "execution_count": 131,
   "metadata": {
    "collapsed": false
   },
   "outputs": [
    {
     "data": {
      "text/html": [
       "<ol class=list-inline>\n",
       "\t<li>'the population is 19237 birds'</li>\n",
       "\t<li>'the population is 3147 birds'</li>\n",
       "\t<li>'the population is 35774 birds'</li>\n",
       "\t<li>'the population is 33226 birds'</li>\n",
       "\t<li>'the population is 13242 birds'</li>\n",
       "\t<li>'the population is 15702 birds'</li>\n",
       "</ol>\n"
      ],
      "text/latex": [
       "\\begin{enumerate*}\n",
       "\\item 'the population is 19237 birds'\n",
       "\\item 'the population is 3147 birds'\n",
       "\\item 'the population is 35774 birds'\n",
       "\\item 'the population is 33226 birds'\n",
       "\\item 'the population is 13242 birds'\n",
       "\\item 'the population is 15702 birds'\n",
       "\\end{enumerate*}\n"
      ],
      "text/markdown": [
       "1. 'the population is 19237 birds'\n",
       "2. 'the population is 3147 birds'\n",
       "3. 'the population is 35774 birds'\n",
       "4. 'the population is 33226 birds'\n",
       "5. 'the population is 13242 birds'\n",
       "6. 'the population is 15702 birds'\n",
       "\n",
       "\n"
      ],
      "text/plain": [
       "[1] \"the population is 19237 birds\" \"the population is 3147 birds\" \n",
       "[3] \"the population is 35774 birds\" \"the population is 33226 birds\"\n",
       "[5] \"the population is 13242 birds\" \"the population is 15702 birds\""
      ]
     },
     "metadata": {},
     "output_type": "display_data"
    }
   ],
   "source": [
    "set.seed(101)\n",
    "# 임시 데이터 20개 생성\n",
    "pop.data <- paste(\"the population is\", \n",
    "                  floor(runif(20,1e3,5e4)),\"birds\")\n",
    "head(pop.data)"
   ]
  },
  {
   "cell_type": "code",
   "execution_count": 138,
   "metadata": {
    "collapsed": false
   },
   "outputs": [
    {
     "data": {
      "text/html": [
       "<ol>\n",
       "\t<li><ol class=list-inline>\n",
       "\t<li>1</li>\n",
       "\t<li>19</li>\n",
       "</ol>\n",
       "</li>\n",
       "\t<li><ol class=list-inline>\n",
       "\t<li>1</li>\n",
       "\t<li>19</li>\n",
       "</ol>\n",
       "</li>\n",
       "\t<li><ol class=list-inline>\n",
       "\t<li>1</li>\n",
       "\t<li>19</li>\n",
       "</ol>\n",
       "</li>\n",
       "</ol>\n"
      ],
      "text/latex": [
       "\\begin{enumerate}\n",
       "\\item \\begin{enumerate*}\n",
       "\\item 1\n",
       "\\item 19\n",
       "\\end{enumerate*}\n",
       "\n",
       "\\item \\begin{enumerate*}\n",
       "\\item 1\n",
       "\\item 19\n",
       "\\end{enumerate*}\n",
       "\n",
       "\\item \\begin{enumerate*}\n",
       "\\item 1\n",
       "\\item 19\n",
       "\\end{enumerate*}\n",
       "\n",
       "\\end{enumerate}\n"
      ],
      "text/markdown": [
       "1. 1. 1\n",
       "2. 19\n",
       "\n",
       "\n",
       "\n",
       "2. 1. 1\n",
       "2. 19\n",
       "\n",
       "\n",
       "\n",
       "3. 1. 1\n",
       "2. 19\n",
       "\n",
       "\n",
       "\n",
       "\n",
       "\n"
      ],
      "text/plain": [
       "[[1]]\n",
       "[1]  1 19\n",
       "attr(,\"match.length\")\n",
       "[1] 29  5\n",
       "attr(,\"useBytes\")\n",
       "[1] TRUE\n",
       "\n",
       "[[2]]\n",
       "[1]  1 19\n",
       "attr(,\"match.length\")\n",
       "[1] 28  4\n",
       "attr(,\"useBytes\")\n",
       "[1] TRUE\n",
       "\n",
       "[[3]]\n",
       "[1]  1 19\n",
       "attr(,\"match.length\")\n",
       "[1] 29  5\n",
       "attr(,\"useBytes\")\n",
       "[1] TRUE\n"
      ]
     },
     "metadata": {},
     "output_type": "display_data"
    }
   ],
   "source": [
    "# 1은 숫자들 중에 처음  \n",
    "# 19는 해당 문자열에서 index가 19 => ([0-9]*) 괄호가 필요\n",
    "reg.info <- regexec(\"the population is ([0-9]*) birds\",\n",
    "                    pop.data)\n",
    "reg.info[1:3]"
   ]
  },
  {
   "cell_type": "code",
   "execution_count": 140,
   "metadata": {
    "collapsed": false
   },
   "outputs": [
    {
     "data": {
      "text/html": [
       "<ol>\n",
       "\t<li><ol class=list-inline>\n",
       "\t<li>'the population is 19237 birds'</li>\n",
       "\t<li>'19237'</li>\n",
       "</ol>\n",
       "</li>\n",
       "\t<li><ol class=list-inline>\n",
       "\t<li>'the population is 3147 birds'</li>\n",
       "\t<li>'3147'</li>\n",
       "</ol>\n",
       "</li>\n",
       "\t<li><ol class=list-inline>\n",
       "\t<li>'the population is 35774 birds'</li>\n",
       "\t<li>'35774'</li>\n",
       "</ol>\n",
       "</li>\n",
       "</ol>\n"
      ],
      "text/latex": [
       "\\begin{enumerate}\n",
       "\\item \\begin{enumerate*}\n",
       "\\item 'the population is 19237 birds'\n",
       "\\item '19237'\n",
       "\\end{enumerate*}\n",
       "\n",
       "\\item \\begin{enumerate*}\n",
       "\\item 'the population is 3147 birds'\n",
       "\\item '3147'\n",
       "\\end{enumerate*}\n",
       "\n",
       "\\item \\begin{enumerate*}\n",
       "\\item 'the population is 35774 birds'\n",
       "\\item '35774'\n",
       "\\end{enumerate*}\n",
       "\n",
       "\\end{enumerate}\n"
      ],
      "text/markdown": [
       "1. 1. 'the population is 19237 birds'\n",
       "2. '19237'\n",
       "\n",
       "\n",
       "\n",
       "2. 1. 'the population is 3147 birds'\n",
       "2. '3147'\n",
       "\n",
       "\n",
       "\n",
       "3. 1. 'the population is 35774 birds'\n",
       "2. '35774'\n",
       "\n",
       "\n",
       "\n",
       "\n",
       "\n"
      ],
      "text/plain": [
       "[[1]]\n",
       "[1] \"the population is 19237 birds\" \"19237\"                        \n",
       "\n",
       "[[2]]\n",
       "[1] \"the population is 3147 birds\" \"3147\"                        \n",
       "\n",
       "[[3]]\n",
       "[1] \"the population is 35774 birds\" \"35774\"                        \n"
      ]
     },
     "metadata": {},
     "output_type": "display_data"
    }
   ],
   "source": [
    "# [[1]][1] : ([0-9]*) => 숫자가 포함되는 문자들\n",
    "# [[1]][2] : 일치하는 패턴만 나타내주는 듯\n",
    "reg.data <- regmatches(pop.data, reg.info)\n",
    "reg.data[1:3]"
   ]
  },
  {
   "cell_type": "code",
   "execution_count": 142,
   "metadata": {
    "collapsed": false
   },
   "outputs": [
    {
     "data": {
      "text/html": [
       "<ol class=list-inline>\n",
       "\t<li>'19237'</li>\n",
       "\t<li>'3147'</li>\n",
       "\t<li>'35774'</li>\n",
       "\t<li>'33226'</li>\n",
       "\t<li>'13242'</li>\n",
       "\t<li>'15702'</li>\n",
       "\t<li>'29658'</li>\n",
       "\t<li>'17339'</li>\n",
       "\t<li>'31478'</li>\n",
       "\t<li>'27745'</li>\n",
       "\t<li>'44109'</li>\n",
       "\t<li>'35636'</li>\n",
       "\t<li>'36866'</li>\n",
       "\t<li>'46650'</li>\n",
       "\t<li>'23300'</li>\n",
       "\t<li>'29925'</li>\n",
       "\t<li>'41201'</li>\n",
       "\t<li>'11981'</li>\n",
       "\t<li>'21171'</li>\n",
       "\t<li>'2891'</li>\n",
       "</ol>\n"
      ],
      "text/latex": [
       "\\begin{enumerate*}\n",
       "\\item '19237'\n",
       "\\item '3147'\n",
       "\\item '35774'\n",
       "\\item '33226'\n",
       "\\item '13242'\n",
       "\\item '15702'\n",
       "\\item '29658'\n",
       "\\item '17339'\n",
       "\\item '31478'\n",
       "\\item '27745'\n",
       "\\item '44109'\n",
       "\\item '35636'\n",
       "\\item '36866'\n",
       "\\item '46650'\n",
       "\\item '23300'\n",
       "\\item '29925'\n",
       "\\item '41201'\n",
       "\\item '11981'\n",
       "\\item '21171'\n",
       "\\item '2891'\n",
       "\\end{enumerate*}\n"
      ],
      "text/markdown": [
       "1. '19237'\n",
       "2. '3147'\n",
       "3. '35774'\n",
       "4. '33226'\n",
       "5. '13242'\n",
       "6. '15702'\n",
       "7. '29658'\n",
       "8. '17339'\n",
       "9. '31478'\n",
       "10. '27745'\n",
       "11. '44109'\n",
       "12. '35636'\n",
       "13. '36866'\n",
       "14. '46650'\n",
       "15. '23300'\n",
       "16. '29925'\n",
       "17. '41201'\n",
       "18. '11981'\n",
       "19. '21171'\n",
       "20. '2891'\n",
       "\n",
       "\n"
      ],
      "text/plain": [
       " [1] \"19237\" \"3147\"  \"35774\" \"33226\" \"13242\" \"15702\" \"29658\" \"17339\" \"31478\"\n",
       "[10] \"27745\" \"44109\" \"35636\" \"36866\" \"46650\" \"23300\" \"29925\" \"41201\" \"11981\"\n",
       "[19] \"21171\" \"2891\" "
      ]
     },
     "metadata": {},
     "output_type": "display_data"
    }
   ],
   "source": [
    "# x[2] 즉 [[1]][2]의 결과를 vector형태로 출력(sapply)\n",
    "bird.population <- sapply(reg.data, function(x)x[2])\n",
    "bird.population"
   ]
  },
  {
   "cell_type": "code",
   "execution_count": 147,
   "metadata": {
    "collapsed": false
   },
   "outputs": [
    {
     "data": {
      "text/html": [
       "<ol class=list-inline>\n",
       "\t<li>1</li>\n",
       "\t<li>0</li>\n",
       "\t<li>-2</li>\n",
       "\t<li>0</li>\n",
       "\t<li>-2</li>\n",
       "\t<li>2</li>\n",
       "\t<li>-1</li>\n",
       "\t<li>1</li>\n",
       "\t<li>0</li>\n",
       "\t<li>-1</li>\n",
       "\t<li>-1</li>\n",
       "\t<li>0</li>\n",
       "\t<li>0</li>\n",
       "\t<li>0</li>\n",
       "\t<li>-1</li>\n",
       "\t<li>1</li>\n",
       "\t<li>1</li>\n",
       "\t<li>-2</li>\n",
       "\t<li>1</li>\n",
       "\t<li>1</li>\n",
       "\t<li>0</li>\n",
       "\t<li>1</li>\n",
       "\t<li>1</li>\n",
       "\t<li>1</li>\n",
       "\t<li>-1</li>\n",
       "\t<li>-2</li>\n",
       "\t<li>0</li>\n",
       "\t<li>0</li>\n",
       "\t<li>0</li>\n",
       "\t<li>2</li>\n",
       "\t<li>1</li>\n",
       "\t<li>0</li>\n",
       "\t<li>1</li>\n",
       "\t<li>1</li>\n",
       "\t<li>2</li>\n",
       "\t<li>1</li>\n",
       "\t<li>1</li>\n",
       "\t<li>1</li>\n",
       "\t<li>-1</li>\n",
       "\t<li>1</li>\n",
       "\t<li>1</li>\n",
       "\t<li>0</li>\n",
       "\t<li>-1</li>\n",
       "\t<li>-1</li>\n",
       "\t<li>-1</li>\n",
       "\t<li>-2</li>\n",
       "\t<li>-1</li>\n",
       "\t<li>-2</li>\n",
       "\t<li>-1</li>\n",
       "\t<li>-2</li>\n",
       "\t<li>1</li>\n",
       "\t<li>0</li>\n",
       "\t<li>1</li>\n",
       "\t<li>1</li>\n",
       "\t<li>1</li>\n",
       "\t<li>-1</li>\n",
       "\t<li>0</li>\n",
       "\t<li>1</li>\n",
       "\t<li>1</li>\n",
       "\t<li>-1</li>\n",
       "\t<li>-2</li>\n",
       "\t<li>1</li>\n",
       "\t<li>0</li>\n",
       "\t<li>-1</li>\n",
       "\t<li>2</li>\n",
       "\t<li>1</li>\n",
       "\t<li>-1</li>\n",
       "\t<li>2</li>\n",
       "\t<li>0</li>\n",
       "\t<li>0</li>\n",
       "\t<li>-2</li>\n",
       "\t<li>0</li>\n",
       "\t<li>1</li>\n",
       "\t<li>1</li>\n",
       "\t<li>1</li>\n",
       "\t<li>0</li>\n",
       "\t<li>1</li>\n",
       "\t<li>-1</li>\n",
       "\t<li>-2</li>\n",
       "\t<li>2</li>\n",
       "\t<li>-1</li>\n",
       "\t<li>1</li>\n",
       "\t<li>-1</li>\n",
       "\t<li>1</li>\n",
       "\t<li>1</li>\n",
       "\t<li>1</li>\n",
       "\t<li>0</li>\n",
       "\t<li>-1</li>\n",
       "\t<li>2</li>\n",
       "\t<li>1</li>\n",
       "\t<li>-2</li>\n",
       "\t<li>-2</li>\n",
       "\t<li>0</li>\n",
       "\t<li>-2</li>\n",
       "\t<li>0</li>\n",
       "\t<li>2</li>\n",
       "\t<li>0</li>\n",
       "\t<li>1</li>\n",
       "\t<li>-2</li>\n",
       "\t<li>-1</li>\n",
       "\t<li>2</li>\n",
       "\t<li>0</li>\n",
       "\t<li>-1</li>\n",
       "\t<li>-2</li>\n",
       "\t<li>0</li>\n",
       "\t<li>1</li>\n",
       "\t<li>1</li>\n",
       "\t<li>-1</li>\n",
       "\t<li>0</li>\n",
       "\t<li>1</li>\n",
       "\t<li>1</li>\n",
       "\t<li>-1</li>\n",
       "\t<li>1</li>\n",
       "\t<li>0</li>\n",
       "\t<li>-1</li>\n",
       "\t<li>2</li>\n",
       "\t<li>0</li>\n",
       "\t<li>1</li>\n",
       "\t<li>1</li>\n",
       "\t<li>1</li>\n",
       "\t<li>-1</li>\n",
       "\t<li>-2</li>\n",
       "\t<li>-1</li>\n",
       "\t<li>1</li>\n",
       "\t<li>1</li>\n",
       "\t<li>-2</li>\n",
       "\t<li>2</li>\n",
       "\t<li>1</li>\n",
       "\t<li>1</li>\n",
       "\t<li>-1</li>\n",
       "\t<li>-2</li>\n",
       "\t<li>1</li>\n",
       "\t<li>1</li>\n",
       "\t<li>1</li>\n",
       "\t<li>2</li>\n",
       "\t<li>0</li>\n",
       "\t<li>-1</li>\n",
       "\t<li>1</li>\n",
       "\t<li>-1</li>\n",
       "\t<li>-2</li>\n",
       "\t<li>1</li>\n",
       "\t<li>2</li>\n",
       "\t<li>1</li>\n",
       "\t<li>0</li>\n",
       "\t<li>0</li>\n",
       "\t<li>1</li>\n",
       "\t<li>-1</li>\n",
       "\t<li>-2</li>\n",
       "\t<li>-2</li>\n",
       "\t<li>-1</li>\n",
       "\t<li>1</li>\n",
       "\t<li>1</li>\n",
       "\t<li>-1</li>\n",
       "\t<li>2</li>\n",
       "\t<li>-2</li>\n",
       "\t<li>-1</li>\n",
       "\t<li>-2</li>\n",
       "\t<li>-1</li>\n",
       "\t<li>-1</li>\n",
       "\t<li>-2</li>\n",
       "\t<li>1</li>\n",
       "\t<li>-2</li>\n",
       "\t<li>1</li>\n",
       "\t<li>-1</li>\n",
       "\t<li>2</li>\n",
       "\t<li>0</li>\n",
       "\t<li>0</li>\n",
       "\t<li>2</li>\n",
       "\t<li>0</li>\n",
       "\t<li>1</li>\n",
       "\t<li>1</li>\n",
       "\t<li>-1</li>\n",
       "\t<li>1</li>\n",
       "\t<li>0</li>\n",
       "\t<li>2</li>\n",
       "\t<li>0</li>\n",
       "\t<li>1</li>\n",
       "\t<li>-2</li>\n",
       "\t<li>2</li>\n",
       "\t<li>2</li>\n",
       "\t<li>0</li>\n",
       "\t<li>0</li>\n",
       "\t<li>-2</li>\n",
       "\t<li>1</li>\n",
       "\t<li>0</li>\n",
       "\t<li>1</li>\n",
       "\t<li>0</li>\n",
       "\t<li>1</li>\n",
       "\t<li>0</li>\n",
       "\t<li>1</li>\n",
       "\t<li>-1</li>\n",
       "\t<li>1</li>\n",
       "\t<li>-1</li>\n",
       "\t<li>-1</li>\n",
       "\t<li>-2</li>\n",
       "\t<li>-2</li>\n",
       "\t<li>-2</li>\n",
       "\t<li>-1</li>\n",
       "\t<li>0</li>\n",
       "\t<li>1</li>\n",
       "</ol>\n"
      ],
      "text/latex": [
       "\\begin{enumerate*}\n",
       "\\item 1\n",
       "\\item 0\n",
       "\\item -2\n",
       "\\item 0\n",
       "\\item -2\n",
       "\\item 2\n",
       "\\item -1\n",
       "\\item 1\n",
       "\\item 0\n",
       "\\item -1\n",
       "\\item -1\n",
       "\\item 0\n",
       "\\item 0\n",
       "\\item 0\n",
       "\\item -1\n",
       "\\item 1\n",
       "\\item 1\n",
       "\\item -2\n",
       "\\item 1\n",
       "\\item 1\n",
       "\\item 0\n",
       "\\item 1\n",
       "\\item 1\n",
       "\\item 1\n",
       "\\item -1\n",
       "\\item -2\n",
       "\\item 0\n",
       "\\item 0\n",
       "\\item 0\n",
       "\\item 2\n",
       "\\item 1\n",
       "\\item 0\n",
       "\\item 1\n",
       "\\item 1\n",
       "\\item 2\n",
       "\\item 1\n",
       "\\item 1\n",
       "\\item 1\n",
       "\\item -1\n",
       "\\item 1\n",
       "\\item 1\n",
       "\\item 0\n",
       "\\item -1\n",
       "\\item -1\n",
       "\\item -1\n",
       "\\item -2\n",
       "\\item -1\n",
       "\\item -2\n",
       "\\item -1\n",
       "\\item -2\n",
       "\\item 1\n",
       "\\item 0\n",
       "\\item 1\n",
       "\\item 1\n",
       "\\item 1\n",
       "\\item -1\n",
       "\\item 0\n",
       "\\item 1\n",
       "\\item 1\n",
       "\\item -1\n",
       "\\item -2\n",
       "\\item 1\n",
       "\\item 0\n",
       "\\item -1\n",
       "\\item 2\n",
       "\\item 1\n",
       "\\item -1\n",
       "\\item 2\n",
       "\\item 0\n",
       "\\item 0\n",
       "\\item -2\n",
       "\\item 0\n",
       "\\item 1\n",
       "\\item 1\n",
       "\\item 1\n",
       "\\item 0\n",
       "\\item 1\n",
       "\\item -1\n",
       "\\item -2\n",
       "\\item 2\n",
       "\\item -1\n",
       "\\item 1\n",
       "\\item -1\n",
       "\\item 1\n",
       "\\item 1\n",
       "\\item 1\n",
       "\\item 0\n",
       "\\item -1\n",
       "\\item 2\n",
       "\\item 1\n",
       "\\item -2\n",
       "\\item -2\n",
       "\\item 0\n",
       "\\item -2\n",
       "\\item 0\n",
       "\\item 2\n",
       "\\item 0\n",
       "\\item 1\n",
       "\\item -2\n",
       "\\item -1\n",
       "\\item 2\n",
       "\\item 0\n",
       "\\item -1\n",
       "\\item -2\n",
       "\\item 0\n",
       "\\item 1\n",
       "\\item 1\n",
       "\\item -1\n",
       "\\item 0\n",
       "\\item 1\n",
       "\\item 1\n",
       "\\item -1\n",
       "\\item 1\n",
       "\\item 0\n",
       "\\item -1\n",
       "\\item 2\n",
       "\\item 0\n",
       "\\item 1\n",
       "\\item 1\n",
       "\\item 1\n",
       "\\item -1\n",
       "\\item -2\n",
       "\\item -1\n",
       "\\item 1\n",
       "\\item 1\n",
       "\\item -2\n",
       "\\item 2\n",
       "\\item 1\n",
       "\\item 1\n",
       "\\item -1\n",
       "\\item -2\n",
       "\\item 1\n",
       "\\item 1\n",
       "\\item 1\n",
       "\\item 2\n",
       "\\item 0\n",
       "\\item -1\n",
       "\\item 1\n",
       "\\item -1\n",
       "\\item -2\n",
       "\\item 1\n",
       "\\item 2\n",
       "\\item 1\n",
       "\\item 0\n",
       "\\item 0\n",
       "\\item 1\n",
       "\\item -1\n",
       "\\item -2\n",
       "\\item -2\n",
       "\\item -1\n",
       "\\item 1\n",
       "\\item 1\n",
       "\\item -1\n",
       "\\item 2\n",
       "\\item -2\n",
       "\\item -1\n",
       "\\item -2\n",
       "\\item -1\n",
       "\\item -1\n",
       "\\item -2\n",
       "\\item 1\n",
       "\\item -2\n",
       "\\item 1\n",
       "\\item -1\n",
       "\\item 2\n",
       "\\item 0\n",
       "\\item 0\n",
       "\\item 2\n",
       "\\item 0\n",
       "\\item 1\n",
       "\\item 1\n",
       "\\item -1\n",
       "\\item 1\n",
       "\\item 0\n",
       "\\item 2\n",
       "\\item 0\n",
       "\\item 1\n",
       "\\item -2\n",
       "\\item 2\n",
       "\\item 2\n",
       "\\item 0\n",
       "\\item 0\n",
       "\\item -2\n",
       "\\item 1\n",
       "\\item 0\n",
       "\\item 1\n",
       "\\item 0\n",
       "\\item 1\n",
       "\\item 0\n",
       "\\item 1\n",
       "\\item -1\n",
       "\\item 1\n",
       "\\item -1\n",
       "\\item -1\n",
       "\\item -2\n",
       "\\item -2\n",
       "\\item -2\n",
       "\\item -1\n",
       "\\item 0\n",
       "\\item 1\n",
       "\\end{enumerate*}\n"
      ],
      "text/markdown": [
       "1. 1\n",
       "2. 0\n",
       "3. -2\n",
       "4. 0\n",
       "5. -2\n",
       "6. 2\n",
       "7. -1\n",
       "8. 1\n",
       "9. 0\n",
       "10. -1\n",
       "11. -1\n",
       "12. 0\n",
       "13. 0\n",
       "14. 0\n",
       "15. -1\n",
       "16. 1\n",
       "17. 1\n",
       "18. -2\n",
       "19. 1\n",
       "20. 1\n",
       "21. 0\n",
       "22. 1\n",
       "23. 1\n",
       "24. 1\n",
       "25. -1\n",
       "26. -2\n",
       "27. 0\n",
       "28. 0\n",
       "29. 0\n",
       "30. 2\n",
       "31. 1\n",
       "32. 0\n",
       "33. 1\n",
       "34. 1\n",
       "35. 2\n",
       "36. 1\n",
       "37. 1\n",
       "38. 1\n",
       "39. -1\n",
       "40. 1\n",
       "41. 1\n",
       "42. 0\n",
       "43. -1\n",
       "44. -1\n",
       "45. -1\n",
       "46. -2\n",
       "47. -1\n",
       "48. -2\n",
       "49. -1\n",
       "50. -2\n",
       "51. 1\n",
       "52. 0\n",
       "53. 1\n",
       "54. 1\n",
       "55. 1\n",
       "56. -1\n",
       "57. 0\n",
       "58. 1\n",
       "59. 1\n",
       "60. -1\n",
       "61. -2\n",
       "62. 1\n",
       "63. 0\n",
       "64. -1\n",
       "65. 2\n",
       "66. 1\n",
       "67. -1\n",
       "68. 2\n",
       "69. 0\n",
       "70. 0\n",
       "71. -2\n",
       "72. 0\n",
       "73. 1\n",
       "74. 1\n",
       "75. 1\n",
       "76. 0\n",
       "77. 1\n",
       "78. -1\n",
       "79. -2\n",
       "80. 2\n",
       "81. -1\n",
       "82. 1\n",
       "83. -1\n",
       "84. 1\n",
       "85. 1\n",
       "86. 1\n",
       "87. 0\n",
       "88. -1\n",
       "89. 2\n",
       "90. 1\n",
       "91. -2\n",
       "92. -2\n",
       "93. 0\n",
       "94. -2\n",
       "95. 0\n",
       "96. 2\n",
       "97. 0\n",
       "98. 1\n",
       "99. -2\n",
       "100. -1\n",
       "101. 2\n",
       "102. 0\n",
       "103. -1\n",
       "104. -2\n",
       "105. 0\n",
       "106. 1\n",
       "107. 1\n",
       "108. -1\n",
       "109. 0\n",
       "110. 1\n",
       "111. 1\n",
       "112. -1\n",
       "113. 1\n",
       "114. 0\n",
       "115. -1\n",
       "116. 2\n",
       "117. 0\n",
       "118. 1\n",
       "119. 1\n",
       "120. 1\n",
       "121. -1\n",
       "122. -2\n",
       "123. -1\n",
       "124. 1\n",
       "125. 1\n",
       "126. -2\n",
       "127. 2\n",
       "128. 1\n",
       "129. 1\n",
       "130. -1\n",
       "131. -2\n",
       "132. 1\n",
       "133. 1\n",
       "134. 1\n",
       "135. 2\n",
       "136. 0\n",
       "137. -1\n",
       "138. 1\n",
       "139. -1\n",
       "140. -2\n",
       "141. 1\n",
       "142. 2\n",
       "143. 1\n",
       "144. 0\n",
       "145. 0\n",
       "146. 1\n",
       "147. -1\n",
       "148. -2\n",
       "149. -2\n",
       "150. -1\n",
       "151. 1\n",
       "152. 1\n",
       "153. -1\n",
       "154. 2\n",
       "155. -2\n",
       "156. -1\n",
       "157. -2\n",
       "158. -1\n",
       "159. -1\n",
       "160. -2\n",
       "161. 1\n",
       "162. -2\n",
       "163. 1\n",
       "164. -1\n",
       "165. 2\n",
       "166. 0\n",
       "167. 0\n",
       "168. 2\n",
       "169. 0\n",
       "170. 1\n",
       "171. 1\n",
       "172. -1\n",
       "173. 1\n",
       "174. 0\n",
       "175. 2\n",
       "176. 0\n",
       "177. 1\n",
       "178. -2\n",
       "179. 2\n",
       "180. 2\n",
       "181. 0\n",
       "182. 0\n",
       "183. -2\n",
       "184. 1\n",
       "185. 0\n",
       "186. 1\n",
       "187. 0\n",
       "188. 1\n",
       "189. 0\n",
       "190. 1\n",
       "191. -1\n",
       "192. 1\n",
       "193. -1\n",
       "194. -1\n",
       "195. -2\n",
       "196. -2\n",
       "197. -2\n",
       "198. -1\n",
       "199. 0\n",
       "200. 1\n",
       "\n",
       "\n"
      ],
      "text/plain": [
       "  [1]  1  0 -2  0 -2  2 -1  1  0 -1 -1  0  0  0 -1  1  1 -2  1  1  0  1  1  1 -1\n",
       " [26] -2  0  0  0  2  1  0  1  1  2  1  1  1 -1  1  1  0 -1 -1 -1 -2 -1 -2 -1 -2\n",
       " [51]  1  0  1  1  1 -1  0  1  1 -1 -2  1  0 -1  2  1 -1  2  0  0 -2  0  1  1  1\n",
       " [76]  0  1 -1 -2  2 -1  1 -1  1  1  1  0 -1  2  1 -2 -2  0 -2  0  2  0  1 -2 -1\n",
       "[101]  2  0 -1 -2  0  1  1 -1  0  1  1 -1  1  0 -1  2  0  1  1  1 -1 -2 -1  1  1\n",
       "[126] -2  2  1  1 -1 -2  1  1  1  2  0 -1  1 -1 -2  1  2  1  0  0  1 -1 -2 -2 -1\n",
       "[151]  1  1 -1  2 -2 -1 -2 -1 -1 -2  1 -2  1 -1  2  0  0  2  0  1  1 -1  1  0  2\n",
       "[176]  0  1 -2  2  2  0  0 -2  1  0  1  0  1  0  1 -1  1 -1 -1 -2 -2 -2 -1  0  1"
      ]
     },
     "metadata": {},
     "output_type": "display_data"
    },
    {
     "data": {
      "image/png": "[encoded data removed]",
      "text/plain": [
       "plot without title"
      ]
     },
     "metadata": {},
     "output_type": "display_data"
    }
   ],
   "source": [
    "set.seed(1303)\n",
    "# 난수 time series 생성\n",
    "steps <- sample(-2:2, size=200, \n",
    "                prob=c(.1,.2,.2,.4,.1) ,replace=TRUE)\n",
    "steps\n",
    "# 누적합\n",
    "ts <- cumsum(steps)\n",
    "plot(ts, type=\"l\")"
   ]
  },
  {
   "cell_type": "code",
   "execution_count": 148,
   "metadata": {
    "collapsed": false
   },
   "outputs": [
    {
     "data": {
      "text/html": [
       "'1010101100111011011111100111111111111011100000000111110111001101101110111111001010111101100101111001100111011101101111100011011100111110100111111000011010000001010111111101111101111011111110100000011'"
      ],
      "text/latex": [
       "'1010101100111011011111100111111111111011100000000111110111001101101110111111001010111101100101111001100111011101101111100011011100111110100111111000011010000001010111111101111101111011111110100000011'"
      ],
      "text/markdown": [
       "'1010101100111011011111100111111111111011100000000111110111001101101110111111001010111101100101111001100111011101101111100011011100111110100111111000011010000001010111111101111101111011111110100000011'"
      ],
      "text/plain": [
       "[1] \"1010101100111011011111100111111111111011100000000111110111001101101110111111001010111101100101111001100111011101101111100011011100111110100111111000011010000001010111111101111101111011111110100000011\""
      ]
     },
     "metadata": {},
     "output_type": "display_data"
    }
   ],
   "source": [
    "# 뭐 증가 감소를 나타내는걸 0,1로 표현한듯\n",
    "difs <- sign(diff(ts)>=0)  # 0 if decreased, 1 otherwise\n",
    "\n",
    "bits <- paste0(difs,collapse=\"\")  # colapse into a string of bits\n",
    "bits"
   ]
  },
  {
   "cell_type": "code",
   "execution_count": 149,
   "metadata": {
    "collapsed": false
   },
   "outputs": [
    {
     "data": {
      "text/html": [
       "<ol class=list-inline>\n",
       "\t<li>9</li>\n",
       "\t<li>24</li>\n",
       "\t<li>42</li>\n",
       "\t<li>59</li>\n",
       "\t<li>77</li>\n",
       "\t<li>90</li>\n",
       "\t<li>98</li>\n",
       "\t<li>102</li>\n",
       "\t<li>120</li>\n",
       "\t<li>129</li>\n",
       "\t<li>138</li>\n",
       "\t<li>146</li>\n",
       "\t<li>154</li>\n",
       "\t<li>192</li>\n",
       "</ol>\n"
      ],
      "text/latex": [
       "\\begin{enumerate*}\n",
       "\\item 9\n",
       "\\item 24\n",
       "\\item 42\n",
       "\\item 59\n",
       "\\item 77\n",
       "\\item 90\n",
       "\\item 98\n",
       "\\item 102\n",
       "\\item 120\n",
       "\\item 129\n",
       "\\item 138\n",
       "\\item 146\n",
       "\\item 154\n",
       "\\item 192\n",
       "\\end{enumerate*}\n"
      ],
      "text/markdown": [
       "1. 9\n",
       "2. 24\n",
       "3. 42\n",
       "4. 59\n",
       "5. 77\n",
       "6. 90\n",
       "7. 98\n",
       "8. 102\n",
       "9. 120\n",
       "10. 129\n",
       "11. 138\n",
       "12. 146\n",
       "13. 154\n",
       "14. 192\n",
       "\n",
       "\n"
      ],
      "text/plain": [
       " [1]   9  24  42  59  77  90  98 102 120 129 138 146 154 192\n",
       "attr(,\"match.length\")\n",
       " [1] 2 2 8 2 2 2 2 2 3 2 2 4 6 6\n",
       "attr(,\"useBytes\")\n",
       "[1] TRUE"
      ]
     },
     "metadata": {},
     "output_type": "display_data"
    }
   ],
   "source": [
    "# 00으로 시작되는 부분 index\n",
    "matches <- gregexpr(\"00+\", bits, perl = T)[[1]]\n",
    "matches"
   ]
  },
  {
   "cell_type": "code",
   "execution_count": 151,
   "metadata": {
    "collapsed": false
   },
   "outputs": [
    {
     "data": {
      "text/html": [
       "<ol class=list-inline>\n",
       "\t<li>2</li>\n",
       "\t<li>2</li>\n",
       "\t<li>8</li>\n",
       "\t<li>2</li>\n",
       "\t<li>2</li>\n",
       "\t<li>2</li>\n",
       "\t<li>2</li>\n",
       "\t<li>2</li>\n",
       "\t<li>3</li>\n",
       "\t<li>2</li>\n",
       "\t<li>2</li>\n",
       "\t<li>4</li>\n",
       "\t<li>6</li>\n",
       "\t<li>6</li>\n",
       "</ol>\n"
      ],
      "text/latex": [
       "\\begin{enumerate*}\n",
       "\\item 2\n",
       "\\item 2\n",
       "\\item 8\n",
       "\\item 2\n",
       "\\item 2\n",
       "\\item 2\n",
       "\\item 2\n",
       "\\item 2\n",
       "\\item 3\n",
       "\\item 2\n",
       "\\item 2\n",
       "\\item 4\n",
       "\\item 6\n",
       "\\item 6\n",
       "\\end{enumerate*}\n"
      ],
      "text/markdown": [
       "1. 2\n",
       "2. 2\n",
       "3. 8\n",
       "4. 2\n",
       "5. 2\n",
       "6. 2\n",
       "7. 2\n",
       "8. 2\n",
       "9. 3\n",
       "10. 2\n",
       "11. 2\n",
       "12. 4\n",
       "13. 6\n",
       "14. 6\n",
       "\n",
       "\n"
      ],
      "text/plain": [
       " [1] 2 2 8 2 2 2 2 2 3 2 2 4 6 6"
      ]
     },
     "metadata": {},
     "output_type": "display_data"
    }
   ],
   "source": [
    "# 00으로 시작되는 부분 index에 해당하는 length\n",
    "attributes(matches)$match.length"
   ]
  },
  {
   "cell_type": "markdown",
   "metadata": {},
   "source": [
    "#### 여러개의 0으로 이어지는 부분 출력해서 0의 개수가 특정 수 이상인 부분 찾을 때 좋을듯"
   ]
  },
  {
   "cell_type": "code",
   "execution_count": 154,
   "metadata": {
    "collapsed": false
   },
   "outputs": [
    {
     "data": {
      "image/png": "[encoded data removed]",
      "text/plain": [
       "plot without title"
      ]
     },
     "metadata": {},
     "output_type": "display_data"
    }
   ],
   "source": [
    "plot(ts, type=\"n\")\n",
    "min.y <- rep(min(ts),length(matches))\n",
    "max.y <- rep(max(ts),length(matches))\n",
    "rect(matches, min.y, matches+attributes(matches)$match.length, max.y, col=\"lightgrey\", border=FALSE)\n",
    "points(ts, type=\"l\")"
   ]
  },
  {
   "cell_type": "code",
   "execution_count": 8,
   "metadata": {
    "collapsed": false
   },
   "outputs": [
    {
     "data": {
      "text/html": [
       "'o mapa nao e o territorio'"
      ],
      "text/latex": [
       "'o mapa nao e o territorio'"
      ],
      "text/markdown": [
       "'o mapa nao e o territorio'"
      ],
      "text/plain": [
       "[1] \"o mapa nao e o territorio\""
      ]
     },
     "metadata": {},
     "output_type": "display_data"
    },
    {
     "data": {
      "text/html": [
       "'o mapa nao e o territorio'"
      ],
      "text/latex": [
       "'o mapa nao e o territorio'"
      ],
      "text/markdown": [
       "'o mapa nao e o territorio'"
      ],
      "text/plain": [
       "[1] \"o mapa nao e o territorio\""
      ]
     },
     "metadata": {},
     "output_type": "display_data"
    }
   ],
   "source": [
    "library(stringr)\n",
    "\n",
    "str1 <- c(\"o mapa\")\n",
    "str2 <- c(\"nao e o territorio\")\n",
    "str3 <- str_c(str1,str2, sep=\" \") # paste와 동일 결과\n",
    "str3\n",
    "str4 <- paste(str1, str2)\n",
    "str4"
   ]
  },
  {
   "cell_type": "code",
   "execution_count": 13,
   "metadata": {
    "collapsed": false
   },
   "outputs": [
    {
     "data": {
      "text/html": [
       "'a, b, c, d, e, f, g, h, i, j, k, l, m, n, o, p, q, r, s, t, u, v, w, x, y, z'"
      ],
      "text/latex": [
       "'a, b, c, d, e, f, g, h, i, j, k, l, m, n, o, p, q, r, s, t, u, v, w, x, y, z'"
      ],
      "text/markdown": [
       "'a, b, c, d, e, f, g, h, i, j, k, l, m, n, o, p, q, r, s, t, u, v, w, x, y, z'"
      ],
      "text/plain": [
       "[1] \"a, b, c, d, e, f, g, h, i, j, k, l, m, n, o, p, q, r, s, t, u, v, w, x, y, z\""
      ]
     },
     "metadata": {},
     "output_type": "display_data"
    },
    {
     "data": {
      "text/html": [
       "'A, B, C, D, E, F, G, H, I, J, K, L, M, N, O, P, Q, R, S, T, U, V, W, X, Y, Z'"
      ],
      "text/latex": [
       "'A, B, C, D, E, F, G, H, I, J, K, L, M, N, O, P, Q, R, S, T, U, V, W, X, Y, Z'"
      ],
      "text/markdown": [
       "'A, B, C, D, E, F, G, H, I, J, K, L, M, N, O, P, Q, R, S, T, U, V, W, X, Y, Z'"
      ],
      "text/plain": [
       "[1] \"A, B, C, D, E, F, G, H, I, J, K, L, M, N, O, P, Q, R, S, T, U, V, W, X, Y, Z\""
      ]
     },
     "metadata": {},
     "output_type": "display_data"
    }
   ],
   "source": [
    "# R 내장 letters (소문자 알파벳)\n",
    "str_c(letters, collapse = \", \") # 소문자\n",
    "str_c(LETTERS, collapse = \", \") # 대문자\n"
   ]
  },
  {
   "cell_type": "code",
   "execution_count": 14,
   "metadata": {
    "collapsed": false
   },
   "outputs": [
    {
     "data": {
      "text/html": [
       "25"
      ],
      "text/latex": [
       "25"
      ],
      "text/markdown": [
       "25"
      ],
      "text/plain": [
       "[1] 25"
      ]
     },
     "metadata": {},
     "output_type": "display_data"
    }
   ],
   "source": [
    "str_length(str3) # 공백포함"
   ]
  },
  {
   "cell_type": "code",
   "execution_count": 20,
   "metadata": {
    "collapsed": false
   },
   "outputs": [
    {
     "data": {
      "text/html": [
       "'ababababab'"
      ],
      "text/latex": [
       "'ababababab'"
      ],
      "text/markdown": [
       "'ababababab'"
      ],
      "text/plain": [
       "[1] \"ababababab\""
      ]
     },
     "metadata": {},
     "output_type": "display_data"
    },
    {
     "data": {
      "text/html": [
       "<ol class=list-inline>\n",
       "\t<li>'ab'</li>\n",
       "\t<li>'ab'</li>\n",
       "\t<li>'ab'</li>\n",
       "\t<li>'ab'</li>\n",
       "\t<li>'ab'</li>\n",
       "</ol>\n"
      ],
      "text/latex": [
       "\\begin{enumerate*}\n",
       "\\item 'ab'\n",
       "\\item 'ab'\n",
       "\\item 'ab'\n",
       "\\item 'ab'\n",
       "\\item 'ab'\n",
       "\\end{enumerate*}\n"
      ],
      "text/markdown": [
       "1. 'ab'\n",
       "2. 'ab'\n",
       "3. 'ab'\n",
       "4. 'ab'\n",
       "5. 'ab'\n",
       "\n",
       "\n"
      ],
      "text/plain": [
       "[1] \"ab\" \"ab\" \"ab\" \"ab\" \"ab\""
      ]
     },
     "metadata": {},
     "output_type": "display_data"
    }
   ],
   "source": [
    "str_dup(\"ab\",5)  # 하나의 vector로 반환\n",
    "rep(\"ab\", each = 5) # rep는 반복"
   ]
  },
  {
   "cell_type": "code",
   "execution_count": 21,
   "metadata": {
    "collapsed": false
   },
   "outputs": [
    {
     "data": {
      "text/html": [
       "<ol class=list-inline>\n",
       "\t<li>'ababab'</li>\n",
       "\t<li>'ccc'</li>\n",
       "</ol>\n"
      ],
      "text/latex": [
       "\\begin{enumerate*}\n",
       "\\item 'ababab'\n",
       "\\item 'ccc'\n",
       "\\end{enumerate*}\n"
      ],
      "text/markdown": [
       "1. 'ababab'\n",
       "2. 'ccc'\n",
       "\n",
       "\n"
      ],
      "text/plain": [
       "[1] \"ababab\" \"ccc\"   "
      ]
     },
     "metadata": {},
     "output_type": "display_data"
    }
   ],
   "source": [
    "str_dup(c(\"ab\",\"c\"),3)"
   ]
  },
  {
   "cell_type": "code",
   "execution_count": 22,
   "metadata": {
    "collapsed": false
   },
   "outputs": [
    {
     "data": {
      "text/html": [
       "<ol class=list-inline>\n",
       "\t<li>'ab'</li>\n",
       "\t<li>'abab'</li>\n",
       "\t<li>'ababab'</li>\n",
       "</ol>\n"
      ],
      "text/latex": [
       "\\begin{enumerate*}\n",
       "\\item 'ab'\n",
       "\\item 'abab'\n",
       "\\item 'ababab'\n",
       "\\end{enumerate*}\n"
      ],
      "text/markdown": [
       "1. 'ab'\n",
       "2. 'abab'\n",
       "3. 'ababab'\n",
       "\n",
       "\n"
      ],
      "text/plain": [
       "[1] \"ab\"     \"abab\"   \"ababab\""
      ]
     },
     "metadata": {},
     "output_type": "display_data"
    }
   ],
   "source": [
    "str_dup(\"ab\",1:3)"
   ]
  },
  {
   "cell_type": "code",
   "execution_count": 23,
   "metadata": {
    "collapsed": false
   },
   "outputs": [
    {
     "data": {
      "text/html": [
       "3"
      ],
      "text/latex": [
       "3"
      ],
      "text/markdown": [
       "3"
      ],
      "text/plain": [
       "[1] 3"
      ]
     },
     "metadata": {},
     "output_type": "display_data"
    }
   ],
   "source": [
    "str3\n",
    "str_count(str3, \"r\")  # r의 개수"
   ]
  },
  {
   "cell_type": "code",
   "execution_count": 24,
   "metadata": {
    "collapsed": false
   },
   "outputs": [
    {
     "data": {
      "text/html": [
       "TRUE"
      ],
      "text/latex": [
       "TRUE"
      ],
      "text/markdown": [
       "TRUE"
      ],
      "text/plain": [
       "[1] TRUE"
      ]
     },
     "metadata": {},
     "output_type": "display_data"
    }
   ],
   "source": [
    "str_detect(str3, \"r\")  "
   ]
  },
  {
   "cell_type": "code",
   "execution_count": 27,
   "metadata": {
    "collapsed": false
   },
   "outputs": [
    {
     "data": {
      "text/html": [
       "'o mapa nao e o territorio'"
      ],
      "text/latex": [
       "'o mapa nao e o territorio'"
      ],
      "text/markdown": [
       "'o mapa nao e o territorio'"
      ],
      "text/plain": [
       "[1] \"o mapa nao e o territorio\""
      ]
     },
     "metadata": {},
     "output_type": "display_data"
    },
    {
     "data": {
      "text/html": [
       "'te'"
      ],
      "text/latex": [
       "'te'"
      ],
      "text/markdown": [
       "'te'"
      ],
      "text/plain": [
       "[1] \"te\""
      ]
     },
     "metadata": {},
     "output_type": "display_data"
    },
    {
     "data": {
      "text/html": [
       "'ie'"
      ],
      "text/latex": [
       "'ie'"
      ],
      "text/markdown": [
       "'ie'"
      ],
      "text/plain": [
       "[1] \"ie\""
      ]
     },
     "metadata": {},
     "output_type": "display_data"
    }
   ],
   "source": [
    "# [it][eo]+ => ie, io, te, to 4개의 케이스중 \n",
    "#              가장 먼저 매칭되는 문자를 찾으세요\n",
    "str3\n",
    "str_extract(str3, \"[it][eo]+\") \n",
    "str4 <- \"ie to istel\"\n",
    "str_extract(str4, \"[it][eo]+\") "
   ]
  },
  {
   "cell_type": "code",
   "execution_count": 28,
   "metadata": {
    "collapsed": false
   },
   "outputs": [
    {
     "data": {
      "text/html": [
       "<ol>\n",
       "\t<li><ol class=list-inline>\n",
       "\t<li>'te'</li>\n",
       "\t<li>'to'</li>\n",
       "\t<li>'io'</li>\n",
       "</ol>\n",
       "</li>\n",
       "</ol>\n"
      ],
      "text/latex": [
       "\\begin{enumerate}\n",
       "\\item \\begin{enumerate*}\n",
       "\\item 'te'\n",
       "\\item 'to'\n",
       "\\item 'io'\n",
       "\\end{enumerate*}\n",
       "\n",
       "\\end{enumerate}\n"
      ],
      "text/markdown": [
       "1. 1. 'te'\n",
       "2. 'to'\n",
       "3. 'io'\n",
       "\n",
       "\n",
       "\n",
       "\n",
       "\n"
      ],
      "text/plain": [
       "[[1]]\n",
       "[1] \"te\" \"to\" \"io\"\n"
      ]
     },
     "metadata": {},
     "output_type": "display_data"
    }
   ],
   "source": [
    "str_extract_all(str3, \"[it][eo]+\")"
   ]
  },
  {
   "cell_type": "code",
   "execution_count": 29,
   "metadata": {
    "collapsed": false
   },
   "outputs": [
    {
     "data": {
      "text/html": [
       "<table>\n",
       "<thead><tr><th scope=col>start</th><th scope=col>end</th></tr></thead>\n",
       "<tbody>\n",
       "\t<tr><td>16</td><td>17</td></tr>\n",
       "</tbody>\n",
       "</table>\n"
      ],
      "text/latex": [
       "\\begin{tabular}{ll}\n",
       " start & end\\\\\n",
       "\\hline\n",
       "\t 16 & 17\\\\\n",
       "\\end{tabular}\n"
      ],
      "text/markdown": [
       "\n",
       "start | end | \n",
       "|---|\n",
       "| 16 | 17 | \n",
       "\n",
       "\n"
      ],
      "text/plain": [
       "     start end\n",
       "[1,] 16    17 "
      ]
     },
     "metadata": {},
     "output_type": "display_data"
    }
   ],
   "source": [
    "str_locate(str3, \"[it][eo]+\")  "
   ]
  },
  {
   "cell_type": "code",
   "execution_count": 32,
   "metadata": {
    "collapsed": false
   },
   "outputs": [
    {
     "data": {
      "text/html": [
       "<ol>\n",
       "\t<li><table>\n",
       "<thead><tr><th scope=col>start</th><th scope=col>end</th></tr></thead>\n",
       "<tbody>\n",
       "\t<tr><td>16</td><td>17</td></tr>\n",
       "\t<tr><td>21</td><td>22</td></tr>\n",
       "\t<tr><td>24</td><td>25</td></tr>\n",
       "</tbody>\n",
       "</table>\n",
       "</li>\n",
       "</ol>\n"
      ],
      "text/latex": [
       "\\begin{enumerate}\n",
       "\\item \\begin{tabular}{ll}\n",
       " start & end\\\\\n",
       "\\hline\n",
       "\t 16 & 17\\\\\n",
       "\t 21 & 22\\\\\n",
       "\t 24 & 25\\\\\n",
       "\\end{tabular}\n",
       "\n",
       "\\end{enumerate}\n"
      ],
      "text/markdown": [
       "1. \n",
       "start | end | \n",
       "|---|---|---|\n",
       "| 16 | 17 | \n",
       "| 21 | 22 | \n",
       "| 24 | 25 | \n",
       "\n",
       "\n",
       "\n",
       "\n",
       "\n"
      ],
      "text/plain": [
       "[[1]]\n",
       "     start end\n",
       "[1,]    16  17\n",
       "[2,]    21  22\n",
       "[3,]    24  25\n"
      ]
     },
     "metadata": {},
     "output_type": "display_data"
    },
    {
     "name": "stdout",
     "output_type": "stream",
     "text": [
      "List of 1\n",
      " $ : int [1:3, 1:2] 16 21 24 17 22 25\n",
      "  ..- attr(*, \"dimnames\")=List of 2\n",
      "  .. ..$ : NULL\n",
      "  .. ..$ : chr [1:2] \"start\" \"end\"\n"
     ]
    }
   ],
   "source": [
    "str_locate_all(str3, \"[it][eo]+\")\n",
    "test <- str_locate_all(str3, \"[it][eo]+\")\n",
    "str(test) # 결과는 list형태"
   ]
  },
  {
   "cell_type": "code",
   "execution_count": 33,
   "metadata": {
    "collapsed": false
   },
   "outputs": [
    {
     "data": {
      "text/html": [
       "'o mapa nao e o teRritorio'"
      ],
      "text/latex": [
       "'o mapa nao e o teRritorio'"
      ],
      "text/markdown": [
       "'o mapa nao e o teRritorio'"
      ],
      "text/plain": [
       "[1] \"o mapa nao e o teRritorio\""
      ]
     },
     "metadata": {},
     "output_type": "display_data"
    },
    {
     "data": {
      "text/html": [
       "'o mapa nao e o teRRitoRio'"
      ],
      "text/latex": [
       "'o mapa nao e o teRRitoRio'"
      ],
      "text/markdown": [
       "'o mapa nao e o teRRitoRio'"
      ],
      "text/plain": [
       "[1] \"o mapa nao e o teRRitoRio\""
      ]
     },
     "metadata": {},
     "output_type": "display_data"
    }
   ],
   "source": [
    "str_replace(str3,\"r\",\"R\")      # replace first match\n",
    "str_replace_all(str3,\"r\",\"R\")  # replace all matches"
   ]
  },
  {
   "cell_type": "code",
   "execution_count": 34,
   "metadata": {
    "collapsed": false
   },
   "outputs": [
    {
     "data": {
      "text/html": [
       "<ol>\n",
       "\t<li><ol class=list-inline>\n",
       "\t<li>'o mapa nao '</li>\n",
       "\t<li>' o t'</li>\n",
       "\t<li>'rritorio'</li>\n",
       "</ol>\n",
       "</li>\n",
       "</ol>\n"
      ],
      "text/latex": [
       "\\begin{enumerate}\n",
       "\\item \\begin{enumerate*}\n",
       "\\item 'o mapa nao '\n",
       "\\item ' o t'\n",
       "\\item 'rritorio'\n",
       "\\end{enumerate*}\n",
       "\n",
       "\\end{enumerate}\n"
      ],
      "text/markdown": [
       "1. 1. 'o mapa nao '\n",
       "2. ' o t'\n",
       "3. 'rritorio'\n",
       "\n",
       "\n",
       "\n",
       "\n",
       "\n"
      ],
      "text/plain": [
       "[[1]]\n",
       "[1] \"o mapa nao \" \" o t\"        \"rritorio\"   \n"
      ]
     },
     "metadata": {},
     "output_type": "display_data"
    }
   ],
   "source": [
    "str_split(str3,\"e\") # e를 기준으로 문자를 쪼개라"
   ]
  },
  {
   "cell_type": "code",
   "execution_count": 35,
   "metadata": {
    "collapsed": false
   },
   "outputs": [
    {
     "data": {
      "text/html": [
       "<ol>\n",
       "\t<li><ol class=list-inline>\n",
       "\t<li>'o mapa nao '</li>\n",
       "\t<li>' o territorio'</li>\n",
       "</ol>\n",
       "</li>\n",
       "</ol>\n"
      ],
      "text/latex": [
       "\\begin{enumerate}\n",
       "\\item \\begin{enumerate*}\n",
       "\\item 'o mapa nao '\n",
       "\\item ' o territorio'\n",
       "\\end{enumerate*}\n",
       "\n",
       "\\end{enumerate}\n"
      ],
      "text/markdown": [
       "1. 1. 'o mapa nao '\n",
       "2. ' o territorio'\n",
       "\n",
       "\n",
       "\n",
       "\n",
       "\n"
      ],
      "text/plain": [
       "[[1]]\n",
       "[1] \"o mapa nao \"   \" o territorio\"\n"
      ]
     },
     "metadata": {},
     "output_type": "display_data"
    }
   ],
   "source": [
    "str_split(str3,\"e\",n=2) \n",
    "# argument n(결과로 반환될 개수) \n",
    "# 해당 n이 충족되면 종료"
   ]
  },
  {
   "cell_type": "code",
   "execution_count": 36,
   "metadata": {
    "collapsed": false
   },
   "outputs": [
    {
     "data": {
      "text/html": [
       "'o m'"
      ],
      "text/latex": [
       "'o m'"
      ],
      "text/markdown": [
       "'o m'"
      ],
      "text/plain": [
       "[1] \"o m\""
      ]
     },
     "metadata": {},
     "output_type": "display_data"
    }
   ],
   "source": [
    "str_sub(str3, 1, 3)  "
   ]
  },
  {
   "cell_type": "code",
   "execution_count": 37,
   "metadata": {
    "collapsed": false
   },
   "outputs": [
    {
     "data": {
      "text/html": [
       "<ol class=list-inline>\n",
       "\t<li>'o '</li>\n",
       "\t<li>'ma'</li>\n",
       "\t<li>'pa'</li>\n",
       "\t<li>' n'</li>\n",
       "\t<li>'ao'</li>\n",
       "\t<li>' e'</li>\n",
       "\t<li>' o'</li>\n",
       "\t<li>' t'</li>\n",
       "\t<li>'er'</li>\n",
       "\t<li>'ri'</li>\n",
       "\t<li>'to'</li>\n",
       "\t<li>'ri'</li>\n",
       "</ol>\n"
      ],
      "text/latex": [
       "\\begin{enumerate*}\n",
       "\\item 'o '\n",
       "\\item 'ma'\n",
       "\\item 'pa'\n",
       "\\item ' n'\n",
       "\\item 'ao'\n",
       "\\item ' e'\n",
       "\\item ' o'\n",
       "\\item ' t'\n",
       "\\item 'er'\n",
       "\\item 'ri'\n",
       "\\item 'to'\n",
       "\\item 'ri'\n",
       "\\end{enumerate*}\n"
      ],
      "text/markdown": [
       "1. 'o '\n",
       "2. 'ma'\n",
       "3. 'pa'\n",
       "4. ' n'\n",
       "5. 'ao'\n",
       "6. ' e'\n",
       "7. ' o'\n",
       "8. ' t'\n",
       "9. 'er'\n",
       "10. 'ri'\n",
       "11. 'to'\n",
       "12. 'ri'\n",
       "\n",
       "\n"
      ],
      "text/plain": [
       " [1] \"o \" \"ma\" \"pa\" \" n\" \"ao\" \" e\" \" o\" \" t\" \"er\" \"ri\" \"to\" \"ri\""
      ]
     },
     "metadata": {},
     "output_type": "display_data"
    }
   ],
   "source": [
    "str_sub(str3,\n",
    "        seq(1,24,2), # 1,3,5,7... 23\n",
    "        seq(2,25,2)) # 2,4,6,8... 24\n",
    "# (1,2) / (3,4) ... (23,24) 순서쌍으로 문자가 출력됨"
   ]
  },
  {
   "cell_type": "code",
   "execution_count": 39,
   "metadata": {
    "collapsed": false
   },
   "outputs": [
    {
     "data": {
      "text/html": [
       "'ABCDEF'"
      ],
      "text/latex": [
       "'ABCDEF'"
      ],
      "text/markdown": [
       "'ABCDEF'"
      ],
      "text/plain": [
       "[1] \"ABCDEF\""
      ]
     },
     "metadata": {},
     "output_type": "display_data"
    }
   ],
   "source": [
    "str4 <- \"BBCDEF\"\n",
    "# 특정 문자 위치를 찾아서 변환가능\n",
    "str_sub(str4, 1, 1) <- \"A\"\n",
    "str4"
   ]
  },
  {
   "cell_type": "code",
   "execution_count": 47,
   "metadata": {
    "collapsed": false
   },
   "outputs": [
    {
     "data": {
      "text/html": [
       "<ol class=list-inline>\n",
       "\t<li>'219 733 8965'</li>\n",
       "\t<li>'329-293-8753'</li>\n",
       "\t<li>NA</li>\n",
       "\t<li>'595 794 7569'</li>\n",
       "\t<li>'387 287 6718'</li>\n",
       "\t<li>NA</li>\n",
       "\t<li>'233.398.9187'</li>\n",
       "\t<li>'482 952 3315'</li>\n",
       "\t<li>'239 923 8115'</li>\n",
       "\t<li>'842 566 4692'</li>\n",
       "\t<li>'579-499-7527'</li>\n",
       "\t<li>NA</li>\n",
       "\t<li>'543.355.3679'</li>\n",
       "</ol>\n"
      ],
      "text/latex": [
       "\\begin{enumerate*}\n",
       "\\item '219 733 8965'\n",
       "\\item '329-293-8753'\n",
       "\\item NA\n",
       "\\item '595 794 7569'\n",
       "\\item '387 287 6718'\n",
       "\\item NA\n",
       "\\item '233.398.9187'\n",
       "\\item '482 952 3315'\n",
       "\\item '239 923 8115'\n",
       "\\item '842 566 4692'\n",
       "\\item '579-499-7527'\n",
       "\\item NA\n",
       "\\item '543.355.3679'\n",
       "\\end{enumerate*}\n"
      ],
      "text/markdown": [
       "1. '219 733 8965'\n",
       "2. '329-293-8753'\n",
       "3. NA\n",
       "4. '595 794 7569'\n",
       "5. '387 287 6718'\n",
       "6. NA\n",
       "7. '233.398.9187'\n",
       "8. '482 952 3315'\n",
       "9. '239 923 8115'\n",
       "10. '842 566 4692'\n",
       "11. '579-499-7527'\n",
       "12. NA\n",
       "13. '543.355.3679'\n",
       "\n",
       "\n"
      ],
      "text/plain": [
       " [1] \"219 733 8965\" \"329-293-8753\" NA             \"595 794 7569\" \"387 287 6718\"\n",
       " [6] NA             \"233.398.9187\" \"482 952 3315\" \"239 923 8115\" \"842 566 4692\"\n",
       "[11] \"579-499-7527\" NA             \"543.355.3679\""
      ]
     },
     "metadata": {},
     "output_type": "display_data"
    }
   ],
   "source": [
    "strings <- c(\" 219 733 8965\", \"329-293-8753 \", \"banana\", \"595 794 7569\",\n",
    "  \"387 287 6718\", \"apple\", \"233.398.9187  \", \"482 952 3315\",\n",
    "  \"239 923 8115\", \"842 566 4692\", \"Work: 579-499-7527\", \"$1000\",\n",
    "  \"Home: 543.355.3679\")\n",
    "phone <- \"([2-9][0-9]{2})[- .]([0-9]{3})[- .]([0-9]{4})\"\n",
    "str_extract(strings, phone)\n",
    "\n",
    "# 정규표현식 ()단위로 하나의 결과가 출력되는 듯\n",
    "# [2-9][5-9]{2} : (2~9)(0~9)의 숫자가 적어도 2번 반복\n",
    "# [- .] : - / 공백 / . 이 들어가고 \n",
    "# [0-9]{3}  : 3개의 문자가 0~9사이 숫자\n",
    "# [0-9]{4}  : 4개의 문자가 0~9사이 숫자"
   ]
  },
  {
   "cell_type": "code",
   "execution_count": 48,
   "metadata": {
    "collapsed": false
   },
   "outputs": [
    {
     "data": {
      "text/html": [
       "<table>\n",
       "<tbody>\n",
       "\t<tr><td>219 733 8965</td><td>219         </td><td>733         </td><td>8965        </td></tr>\n",
       "\t<tr><td>329-293-8753</td><td>329         </td><td>293         </td><td>8753        </td></tr>\n",
       "\t<tr><td>NA          </td><td>NA          </td><td>NA          </td><td>NA          </td></tr>\n",
       "\t<tr><td>595 794 7569</td><td>595         </td><td>794         </td><td>7569        </td></tr>\n",
       "\t<tr><td>387 287 6718</td><td>387         </td><td>287         </td><td>6718        </td></tr>\n",
       "\t<tr><td>NA          </td><td>NA          </td><td>NA          </td><td>NA          </td></tr>\n",
       "\t<tr><td>233.398.9187</td><td>233         </td><td>398         </td><td>9187        </td></tr>\n",
       "\t<tr><td>482 952 3315</td><td>482         </td><td>952         </td><td>3315        </td></tr>\n",
       "\t<tr><td>239 923 8115</td><td>239         </td><td>923         </td><td>8115        </td></tr>\n",
       "\t<tr><td>842 566 4692</td><td>842         </td><td>566         </td><td>4692        </td></tr>\n",
       "\t<tr><td>579-499-7527</td><td>579         </td><td>499         </td><td>7527        </td></tr>\n",
       "\t<tr><td>NA          </td><td>NA          </td><td>NA          </td><td>NA          </td></tr>\n",
       "\t<tr><td>543.355.3679</td><td>543         </td><td>355         </td><td>3679        </td></tr>\n",
       "</tbody>\n",
       "</table>\n"
      ],
      "text/latex": [
       "\\begin{tabular}{llll}\n",
       "\t 219 733 8965 & 219          & 733          & 8965        \\\\\n",
       "\t 329-293-8753 & 329          & 293          & 8753        \\\\\n",
       "\t NA           & NA           & NA           & NA          \\\\\n",
       "\t 595 794 7569 & 595          & 794          & 7569        \\\\\n",
       "\t 387 287 6718 & 387          & 287          & 6718        \\\\\n",
       "\t NA           & NA           & NA           & NA          \\\\\n",
       "\t 233.398.9187 & 233          & 398          & 9187        \\\\\n",
       "\t 482 952 3315 & 482          & 952          & 3315        \\\\\n",
       "\t 239 923 8115 & 239          & 923          & 8115        \\\\\n",
       "\t 842 566 4692 & 842          & 566          & 4692        \\\\\n",
       "\t 579-499-7527 & 579          & 499          & 7527        \\\\\n",
       "\t NA           & NA           & NA           & NA          \\\\\n",
       "\t 543.355.3679 & 543          & 355          & 3679        \\\\\n",
       "\\end{tabular}\n"
      ],
      "text/markdown": [
       "\n",
       "| 219 733 8965 | 219          | 733          | 8965         | \n",
       "| 329-293-8753 | 329          | 293          | 8753         | \n",
       "| NA           | NA           | NA           | NA           | \n",
       "| 595 794 7569 | 595          | 794          | 7569         | \n",
       "| 387 287 6718 | 387          | 287          | 6718         | \n",
       "| NA           | NA           | NA           | NA           | \n",
       "| 233.398.9187 | 233          | 398          | 9187         | \n",
       "| 482 952 3315 | 482          | 952          | 3315         | \n",
       "| 239 923 8115 | 239          | 923          | 8115         | \n",
       "| 842 566 4692 | 842          | 566          | 4692         | \n",
       "| 579-499-7527 | 579          | 499          | 7527         | \n",
       "| NA           | NA           | NA           | NA           | \n",
       "| 543.355.3679 | 543          | 355          | 3679         | \n",
       "\n",
       "\n"
      ],
      "text/plain": [
       "      [,1]         [,2] [,3] [,4]\n",
       " [1,] 219 733 8965 219  733  8965\n",
       " [2,] 329-293-8753 329  293  8753\n",
       " [3,] NA           NA   NA   NA  \n",
       " [4,] 595 794 7569 595  794  7569\n",
       " [5,] 387 287 6718 387  287  6718\n",
       " [6,] NA           NA   NA   NA  \n",
       " [7,] 233.398.9187 233  398  9187\n",
       " [8,] 482 952 3315 482  952  3315\n",
       " [9,] 239 923 8115 239  923  8115\n",
       "[10,] 842 566 4692 842  566  4692\n",
       "[11,] 579-499-7527 579  499  7527\n",
       "[12,] NA           NA   NA   NA  \n",
       "[13,] 543.355.3679 543  355  3679"
      ]
     },
     "metadata": {},
     "output_type": "display_data"
    }
   ],
   "source": [
    "str_match(strings, phone)"
   ]
  },
  {
   "cell_type": "code",
   "execution_count": 51,
   "metadata": {
    "collapsed": false
   },
   "outputs": [
    {
     "data": {
      "text/html": [
       "<span style=white-space:pre-wrap>'    hadley'</span>"
      ],
      "text/latex": [
       "'    hadley'"
      ],
      "text/markdown": [
       "<span style=white-space:pre-wrap>'    hadley'</span>"
      ],
      "text/plain": [
       "[1] \"    hadley\""
      ]
     },
     "metadata": {},
     "output_type": "display_data"
    },
    {
     "data": {
      "text/html": [
       "<span style=white-space:pre-wrap>'hadley    '</span>"
      ],
      "text/latex": [
       "'hadley    '"
      ],
      "text/markdown": [
       "<span style=white-space:pre-wrap>'hadley    '</span>"
      ],
      "text/plain": [
       "[1] \"hadley    \""
      ]
     },
     "metadata": {},
     "output_type": "display_data"
    },
    {
     "data": {
      "text/html": [
       "<span style=white-space:pre-wrap>'  hadley  '</span>"
      ],
      "text/latex": [
       "'  hadley  '"
      ],
      "text/markdown": [
       "<span style=white-space:pre-wrap>'  hadley  '</span>"
      ],
      "text/plain": [
       "[1] \"  hadley  \""
      ]
     },
     "metadata": {},
     "output_type": "display_data"
    }
   ],
   "source": [
    "s1 <- str_pad(\"hadley\", 10, \"left\")\n",
    "s2 <- str_pad(\"hadley\", 10, \"right\")\n",
    "s3 <- str_pad(\"hadley\", 10, \"both\")\n",
    "s1; s2; s3\n",
    "# str_pad 공백 문자 입력 (\"문자\", 공백 수, 공백 위치)"
   ]
  },
  {
   "cell_type": "code",
   "execution_count": 61,
   "metadata": {
    "collapsed": false
   },
   "outputs": [
    {
     "data": {
      "text/html": [
       "'C:/R/R-34~1.1/doc/THANKS'"
      ],
      "text/latex": [
       "'C:/R/R-34\\textasciitilde{}1.1/doc/THANKS'"
      ],
      "text/markdown": [
       "'C:/R/R-34~1.1/doc/THANKS'"
      ],
      "text/plain": [
       "[1] \"C:/R/R-34~1.1/doc/THANKS\""
      ]
     },
     "metadata": {},
     "output_type": "display_data"
    },
    {
     "name": "stdout",
     "output_type": "stream",
     "text": [
      "R would not be what it is today without the invaluable help of these people\n",
      "outside of the R core team, who contributed by donating code, bug fixes and\n",
      "documentation: Valerio Aimale, Thomas Baier, Henrik Bengtsson, Roger Bivand,\n",
      "Ben Bolker, David Brahm, G\"oran Brostr\"om, Patrick Burns, Vince Carey, Saikat\n",
      "DebRoy, Matt Dowle, Brian D'Urso, Lyndon Drake, Dirk Eddelbuettel, Claus\n",
      "Ekstrom, Sebastian Fischmeister, John Fox, Paul Gilbert, Yu Gong, Gabor\n",
      "Grothendieck, Frank E Harrell Jr, Torsten Hothorn, Robert King, Kjetil Kjernsmo,\n",
      "Roger Koenker, Philippe Lambert, Jan de Leeuw, Jim Lindsey, Patrick Lindsey,\n",
      "Catherine Loader, Gordon Maclean, John Maindonald, David Meyer, Ei-ji Nakama,\n",
      "Jens Oehlschaegel, Steve Oncley, Richard O'Keefe, Hubert Palme, Roger D. Peng,\n",
      "Jose' C. Pinheiro, Tony Plate, Anthony Rossini, Jonathan Rougier, Petr Savicky,\n",
      "Guenther Sawitzki, Marc Schwartz, Arun Srinivasan, Detlef Steuer, Bill Simpson,\n",
      "Gordon Smyth, Adrian Trapletti, Terry Therneau, Rolf Turner, Bill Venables,\n",
      "Gregory R. Warnes, Andreas Weingessel, Morten Welinder, James Wettenhall, Simon\n",
      "Wood, and Achim Zeileis. Others have written code that has been adopted by R and\n",
      "is acknowledged in the code files, including \n"
     ]
    }
   ],
   "source": [
    "thanks_path <- file.path(R.home(\"doc\"), \"THANKS\")\n",
    "thanks_path\n",
    "\n",
    "thanks <- str_c(readLines(thanks_path), collapse = \"\\n\")\n",
    "# 문자열을 한 line씩 읽어오되 \\n로 구분해줌\n",
    "thanks <- word(thanks, 1, 3, fixed(\"\\n\\n\"))\n",
    "# extract word index 1~3인 것 같은데?\n",
    "cat(str_wrap(thanks), \"\\n\")"
   ]
  },
  {
   "cell_type": "code",
   "execution_count": 64,
   "metadata": {
    "collapsed": false
   },
   "outputs": [
    {
     "name": "stdout",
     "output_type": "stream",
     "text": [
      "R would not be what it is today\n",
      "without the invaluable help of these\n",
      "people outside of the R core team,\n",
      "who contributed by donating code,\n",
      "bug fixes and documentation: Valerio\n",
      "Aimale, Thomas Baier, Henrik Bengtsson,\n",
      "Roger Bivand, Ben Bolker, David Brahm,\n",
      "G\"oran Brostr\"om, Patrick Burns, Vince\n",
      "Carey, Saikat DebRoy, Matt Dowle,\n",
      "Brian D'Urso, Lyndon Drake, Dirk\n",
      "Eddelbuettel, Claus Ekstrom, Sebastian\n",
      "Fischmeister, John Fox, Paul Gilbert,\n",
      "Yu Gong, Gabor Grothendieck, Frank E\n",
      "Harrell Jr, Torsten Hothorn, Robert\n",
      "King, Kjetil Kjernsmo, Roger Koenker,\n",
      "Philippe Lambert, Jan de Leeuw, Jim\n",
      "Lindsey, Patrick Lindsey, Catherine\n",
      "Loader, Gordon Maclean, John Maindonald,\n",
      "David Meyer, Ei-ji Nakama, Jens\n",
      "Oehlschaegel, Steve Oncley, Richard\n",
      "O'Keefe, Hubert Palme, Roger D. Peng,\n",
      "Jose' C. Pinheiro, Tony Plate, Anthony\n",
      "Rossini, Jonathan Rougier, Petr Savicky,\n",
      "Guenther Sawitzki, Marc Schwartz, Arun\n",
      "Srinivasan, Detlef Steuer, Bill Simpson,\n",
      "Gordon Smyth, Adrian Trapletti, Terry\n",
      "Therneau, Rolf Turner, Bill Venables,\n",
      "Gregory R. Warnes, Andreas Weingessel,\n",
      "Morten Welinder, James Wettenhall, Simon\n",
      "Wood, and Achim Zeileis. Others have\n",
      "written code that has been adopted by R\n",
      "and is acknowledged in the code files,\n",
      "including \n"
     ]
    }
   ],
   "source": [
    "cat(str_wrap(thanks, width = 40), \"\\n\")\n",
    "# width 제한"
   ]
  },
  {
   "cell_type": "code",
   "execution_count": 69,
   "metadata": {
    "collapsed": false
   },
   "outputs": [
    {
     "name": "stdout",
     "output_type": "stream",
     "text": [
      "  R would not be what it is today\n",
      "without the invaluable help of these\n",
      "people outside of the R core team,\n",
      "who contributed by donating code,\n",
      "bug fixes and documentation: Valerio\n",
      "Aimale, Thomas Baier, Henrik Bengtsson,\n",
      "Roger Bivand, Ben Bolker, David Brahm,\n",
      "G\"oran Brostr\"om, Patrick Burns, Vince\n",
      "Carey, Saikat DebRoy, Matt Dowle,\n",
      "Brian D'Urso, Lyndon Drake, Dirk\n",
      "Eddelbuettel, Claus Ekstrom, Sebastian\n",
      "Fischmeister, John Fox, Paul Gilbert,\n",
      "Yu Gong, Gabor Grothendieck, Frank E\n",
      "Harrell Jr, Torsten Hothorn, Robert\n",
      "King, Kjetil Kjernsmo, Roger Koenker,\n",
      "Philippe Lambert, Jan de Leeuw, Jim\n",
      "Lindsey, Patrick Lindsey, Catherine\n",
      "Loader, Gordon Maclean, John Maindonald,\n",
      "David Meyer, Ei-ji Nakama, Jens\n",
      "Oehlschaegel, Steve Oncley, Richard\n",
      "O'Keefe, Hubert Palme, Roger D. Peng,\n",
      "Jose' C. Pinheiro, Tony Plate, Anthony\n",
      "Rossini, Jonathan Rougier, Petr Savicky,\n",
      "Guenther Sawitzki, Marc Schwartz, Arun\n",
      "Srinivasan, Detlef Steuer, Bill Simpson,\n",
      "Gordon Smyth, Adrian Trapletti, Terry\n",
      "Therneau, Rolf Turner, Bill Venables,\n",
      "Gregory R. Warnes, Andreas Weingessel,\n",
      "Morten Welinder, James Wettenhall, Simon\n",
      "Wood, and Achim Zeileis. Others have\n",
      "written code that has been adopted by R\n",
      "and is acknowledged in the code files,\n",
      "including \n"
     ]
    }
   ],
   "source": [
    "cat(str_wrap(thanks, width = 40, indent =2), \"\\n\")\n",
    "# indent = 첫 문장 들여쓰기 <-> 내어쓰기(exdent)"
   ]
  },
  {
   "cell_type": "code",
   "execution_count": 70,
   "metadata": {
    "collapsed": false
   },
   "outputs": [
    {
     "data": {
      "text/html": [
       "<ol class=list-inline>\n",
       "\t<li>'Jane'</li>\n",
       "\t<li>'Jane'</li>\n",
       "</ol>\n"
      ],
      "text/latex": [
       "\\begin{enumerate*}\n",
       "\\item 'Jane'\n",
       "\\item 'Jane'\n",
       "\\end{enumerate*}\n"
      ],
      "text/markdown": [
       "1. 'Jane'\n",
       "2. 'Jane'\n",
       "\n",
       "\n"
      ],
      "text/plain": [
       "[1] \"Jane\" \"Jane\""
      ]
     },
     "metadata": {},
     "output_type": "display_data"
    },
    {
     "data": {
      "text/html": [
       "<ol class=list-inline>\n",
       "\t<li>'saw'</li>\n",
       "\t<li>'sat'</li>\n",
       "</ol>\n"
      ],
      "text/latex": [
       "\\begin{enumerate*}\n",
       "\\item 'saw'\n",
       "\\item 'sat'\n",
       "\\end{enumerate*}\n"
      ],
      "text/markdown": [
       "1. 'saw'\n",
       "2. 'sat'\n",
       "\n",
       "\n"
      ],
      "text/plain": [
       "[1] \"saw\" \"sat\""
      ]
     },
     "metadata": {},
     "output_type": "display_data"
    },
    {
     "data": {
      "text/html": [
       "<ol class=list-inline>\n",
       "\t<li>'cat'</li>\n",
       "\t<li>'down'</li>\n",
       "</ol>\n"
      ],
      "text/latex": [
       "\\begin{enumerate*}\n",
       "\\item 'cat'\n",
       "\\item 'down'\n",
       "\\end{enumerate*}\n"
      ],
      "text/markdown": [
       "1. 'cat'\n",
       "2. 'down'\n",
       "\n",
       "\n"
      ],
      "text/plain": [
       "[1] \"cat\"  \"down\""
      ]
     },
     "metadata": {},
     "output_type": "display_data"
    },
    {
     "data": {
      "text/html": [
       "<ol class=list-inline>\n",
       "\t<li>'saw a cat'</li>\n",
       "\t<li>'sat down'</li>\n",
       "</ol>\n"
      ],
      "text/latex": [
       "\\begin{enumerate*}\n",
       "\\item 'saw a cat'\n",
       "\\item 'sat down'\n",
       "\\end{enumerate*}\n"
      ],
      "text/markdown": [
       "1. 'saw a cat'\n",
       "2. 'sat down'\n",
       "\n",
       "\n"
      ],
      "text/plain": [
       "[1] \"saw a cat\" \"sat down\" "
      ]
     },
     "metadata": {},
     "output_type": "display_data"
    },
    {
     "data": {
      "text/html": [
       "<ol class=list-inline>\n",
       "\t<li>'Jane saw a cat'</li>\n",
       "\t<li>'saw a cat'</li>\n",
       "\t<li>'a cat'</li>\n",
       "</ol>\n"
      ],
      "text/latex": [
       "\\begin{enumerate*}\n",
       "\\item 'Jane saw a cat'\n",
       "\\item 'saw a cat'\n",
       "\\item 'a cat'\n",
       "\\end{enumerate*}\n"
      ],
      "text/markdown": [
       "1. 'Jane saw a cat'\n",
       "2. 'saw a cat'\n",
       "3. 'a cat'\n",
       "\n",
       "\n"
      ],
      "text/plain": [
       "[1] \"Jane saw a cat\" \"saw a cat\"      \"a cat\"         "
      ]
     },
     "metadata": {},
     "output_type": "display_data"
    }
   ],
   "source": [
    "sentences <- c(\"Jane saw a cat\", \"Jane sat down\")\n",
    "word(sentences, 1)  \n",
    "word(sentences, 2)\n",
    "word(sentences, -1)\n",
    "word(sentences, 2, -1)\n",
    "word(sentences[1], 1:3, -1)  "
   ]
  },
  {
   "cell_type": "code",
   "execution_count": 73,
   "metadata": {
    "collapsed": false
   },
   "outputs": [
    {
     "data": {
      "text/html": [
       "'abc.def'"
      ],
      "text/latex": [
       "'abc.def'"
      ],
      "text/markdown": [
       "'abc.def'"
      ],
      "text/plain": [
       "[1] \"abc.def\""
      ]
     },
     "metadata": {},
     "output_type": "display_data"
    },
    {
     "data": {
      "text/html": [
       "'123.4568.999'"
      ],
      "text/latex": [
       "'123.4568.999'"
      ],
      "text/markdown": [
       "'123.4568.999'"
      ],
      "text/plain": [
       "[1] \"123.4568.999\""
      ]
     },
     "metadata": {},
     "output_type": "display_data"
    }
   ],
   "source": [
    "str <- 'abc.def..123.4568.999'\n",
    "word(str, 1, sep = fixed('..'))\n",
    "word(str, 2, sep = fixed('..'))"
   ]
  }
 ],
 "metadata": {
  "anaconda-cloud": {},
  "kernelspec": {
   "display_name": "R",
   "language": "R",
   "name": "ir"
  },
  "language_info": {
   "codemirror_mode": "r",
   "file_extension": ".r",
   "mimetype": "text/x-r-source",
   "name": "R",
   "pygments_lexer": "r",
   "version": "3.4.1"
  }
 },
 "nbformat": 4,
 "nbformat_minor": 1
}
