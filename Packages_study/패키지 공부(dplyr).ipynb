{
 "cells": [
  {
   "cell_type": "markdown",
   "metadata": {
    "nbpresent": {
     "id": "7cf56bba-e28b-47d7-85c3-e1b56c286040"
    }
   },
   "source": [
    "# dplyr 패키지 공부\n",
    "### 출처 : http://www.di.fc.ul.pt/~jpn/r/\n",
    "---"
   ]
  },
  {
   "cell_type": "code",
   "execution_count": 2,
   "metadata": {
    "collapsed": false,
    "nbpresent": {
     "id": "acb3bc72-0421-43b6-8fef-956df03e41c2"
    }
   },
   "outputs": [
    {
     "name": "stderr",
     "output_type": "stream",
     "text": [
      "\n",
      "Attaching package: 'dplyr'\n",
      "\n",
      "The following objects are masked from 'package:stats':\n",
      "\n",
      "    filter, lag\n",
      "\n",
      "The following objects are masked from 'package:base':\n",
      "\n",
      "    intersect, setdiff, setequal, union\n",
      "\n",
      "\n",
      "Attaching package: 'MASS'\n",
      "\n",
      "The following object is masked from 'package:dplyr':\n",
      "\n",
      "    select\n",
      "\n"
     ]
    }
   ],
   "source": [
    "library(dplyr)\n",
    "library(MASS)"
   ]
  },
  {
   "cell_type": "code",
   "execution_count": 3,
   "metadata": {
    "collapsed": false,
    "nbpresent": {
     "id": "f6a1102e-06b6-4276-af06-f3403771f9fa"
    }
   },
   "outputs": [
    {
     "data": {
      "text/html": [
       "<table>\n",
       "<thead><tr><th scope=col>crim</th><th scope=col>zn</th><th scope=col>indus</th><th scope=col>chas</th><th scope=col>nox</th><th scope=col>rm</th><th scope=col>age</th><th scope=col>dis</th><th scope=col>rad</th><th scope=col>tax</th><th scope=col>ptratio</th><th scope=col>black</th><th scope=col>lstat</th><th scope=col>medv</th></tr></thead>\n",
       "<tbody>\n",
       "\t<tr><td>0.00632</td><td>18     </td><td>2.31   </td><td>0      </td><td>0.538  </td><td>6.575  </td><td>65.2   </td><td>4.0900 </td><td>1      </td><td>296    </td><td>15.3   </td><td>396.90 </td><td>4.98   </td><td>24.0   </td></tr>\n",
       "\t<tr><td>0.02731</td><td> 0     </td><td>7.07   </td><td>0      </td><td>0.469  </td><td>6.421  </td><td>78.9   </td><td>4.9671 </td><td>2      </td><td>242    </td><td>17.8   </td><td>396.90 </td><td>9.14   </td><td>21.6   </td></tr>\n",
       "\t<tr><td>0.02729</td><td> 0     </td><td>7.07   </td><td>0      </td><td>0.469  </td><td>7.185  </td><td>61.1   </td><td>4.9671 </td><td>2      </td><td>242    </td><td>17.8   </td><td>392.83 </td><td>4.03   </td><td>34.7   </td></tr>\n",
       "\t<tr><td>0.03237</td><td> 0     </td><td>2.18   </td><td>0      </td><td>0.458  </td><td>6.998  </td><td>45.8   </td><td>6.0622 </td><td>3      </td><td>222    </td><td>18.7   </td><td>394.63 </td><td>2.94   </td><td>33.4   </td></tr>\n",
       "\t<tr><td>0.06905</td><td> 0     </td><td>2.18   </td><td>0      </td><td>0.458  </td><td>7.147  </td><td>54.2   </td><td>6.0622 </td><td>3      </td><td>222    </td><td>18.7   </td><td>396.90 </td><td>5.33   </td><td>36.2   </td></tr>\n",
       "\t<tr><td>0.02985</td><td> 0     </td><td>2.18   </td><td>0      </td><td>0.458  </td><td>6.430  </td><td>58.7   </td><td>6.0622 </td><td>3      </td><td>222    </td><td>18.7   </td><td>394.12 </td><td>5.21   </td><td>28.7   </td></tr>\n",
       "</tbody>\n",
       "</table>\n"
      ],
      "text/latex": [
       "\\begin{tabular}{r|llllllllllllll}\n",
       " crim & zn & indus & chas & nox & rm & age & dis & rad & tax & ptratio & black & lstat & medv\\\\\n",
       "\\hline\n",
       "\t 0.00632 & 18      & 2.31    & 0       & 0.538   & 6.575   & 65.2    & 4.0900  & 1       & 296     & 15.3    & 396.90  & 4.98    & 24.0   \\\\\n",
       "\t 0.02731 &  0      & 7.07    & 0       & 0.469   & 6.421   & 78.9    & 4.9671  & 2       & 242     & 17.8    & 396.90  & 9.14    & 21.6   \\\\\n",
       "\t 0.02729 &  0      & 7.07    & 0       & 0.469   & 7.185   & 61.1    & 4.9671  & 2       & 242     & 17.8    & 392.83  & 4.03    & 34.7   \\\\\n",
       "\t 0.03237 &  0      & 2.18    & 0       & 0.458   & 6.998   & 45.8    & 6.0622  & 3       & 222     & 18.7    & 394.63  & 2.94    & 33.4   \\\\\n",
       "\t 0.06905 &  0      & 2.18    & 0       & 0.458   & 7.147   & 54.2    & 6.0622  & 3       & 222     & 18.7    & 396.90  & 5.33    & 36.2   \\\\\n",
       "\t 0.02985 &  0      & 2.18    & 0       & 0.458   & 6.430   & 58.7    & 6.0622  & 3       & 222     & 18.7    & 394.12  & 5.21    & 28.7   \\\\\n",
       "\\end{tabular}\n"
      ],
      "text/markdown": [
       "\n",
       "crim | zn | indus | chas | nox | rm | age | dis | rad | tax | ptratio | black | lstat | medv | \n",
       "|---|---|---|---|---|---|\n",
       "| 0.00632 | 18      | 2.31    | 0       | 0.538   | 6.575   | 65.2    | 4.0900  | 1       | 296     | 15.3    | 396.90  | 4.98    | 24.0    | \n",
       "| 0.02731 |  0      | 7.07    | 0       | 0.469   | 6.421   | 78.9    | 4.9671  | 2       | 242     | 17.8    | 396.90  | 9.14    | 21.6    | \n",
       "| 0.02729 |  0      | 7.07    | 0       | 0.469   | 7.185   | 61.1    | 4.9671  | 2       | 242     | 17.8    | 392.83  | 4.03    | 34.7    | \n",
       "| 0.03237 |  0      | 2.18    | 0       | 0.458   | 6.998   | 45.8    | 6.0622  | 3       | 222     | 18.7    | 394.63  | 2.94    | 33.4    | \n",
       "| 0.06905 |  0      | 2.18    | 0       | 0.458   | 7.147   | 54.2    | 6.0622  | 3       | 222     | 18.7    | 396.90  | 5.33    | 36.2    | \n",
       "| 0.02985 |  0      | 2.18    | 0       | 0.458   | 6.430   | 58.7    | 6.0622  | 3       | 222     | 18.7    | 394.12  | 5.21    | 28.7    | \n",
       "\n",
       "\n"
      ],
      "text/plain": [
       "  crim    zn indus chas nox   rm    age  dis    rad tax ptratio black  lstat\n",
       "1 0.00632 18 2.31  0    0.538 6.575 65.2 4.0900 1   296 15.3    396.90 4.98 \n",
       "2 0.02731  0 7.07  0    0.469 6.421 78.9 4.9671 2   242 17.8    396.90 9.14 \n",
       "3 0.02729  0 7.07  0    0.469 7.185 61.1 4.9671 2   242 17.8    392.83 4.03 \n",
       "4 0.03237  0 2.18  0    0.458 6.998 45.8 6.0622 3   222 18.7    394.63 2.94 \n",
       "5 0.06905  0 2.18  0    0.458 7.147 54.2 6.0622 3   222 18.7    396.90 5.33 \n",
       "6 0.02985  0 2.18  0    0.458 6.430 58.7 6.0622 3   222 18.7    394.12 5.21 \n",
       "  medv\n",
       "1 24.0\n",
       "2 21.6\n",
       "3 34.7\n",
       "4 33.4\n",
       "5 36.2\n",
       "6 28.7"
      ]
     },
     "metadata": {},
     "output_type": "display_data"
    },
    {
     "name": "stdout",
     "output_type": "stream",
     "text": [
      "'data.frame':\t506 obs. of  14 variables:\n",
      " $ crim   : num  0.00632 0.02731 0.02729 0.03237 0.06905 ...\n",
      " $ zn     : num  18 0 0 0 0 0 12.5 12.5 12.5 12.5 ...\n",
      " $ indus  : num  2.31 7.07 7.07 2.18 2.18 2.18 7.87 7.87 7.87 7.87 ...\n",
      " $ chas   : int  0 0 0 0 0 0 0 0 0 0 ...\n",
      " $ nox    : num  0.538 0.469 0.469 0.458 0.458 0.458 0.524 0.524 0.524 0.524 ...\n",
      " $ rm     : num  6.58 6.42 7.18 7 7.15 ...\n",
      " $ age    : num  65.2 78.9 61.1 45.8 54.2 58.7 66.6 96.1 100 85.9 ...\n",
      " $ dis    : num  4.09 4.97 4.97 6.06 6.06 ...\n",
      " $ rad    : int  1 2 2 3 3 3 5 5 5 5 ...\n",
      " $ tax    : num  296 242 242 222 222 222 311 311 311 311 ...\n",
      " $ ptratio: num  15.3 17.8 17.8 18.7 18.7 18.7 15.2 15.2 15.2 15.2 ...\n",
      " $ black  : num  397 397 393 395 397 ...\n",
      " $ lstat  : num  4.98 9.14 4.03 2.94 5.33 ...\n",
      " $ medv   : num  24 21.6 34.7 33.4 36.2 28.7 22.9 27.1 16.5 18.9 ...\n"
     ]
    }
   ],
   "source": [
    "head(Boston)\n",
    "str(Boston)"
   ]
  },
  {
   "cell_type": "code",
   "execution_count": 4,
   "metadata": {
    "collapsed": false,
    "nbpresent": {
     "id": "b48b0349-9054-42b9-8a80-dfe6b80257b1"
    }
   },
   "outputs": [
    {
     "data": {
      "text/html": [
       "<table>\n",
       "<thead><tr><th scope=col>crim</th><th scope=col>zn</th><th scope=col>indus</th><th scope=col>chas</th><th scope=col>nox</th><th scope=col>rm</th><th scope=col>age</th><th scope=col>dis</th><th scope=col>rad</th><th scope=col>tax</th><th scope=col>ptratio</th><th scope=col>black</th><th scope=col>lstat</th><th scope=col>medv</th></tr></thead>\n",
       "<tbody>\n",
       "\t<tr><td>0.00632</td><td>18     </td><td>2.31   </td><td>0      </td><td>0.538  </td><td>6.575  </td><td>65.2   </td><td>4.0900 </td><td>1      </td><td>296    </td><td>15.3   </td><td>396.90 </td><td>4.98   </td><td>24.0   </td></tr>\n",
       "\t<tr><td>0.02731</td><td> 0     </td><td>7.07   </td><td>0      </td><td>0.469  </td><td>6.421  </td><td>78.9   </td><td>4.9671 </td><td>2      </td><td>242    </td><td>17.8   </td><td>396.90 </td><td>9.14   </td><td>21.6   </td></tr>\n",
       "\t<tr><td>0.02729</td><td> 0     </td><td>7.07   </td><td>0      </td><td>0.469  </td><td>7.185  </td><td>61.1   </td><td>4.9671 </td><td>2      </td><td>242    </td><td>17.8   </td><td>392.83 </td><td>4.03   </td><td>34.7   </td></tr>\n",
       "\t<tr><td>0.03237</td><td> 0     </td><td>2.18   </td><td>0      </td><td>0.458  </td><td>6.998  </td><td>45.8   </td><td>6.0622 </td><td>3      </td><td>222    </td><td>18.7   </td><td>394.63 </td><td>2.94   </td><td>33.4   </td></tr>\n",
       "\t<tr><td>0.06905</td><td> 0     </td><td>2.18   </td><td>0      </td><td>0.458  </td><td>7.147  </td><td>54.2   </td><td>6.0622 </td><td>3      </td><td>222    </td><td>18.7   </td><td>396.90 </td><td>5.33   </td><td>36.2   </td></tr>\n",
       "\t<tr><td>0.02985</td><td> 0     </td><td>2.18   </td><td>0      </td><td>0.458  </td><td>6.430  </td><td>58.7   </td><td>6.0622 </td><td>3      </td><td>222    </td><td>18.7   </td><td>394.12 </td><td>5.21   </td><td>28.7   </td></tr>\n",
       "</tbody>\n",
       "</table>\n"
      ],
      "text/latex": [
       "\\begin{tabular}{r|llllllllllllll}\n",
       " crim & zn & indus & chas & nox & rm & age & dis & rad & tax & ptratio & black & lstat & medv\\\\\n",
       "\\hline\n",
       "\t 0.00632 & 18      & 2.31    & 0       & 0.538   & 6.575   & 65.2    & 4.0900  & 1       & 296     & 15.3    & 396.90  & 4.98    & 24.0   \\\\\n",
       "\t 0.02731 &  0      & 7.07    & 0       & 0.469   & 6.421   & 78.9    & 4.9671  & 2       & 242     & 17.8    & 396.90  & 9.14    & 21.6   \\\\\n",
       "\t 0.02729 &  0      & 7.07    & 0       & 0.469   & 7.185   & 61.1    & 4.9671  & 2       & 242     & 17.8    & 392.83  & 4.03    & 34.7   \\\\\n",
       "\t 0.03237 &  0      & 2.18    & 0       & 0.458   & 6.998   & 45.8    & 6.0622  & 3       & 222     & 18.7    & 394.63  & 2.94    & 33.4   \\\\\n",
       "\t 0.06905 &  0      & 2.18    & 0       & 0.458   & 7.147   & 54.2    & 6.0622  & 3       & 222     & 18.7    & 396.90  & 5.33    & 36.2   \\\\\n",
       "\t 0.02985 &  0      & 2.18    & 0       & 0.458   & 6.430   & 58.7    & 6.0622  & 3       & 222     & 18.7    & 394.12  & 5.21    & 28.7   \\\\\n",
       "\\end{tabular}\n"
      ],
      "text/markdown": [
       "\n",
       "crim | zn | indus | chas | nox | rm | age | dis | rad | tax | ptratio | black | lstat | medv | \n",
       "|---|---|---|---|---|---|\n",
       "| 0.00632 | 18      | 2.31    | 0       | 0.538   | 6.575   | 65.2    | 4.0900  | 1       | 296     | 15.3    | 396.90  | 4.98    | 24.0    | \n",
       "| 0.02731 |  0      | 7.07    | 0       | 0.469   | 6.421   | 78.9    | 4.9671  | 2       | 242     | 17.8    | 396.90  | 9.14    | 21.6    | \n",
       "| 0.02729 |  0      | 7.07    | 0       | 0.469   | 7.185   | 61.1    | 4.9671  | 2       | 242     | 17.8    | 392.83  | 4.03    | 34.7    | \n",
       "| 0.03237 |  0      | 2.18    | 0       | 0.458   | 6.998   | 45.8    | 6.0622  | 3       | 222     | 18.7    | 394.63  | 2.94    | 33.4    | \n",
       "| 0.06905 |  0      | 2.18    | 0       | 0.458   | 7.147   | 54.2    | 6.0622  | 3       | 222     | 18.7    | 396.90  | 5.33    | 36.2    | \n",
       "| 0.02985 |  0      | 2.18    | 0       | 0.458   | 6.430   | 58.7    | 6.0622  | 3       | 222     | 18.7    | 394.12  | 5.21    | 28.7    | \n",
       "\n",
       "\n"
      ],
      "text/plain": [
       "  crim    zn indus chas nox   rm    age  dis    rad tax ptratio black  lstat\n",
       "1 0.00632 18 2.31  0    0.538 6.575 65.2 4.0900 1   296 15.3    396.90 4.98 \n",
       "2 0.02731  0 7.07  0    0.469 6.421 78.9 4.9671 2   242 17.8    396.90 9.14 \n",
       "3 0.02729  0 7.07  0    0.469 7.185 61.1 4.9671 2   242 17.8    392.83 4.03 \n",
       "4 0.03237  0 2.18  0    0.458 6.998 45.8 6.0622 3   222 18.7    394.63 2.94 \n",
       "5 0.06905  0 2.18  0    0.458 7.147 54.2 6.0622 3   222 18.7    396.90 5.33 \n",
       "6 0.02985  0 2.18  0    0.458 6.430 58.7 6.0622 3   222 18.7    394.12 5.21 \n",
       "  medv\n",
       "1 24.0\n",
       "2 21.6\n",
       "3 34.7\n",
       "4 33.4\n",
       "5 36.2\n",
       "6 28.7"
      ]
     },
     "metadata": {},
     "output_type": "display_data"
    }
   ],
   "source": [
    "# 데이터의 형태를 바꾼다. 이렇게 바꾸면 큰 데이터 프레임을 보기 쉽도록 해 준다.\n",
    "# print() 시 한 페이지에 해당하는 데이터만 보여주는 기능외에는 특별한 기능은 없음\n",
    "my.data = tbl_df(Boston)\n",
    "head(my.data)"
   ]
  },
  {
   "cell_type": "markdown",
   "metadata": {
    "nbpresent": {
     "id": "0eef68fe-805a-4108-9c80-35e6f9733cc7"
    }
   },
   "source": [
    "# Filter rows with filter()\n",
    "---\n"
   ]
  },
  {
   "cell_type": "code",
   "execution_count": 11,
   "metadata": {
    "collapsed": false,
    "nbpresent": {
     "id": "59d4732d-d7dc-4473-afa0-6011219e75e7"
    }
   },
   "outputs": [
    {
     "data": {
      "text/html": [
       "<table>\n",
       "<thead><tr><th scope=col>crim</th><th scope=col>zn</th><th scope=col>indus</th><th scope=col>chas</th><th scope=col>nox</th><th scope=col>rm</th><th scope=col>age</th><th scope=col>dis</th><th scope=col>rad</th><th scope=col>tax</th><th scope=col>ptratio</th><th scope=col>black</th><th scope=col>lstat</th><th scope=col>medv</th></tr></thead>\n",
       "<tbody>\n",
       "\t<tr><td>0.62976</td><td>0      </td><td>8.14   </td><td>0      </td><td>0.538  </td><td>5.949  </td><td>61.8   </td><td>4.7075 </td><td>4      </td><td>307    </td><td>21     </td><td>396.90 </td><td> 8.26  </td><td>20.4   </td></tr>\n",
       "\t<tr><td>0.63796</td><td>0      </td><td>8.14   </td><td>0      </td><td>0.538  </td><td>6.096  </td><td>84.5   </td><td>4.4619 </td><td>4      </td><td>307    </td><td>21     </td><td>380.02 </td><td>10.26  </td><td>18.2   </td></tr>\n",
       "\t<tr><td>0.62739</td><td>0      </td><td>8.14   </td><td>0      </td><td>0.538  </td><td>5.834  </td><td>56.5   </td><td>4.4986 </td><td>4      </td><td>307    </td><td>21     </td><td>395.62 </td><td> 8.47  </td><td>19.9   </td></tr>\n",
       "</tbody>\n",
       "</table>\n"
      ],
      "text/latex": [
       "\\begin{tabular}{r|llllllllllllll}\n",
       " crim & zn & indus & chas & nox & rm & age & dis & rad & tax & ptratio & black & lstat & medv\\\\\n",
       "\\hline\n",
       "\t 0.62976 & 0       & 8.14    & 0       & 0.538   & 5.949   & 61.8    & 4.7075  & 4       & 307     & 21      & 396.90  &  8.26   & 20.4   \\\\\n",
       "\t 0.63796 & 0       & 8.14    & 0       & 0.538   & 6.096   & 84.5    & 4.4619  & 4       & 307     & 21      & 380.02  & 10.26   & 18.2   \\\\\n",
       "\t 0.62739 & 0       & 8.14    & 0       & 0.538   & 5.834   & 56.5    & 4.4986  & 4       & 307     & 21      & 395.62  &  8.47   & 19.9   \\\\\n",
       "\\end{tabular}\n"
      ],
      "text/markdown": [
       "\n",
       "crim | zn | indus | chas | nox | rm | age | dis | rad | tax | ptratio | black | lstat | medv | \n",
       "|---|---|---|\n",
       "| 0.62976 | 0       | 8.14    | 0       | 0.538   | 5.949   | 61.8    | 4.7075  | 4       | 307     | 21      | 396.90  |  8.26   | 20.4    | \n",
       "| 0.63796 | 0       | 8.14    | 0       | 0.538   | 6.096   | 84.5    | 4.4619  | 4       | 307     | 21      | 380.02  | 10.26   | 18.2    | \n",
       "| 0.62739 | 0       | 8.14    | 0       | 0.538   | 5.834   | 56.5    | 4.4986  | 4       | 307     | 21      | 395.62  |  8.47   | 19.9    | \n",
       "\n",
       "\n"
      ],
      "text/plain": [
       "  crim    zn indus chas nox   rm    age  dis    rad tax ptratio black  lstat\n",
       "1 0.62976 0  8.14  0    0.538 5.949 61.8 4.7075 4   307 21      396.90  8.26\n",
       "2 0.63796 0  8.14  0    0.538 6.096 84.5 4.4619 4   307 21      380.02 10.26\n",
       "3 0.62739 0  8.14  0    0.538 5.834 56.5 4.4986 4   307 21      395.62  8.47\n",
       "  medv\n",
       "1 20.4\n",
       "2 18.2\n",
       "3 19.9"
      ]
     },
     "metadata": {},
     "output_type": "display_data"
    }
   ],
   "source": [
    "# filter(데이터명, 조건식)\n",
    "head(filter(my.data,\n",
    "            rad == 4),\n",
    "     n = 3)"
   ]
  },
  {
   "cell_type": "code",
   "execution_count": 10,
   "metadata": {
    "collapsed": false,
    "nbpresent": {
     "id": "41f59284-39db-4e93-b117-a55ba19e1e97"
    }
   },
   "outputs": [
    {
     "data": {
      "text/html": [
       "<table>\n",
       "<thead><tr><th scope=col>crim</th><th scope=col>zn</th><th scope=col>indus</th><th scope=col>chas</th><th scope=col>nox</th><th scope=col>rm</th><th scope=col>age</th><th scope=col>dis</th><th scope=col>rad</th><th scope=col>tax</th><th scope=col>ptratio</th><th scope=col>black</th><th scope=col>lstat</th><th scope=col>medv</th></tr></thead>\n",
       "<tbody>\n",
       "\t<tr><td>0.04819</td><td>80     </td><td>3.64   </td><td>0      </td><td>0.392  </td><td>6.108  </td><td>32.0   </td><td>9.2203 </td><td>1      </td><td>315    </td><td>16.4   </td><td>392.89 </td><td>6.57   </td><td>21.9   </td></tr>\n",
       "\t<tr><td>0.03548</td><td>80     </td><td>3.64   </td><td>0      </td><td>0.392  </td><td>5.876  </td><td>19.1   </td><td>9.2203 </td><td>1      </td><td>315    </td><td>16.4   </td><td>395.18 </td><td>9.25   </td><td>20.9   </td></tr>\n",
       "\t<tr><td>0.01501</td><td>90     </td><td>1.21   </td><td>1      </td><td>0.401  </td><td>7.923  </td><td>24.8   </td><td>5.8850 </td><td>1      </td><td>198    </td><td>13.6   </td><td>395.52 </td><td>3.16   </td><td>50.0   </td></tr>\n",
       "</tbody>\n",
       "</table>\n"
      ],
      "text/latex": [
       "\\begin{tabular}{r|llllllllllllll}\n",
       " crim & zn & indus & chas & nox & rm & age & dis & rad & tax & ptratio & black & lstat & medv\\\\\n",
       "\\hline\n",
       "\t 0.04819 & 80      & 3.64    & 0       & 0.392   & 6.108   & 32.0    & 9.2203  & 1       & 315     & 16.4    & 392.89  & 6.57    & 21.9   \\\\\n",
       "\t 0.03548 & 80      & 3.64    & 0       & 0.392   & 5.876   & 19.1    & 9.2203  & 1       & 315     & 16.4    & 395.18  & 9.25    & 20.9   \\\\\n",
       "\t 0.01501 & 90      & 1.21    & 1       & 0.401   & 7.923   & 24.8    & 5.8850  & 1       & 198     & 13.6    & 395.52  & 3.16    & 50.0   \\\\\n",
       "\\end{tabular}\n"
      ],
      "text/markdown": [
       "\n",
       "crim | zn | indus | chas | nox | rm | age | dis | rad | tax | ptratio | black | lstat | medv | \n",
       "|---|---|---|\n",
       "| 0.04819 | 80      | 3.64    | 0       | 0.392   | 6.108   | 32.0    | 9.2203  | 1       | 315     | 16.4    | 392.89  | 6.57    | 21.9    | \n",
       "| 0.03548 | 80      | 3.64    | 0       | 0.392   | 5.876   | 19.1    | 9.2203  | 1       | 315     | 16.4    | 395.18  | 9.25    | 20.9    | \n",
       "| 0.01501 | 90      | 1.21    | 1       | 0.401   | 7.923   | 24.8    | 5.8850  | 1       | 198     | 13.6    | 395.52  | 3.16    | 50.0    | \n",
       "\n",
       "\n"
      ],
      "text/plain": [
       "  crim    zn indus chas nox   rm    age  dis    rad tax ptratio black  lstat\n",
       "1 0.04819 80 3.64  0    0.392 6.108 32.0 9.2203 1   315 16.4    392.89 6.57 \n",
       "2 0.03548 80 3.64  0    0.392 5.876 19.1 9.2203 1   315 16.4    395.18 9.25 \n",
       "3 0.01501 90 1.21  1    0.401 7.923 24.8 5.8850 1   198 13.6    395.52 3.16 \n",
       "  medv\n",
       "1 21.9\n",
       "2 20.9\n",
       "3 50.0"
      ]
     },
     "metadata": {},
     "output_type": "display_data"
    }
   ],
   "source": [
    "# 논리 연산자를 사용해서 조건을 늘려갈 수 있다.\n",
    "head(filter(my.data, \n",
    "            rad == 1 & (tax<200|tax>300)),\n",
    "     n = 3)"
   ]
  },
  {
   "cell_type": "markdown",
   "metadata": {
    "nbpresent": {
     "id": "48356f8d-fa43-4838-b720-5e1de9919a73"
    }
   },
   "source": [
    "# Arrange rows with arrange()\n",
    "---"
   ]
  },
  {
   "cell_type": "code",
   "execution_count": 15,
   "metadata": {
    "collapsed": false,
    "nbpresent": {
     "id": "2468ba5d-f3c6-4bc9-a0c1-c157e81f5873"
    }
   },
   "outputs": [
    {
     "data": {
      "text/html": [
       "<table>\n",
       "<thead><tr><th scope=col>crim</th><th scope=col>zn</th><th scope=col>indus</th><th scope=col>chas</th><th scope=col>nox</th><th scope=col>rm</th><th scope=col>age</th><th scope=col>dis</th><th scope=col>rad</th><th scope=col>tax</th><th scope=col>ptratio</th><th scope=col>black</th><th scope=col>lstat</th><th scope=col>medv</th></tr></thead>\n",
       "<tbody>\n",
       "\t<tr><td>0.12744</td><td>0      </td><td> 6.91  </td><td>0      </td><td>0.448  </td><td>6.770  </td><td>2.9    </td><td>5.7209 </td><td>3      </td><td>233    </td><td>17.9   </td><td>385.41 </td><td>4.84   </td><td>26.6   </td></tr>\n",
       "\t<tr><td>0.07896</td><td>0      </td><td>12.83  </td><td>0      </td><td>0.437  </td><td>6.273  </td><td>6.0    </td><td>4.2515 </td><td>5      </td><td>398    </td><td>18.7   </td><td>394.92 </td><td>6.78   </td><td>24.1   </td></tr>\n",
       "\t<tr><td>0.19539</td><td>0      </td><td>10.81  </td><td>0      </td><td>0.413  </td><td>6.245  </td><td>6.2    </td><td>5.2873 </td><td>4      </td><td>305    </td><td>19.2   </td><td>377.17 </td><td>7.54   </td><td>23.4   </td></tr>\n",
       "</tbody>\n",
       "</table>\n"
      ],
      "text/latex": [
       "\\begin{tabular}{r|llllllllllllll}\n",
       " crim & zn & indus & chas & nox & rm & age & dis & rad & tax & ptratio & black & lstat & medv\\\\\n",
       "\\hline\n",
       "\t 0.12744 & 0       &  6.91   & 0       & 0.448   & 6.770   & 2.9     & 5.7209  & 3       & 233     & 17.9    & 385.41  & 4.84    & 26.6   \\\\\n",
       "\t 0.07896 & 0       & 12.83   & 0       & 0.437   & 6.273   & 6.0     & 4.2515  & 5       & 398     & 18.7    & 394.92  & 6.78    & 24.1   \\\\\n",
       "\t 0.19539 & 0       & 10.81   & 0       & 0.413   & 6.245   & 6.2     & 5.2873  & 4       & 305     & 19.2    & 377.17  & 7.54    & 23.4   \\\\\n",
       "\\end{tabular}\n"
      ],
      "text/markdown": [
       "\n",
       "crim | zn | indus | chas | nox | rm | age | dis | rad | tax | ptratio | black | lstat | medv | \n",
       "|---|---|---|\n",
       "| 0.12744 | 0       |  6.91   | 0       | 0.448   | 6.770   | 2.9     | 5.7209  | 3       | 233     | 17.9    | 385.41  | 4.84    | 26.6    | \n",
       "| 0.07896 | 0       | 12.83   | 0       | 0.437   | 6.273   | 6.0     | 4.2515  | 5       | 398     | 18.7    | 394.92  | 6.78    | 24.1    | \n",
       "| 0.19539 | 0       | 10.81   | 0       | 0.413   | 6.245   | 6.2     | 5.2873  | 4       | 305     | 19.2    | 377.17  | 7.54    | 23.4    | \n",
       "\n",
       "\n"
      ],
      "text/plain": [
       "  crim    zn indus chas nox   rm    age dis    rad tax ptratio black  lstat\n",
       "1 0.12744 0   6.91 0    0.448 6.770 2.9 5.7209 3   233 17.9    385.41 4.84 \n",
       "2 0.07896 0  12.83 0    0.437 6.273 6.0 4.2515 5   398 18.7    394.92 6.78 \n",
       "3 0.19539 0  10.81 0    0.413 6.245 6.2 5.2873 4   305 19.2    377.17 7.54 \n",
       "  medv\n",
       "1 26.6\n",
       "2 24.1\n",
       "3 23.4"
      ]
     },
     "metadata": {},
     "output_type": "display_data"
    },
    {
     "data": {
      "text/html": [
       "<table>\n",
       "<thead><tr><th scope=col>crim</th><th scope=col>zn</th><th scope=col>indus</th><th scope=col>chas</th><th scope=col>nox</th><th scope=col>rm</th><th scope=col>age</th><th scope=col>dis</th><th scope=col>rad</th><th scope=col>tax</th><th scope=col>ptratio</th><th scope=col>black</th><th scope=col>lstat</th><th scope=col>medv</th></tr></thead>\n",
       "<tbody>\n",
       "\t<tr><td>0.21124</td><td>12.5   </td><td>7.87   </td><td>0      </td><td>0.524  </td><td>5.631  </td><td>100    </td><td>6.0821 </td><td>5      </td><td>311    </td><td>15.2   </td><td>386.63 </td><td>29.93  </td><td>16.5   </td></tr>\n",
       "\t<tr><td>0.98843</td><td> 0.0   </td><td>8.14   </td><td>0      </td><td>0.538  </td><td>5.813  </td><td>100    </td><td>4.0952 </td><td>4      </td><td>307    </td><td>21.0   </td><td>394.54 </td><td>19.88  </td><td>14.5   </td></tr>\n",
       "\t<tr><td>1.35472</td><td> 0.0   </td><td>8.14   </td><td>0      </td><td>0.538  </td><td>6.072  </td><td>100    </td><td>4.1750 </td><td>4      </td><td>307    </td><td>21.0   </td><td>376.73 </td><td>13.04  </td><td>14.5   </td></tr>\n",
       "</tbody>\n",
       "</table>\n"
      ],
      "text/latex": [
       "\\begin{tabular}{r|llllllllllllll}\n",
       " crim & zn & indus & chas & nox & rm & age & dis & rad & tax & ptratio & black & lstat & medv\\\\\n",
       "\\hline\n",
       "\t 0.21124 & 12.5    & 7.87    & 0       & 0.524   & 5.631   & 100     & 6.0821  & 5       & 311     & 15.2    & 386.63  & 29.93   & 16.5   \\\\\n",
       "\t 0.98843 &  0.0    & 8.14    & 0       & 0.538   & 5.813   & 100     & 4.0952  & 4       & 307     & 21.0    & 394.54  & 19.88   & 14.5   \\\\\n",
       "\t 1.35472 &  0.0    & 8.14    & 0       & 0.538   & 6.072   & 100     & 4.1750  & 4       & 307     & 21.0    & 376.73  & 13.04   & 14.5   \\\\\n",
       "\\end{tabular}\n"
      ],
      "text/markdown": [
       "\n",
       "crim | zn | indus | chas | nox | rm | age | dis | rad | tax | ptratio | black | lstat | medv | \n",
       "|---|---|---|\n",
       "| 0.21124 | 12.5    | 7.87    | 0       | 0.524   | 5.631   | 100     | 6.0821  | 5       | 311     | 15.2    | 386.63  | 29.93   | 16.5    | \n",
       "| 0.98843 |  0.0    | 8.14    | 0       | 0.538   | 5.813   | 100     | 4.0952  | 4       | 307     | 21.0    | 394.54  | 19.88   | 14.5    | \n",
       "| 1.35472 |  0.0    | 8.14    | 0       | 0.538   | 6.072   | 100     | 4.1750  | 4       | 307     | 21.0    | 376.73  | 13.04   | 14.5    | \n",
       "\n",
       "\n"
      ],
      "text/plain": [
       "  crim    zn   indus chas nox   rm    age dis    rad tax ptratio black  lstat\n",
       "1 0.21124 12.5 7.87  0    0.524 5.631 100 6.0821 5   311 15.2    386.63 29.93\n",
       "2 0.98843  0.0 8.14  0    0.538 5.813 100 4.0952 4   307 21.0    394.54 19.88\n",
       "3 1.35472  0.0 8.14  0    0.538 6.072 100 4.1750 4   307 21.0    376.73 13.04\n",
       "  medv\n",
       "1 16.5\n",
       "2 14.5\n",
       "3 14.5"
      ]
     },
     "metadata": {},
     "output_type": "display_data"
    }
   ],
   "source": [
    "# sort(vector에 사용)\n",
    "# order(data.table 패키지 => 데이터 프레임에 사용)\n",
    "# dplyr 에는 arrange를 통해 정렬 가능\n",
    "# 기본적으로 오름차순\n",
    "head(arrange(my.data, \n",
    "             age,  # 첫 번째 조건 age \n",
    "             tax), # 두 번째 조건 tax \n",
    "     n = 3)\n",
    "\n",
    "head(arrange(my.data, \n",
    "             desc(age)), # age를 기준으로 내림차순 \n",
    "     n = 3)"
   ]
  },
  {
   "cell_type": "markdown",
   "metadata": {
    "nbpresent": {
     "id": "e669bcef-6479-4ff4-b0d7-f77b34d7e144"
    }
   },
   "source": [
    "# Select columns with select()\n",
    "---"
   ]
  },
  {
   "cell_type": "code",
   "execution_count": 22,
   "metadata": {
    "collapsed": false,
    "nbpresent": {
     "id": "6286cc5c-cd49-4b2e-8775-92a41358f864"
    }
   },
   "outputs": [
    {
     "data": {
      "text/html": [
       "<table>\n",
       "<thead><tr><th scope=col>nox</th><th scope=col>rm</th></tr></thead>\n",
       "<tbody>\n",
       "\t<tr><td>0.538</td><td>6.575</td></tr>\n",
       "\t<tr><td>0.469</td><td>6.421</td></tr>\n",
       "\t<tr><td>0.469</td><td>7.185</td></tr>\n",
       "</tbody>\n",
       "</table>\n"
      ],
      "text/latex": [
       "\\begin{tabular}{r|ll}\n",
       " nox & rm\\\\\n",
       "\\hline\n",
       "\t 0.538 & 6.575\\\\\n",
       "\t 0.469 & 6.421\\\\\n",
       "\t 0.469 & 7.185\\\\\n",
       "\\end{tabular}\n"
      ],
      "text/markdown": [
       "\n",
       "nox | rm | \n",
       "|---|---|---|\n",
       "| 0.538 | 6.575 | \n",
       "| 0.469 | 6.421 | \n",
       "| 0.469 | 7.185 | \n",
       "\n",
       "\n"
      ],
      "text/plain": [
       "  nox   rm   \n",
       "1 0.538 6.575\n",
       "2 0.469 6.421\n",
       "3 0.469 7.185"
      ]
     },
     "metadata": {},
     "output_type": "display_data"
    },
    {
     "data": {
      "text/html": [
       "<table>\n",
       "<thead><tr><th scope=col>nox</th><th scope=col>rm</th><th scope=col>age</th><th scope=col>dis</th></tr></thead>\n",
       "<tbody>\n",
       "\t<tr><td>0.538 </td><td>6.575 </td><td>65.2  </td><td>4.0900</td></tr>\n",
       "\t<tr><td>0.469 </td><td>6.421 </td><td>78.9  </td><td>4.9671</td></tr>\n",
       "\t<tr><td>0.469 </td><td>7.185 </td><td>61.1  </td><td>4.9671</td></tr>\n",
       "</tbody>\n",
       "</table>\n"
      ],
      "text/latex": [
       "\\begin{tabular}{r|llll}\n",
       " nox & rm & age & dis\\\\\n",
       "\\hline\n",
       "\t 0.538  & 6.575  & 65.2   & 4.0900\\\\\n",
       "\t 0.469  & 6.421  & 78.9   & 4.9671\\\\\n",
       "\t 0.469  & 7.185  & 61.1   & 4.9671\\\\\n",
       "\\end{tabular}\n"
      ],
      "text/markdown": [
       "\n",
       "nox | rm | age | dis | \n",
       "|---|---|---|\n",
       "| 0.538  | 6.575  | 65.2   | 4.0900 | \n",
       "| 0.469  | 6.421  | 78.9   | 4.9671 | \n",
       "| 0.469  | 7.185  | 61.1   | 4.9671 | \n",
       "\n",
       "\n"
      ],
      "text/plain": [
       "  nox   rm    age  dis   \n",
       "1 0.538 6.575 65.2 4.0900\n",
       "2 0.469 6.421 78.9 4.9671\n",
       "3 0.469 7.185 61.1 4.9671"
      ]
     },
     "metadata": {},
     "output_type": "display_data"
    }
   ],
   "source": [
    "# select : 원하는 변수 선택\n",
    "# R 기본 제공 형태가 subset이었나...?\n",
    "head(dplyr::select(my.data,\n",
    "                   nox, rm), \n",
    "     n = 3)\n",
    "\n",
    "# :을 사용해서 선택하고자 하는 변수의 범위를 지정해주어도 된다.\n",
    "head(dplyr::select(my.data, \n",
    "                   nox:dis), \n",
    "     n = 3)"
   ]
  },
  {
   "cell_type": "code",
   "execution_count": 23,
   "metadata": {
    "collapsed": false,
    "nbpresent": {
     "id": "bf302563-7c42-4ab2-a194-b513b550b439"
    }
   },
   "outputs": [
    {
     "data": {
      "text/html": [
       "<table>\n",
       "<thead><tr><th scope=col>crim</th><th scope=col>chas</th></tr></thead>\n",
       "<tbody>\n",
       "\t<tr><td>0.00632</td><td>0      </td></tr>\n",
       "\t<tr><td>0.02731</td><td>0      </td></tr>\n",
       "\t<tr><td>0.02729</td><td>0      </td></tr>\n",
       "</tbody>\n",
       "</table>\n"
      ],
      "text/latex": [
       "\\begin{tabular}{r|ll}\n",
       " crim & chas\\\\\n",
       "\\hline\n",
       "\t 0.00632 & 0      \\\\\n",
       "\t 0.02731 & 0      \\\\\n",
       "\t 0.02729 & 0      \\\\\n",
       "\\end{tabular}\n"
      ],
      "text/markdown": [
       "\n",
       "crim | chas | \n",
       "|---|---|---|\n",
       "| 0.00632 | 0       | \n",
       "| 0.02731 | 0       | \n",
       "| 0.02729 | 0       | \n",
       "\n",
       "\n"
      ],
      "text/plain": [
       "  crim    chas\n",
       "1 0.00632 0   \n",
       "2 0.02731 0   \n",
       "3 0.02729 0   "
      ]
     },
     "metadata": {},
     "output_type": "display_data"
    },
    {
     "data": {
      "text/html": [
       "<table>\n",
       "<thead><tr><th scope=col>crim</th><th scope=col>chas</th><th scope=col>dis</th></tr></thead>\n",
       "<tbody>\n",
       "\t<tr><td>0.00632</td><td>0      </td><td>4.0900 </td></tr>\n",
       "\t<tr><td>0.02731</td><td>0      </td><td>4.9671 </td></tr>\n",
       "\t<tr><td>0.02729</td><td>0      </td><td>4.9671 </td></tr>\n",
       "</tbody>\n",
       "</table>\n"
      ],
      "text/latex": [
       "\\begin{tabular}{r|lll}\n",
       " crim & chas & dis\\\\\n",
       "\\hline\n",
       "\t 0.00632 & 0       & 4.0900 \\\\\n",
       "\t 0.02731 & 0       & 4.9671 \\\\\n",
       "\t 0.02729 & 0       & 4.9671 \\\\\n",
       "\\end{tabular}\n"
      ],
      "text/markdown": [
       "\n",
       "crim | chas | dis | \n",
       "|---|---|---|\n",
       "| 0.00632 | 0       | 4.0900  | \n",
       "| 0.02731 | 0       | 4.9671  | \n",
       "| 0.02729 | 0       | 4.9671  | \n",
       "\n",
       "\n"
      ],
      "text/plain": [
       "  crim    chas dis   \n",
       "1 0.00632 0    4.0900\n",
       "2 0.02731 0    4.9671\n",
       "3 0.02729 0    4.9671"
      ]
     },
     "metadata": {},
     "output_type": "display_data"
    },
    {
     "data": {
      "text/html": [
       "<table>\n",
       "<thead><tr><th scope=col>zn</th><th scope=col>indus</th><th scope=col>nox</th><th scope=col>rm</th><th scope=col>age</th><th scope=col>rad</th><th scope=col>tax</th><th scope=col>ptratio</th><th scope=col>black</th><th scope=col>lstat</th><th scope=col>medv</th></tr></thead>\n",
       "<tbody>\n",
       "\t<tr><td>18    </td><td>2.31  </td><td>0.538 </td><td>6.575 </td><td>65.2  </td><td>1     </td><td>296   </td><td>15.3  </td><td>396.90</td><td>4.98  </td><td>24.0  </td></tr>\n",
       "\t<tr><td> 0    </td><td>7.07  </td><td>0.469 </td><td>6.421 </td><td>78.9  </td><td>2     </td><td>242   </td><td>17.8  </td><td>396.90</td><td>9.14  </td><td>21.6  </td></tr>\n",
       "\t<tr><td> 0    </td><td>7.07  </td><td>0.469 </td><td>7.185 </td><td>61.1  </td><td>2     </td><td>242   </td><td>17.8  </td><td>392.83</td><td>4.03  </td><td>34.7  </td></tr>\n",
       "</tbody>\n",
       "</table>\n"
      ],
      "text/latex": [
       "\\begin{tabular}{r|lllllllllll}\n",
       " zn & indus & nox & rm & age & rad & tax & ptratio & black & lstat & medv\\\\\n",
       "\\hline\n",
       "\t 18     & 2.31   & 0.538  & 6.575  & 65.2   & 1      & 296    & 15.3   & 396.90 & 4.98   & 24.0  \\\\\n",
       "\t  0     & 7.07   & 0.469  & 6.421  & 78.9   & 2      & 242    & 17.8   & 396.90 & 9.14   & 21.6  \\\\\n",
       "\t  0     & 7.07   & 0.469  & 7.185  & 61.1   & 2      & 242    & 17.8   & 392.83 & 4.03   & 34.7  \\\\\n",
       "\\end{tabular}\n"
      ],
      "text/markdown": [
       "\n",
       "zn | indus | nox | rm | age | rad | tax | ptratio | black | lstat | medv | \n",
       "|---|---|---|\n",
       "| 18     | 2.31   | 0.538  | 6.575  | 65.2   | 1      | 296    | 15.3   | 396.90 | 4.98   | 24.0   | \n",
       "|  0     | 7.07   | 0.469  | 6.421  | 78.9   | 2      | 242    | 17.8   | 396.90 | 9.14   | 21.6   | \n",
       "|  0     | 7.07   | 0.469  | 7.185  | 61.1   | 2      | 242    | 17.8   | 392.83 | 4.03   | 34.7   | \n",
       "\n",
       "\n"
      ],
      "text/plain": [
       "  zn indus nox   rm    age  rad tax ptratio black  lstat medv\n",
       "1 18 2.31  0.538 6.575 65.2 1   296 15.3    396.90 4.98  24.0\n",
       "2  0 7.07  0.469 6.421 78.9 2   242 17.8    396.90 9.14  21.6\n",
       "3  0 7.07  0.469 7.185 61.1 2   242 17.8    392.83 4.03  34.7"
      ]
     },
     "metadata": {},
     "output_type": "display_data"
    }
   ],
   "source": [
    "# start_with('문자') => 문자로 시작하는 변수 select\n",
    "head(dplyr::select(my.data, \n",
    "                   starts_with('c')), \n",
    "     n = 3) \n",
    "\n",
    "# 정규표현식을 이용한 변수 select\n",
    "# matches('정규표현식') \n",
    "# matches('^[cd]') => c or d로 시작하는 변수를 select\n",
    "head(dplyr::select(my.data, \n",
    "                   matches('^[cd]')),\n",
    "     n = 3)\n",
    "\n",
    "# -matches('^[cd]') => c or d로 시작하는 변수를 제외하고 select     \n",
    "head(dplyr::select(my.data,\n",
    "              -matches('^[cd]')),\n",
    "     n = 3)     "
   ]
  },
  {
   "cell_type": "markdown",
   "metadata": {
    "nbpresent": {
     "id": "5a0ac0c7-7a9d-440b-b115-7c234a48ee6d"
    }
   },
   "source": [
    "# Rename columns with rename()\n",
    "---"
   ]
  },
  {
   "cell_type": "code",
   "execution_count": 25,
   "metadata": {
    "collapsed": false,
    "nbpresent": {
     "id": "4a3b2844-b0a8-40a6-8c0e-68a9863a6aed"
    }
   },
   "outputs": [
    {
     "data": {
      "text/html": [
       "<table>\n",
       "<thead><tr><th scope=col>crim</th><th scope=col>Z.N</th><th scope=col>indus</th><th scope=col>chas</th><th scope=col>nox</th><th scope=col>rm</th><th scope=col>age</th><th scope=col>dis</th><th scope=col>rad</th><th scope=col>tax</th><th scope=col>ptratio</th><th scope=col>black</th><th scope=col>lstat</th><th scope=col>medv</th></tr></thead>\n",
       "<tbody>\n",
       "\t<tr><td>0.00632</td><td>18     </td><td>2.31   </td><td>0      </td><td>0.538  </td><td>6.575  </td><td>65.2   </td><td>4.0900 </td><td>1      </td><td>296    </td><td>15.3   </td><td>396.90 </td><td>4.98   </td><td>24.0   </td></tr>\n",
       "\t<tr><td>0.02731</td><td> 0     </td><td>7.07   </td><td>0      </td><td>0.469  </td><td>6.421  </td><td>78.9   </td><td>4.9671 </td><td>2      </td><td>242    </td><td>17.8   </td><td>396.90 </td><td>9.14   </td><td>21.6   </td></tr>\n",
       "\t<tr><td>0.02729</td><td> 0     </td><td>7.07   </td><td>0      </td><td>0.469  </td><td>7.185  </td><td>61.1   </td><td>4.9671 </td><td>2      </td><td>242    </td><td>17.8   </td><td>392.83 </td><td>4.03   </td><td>34.7   </td></tr>\n",
       "</tbody>\n",
       "</table>\n"
      ],
      "text/latex": [
       "\\begin{tabular}{r|llllllllllllll}\n",
       " crim & Z.N & indus & chas & nox & rm & age & dis & rad & tax & ptratio & black & lstat & medv\\\\\n",
       "\\hline\n",
       "\t 0.00632 & 18      & 2.31    & 0       & 0.538   & 6.575   & 65.2    & 4.0900  & 1       & 296     & 15.3    & 396.90  & 4.98    & 24.0   \\\\\n",
       "\t 0.02731 &  0      & 7.07    & 0       & 0.469   & 6.421   & 78.9    & 4.9671  & 2       & 242     & 17.8    & 396.90  & 9.14    & 21.6   \\\\\n",
       "\t 0.02729 &  0      & 7.07    & 0       & 0.469   & 7.185   & 61.1    & 4.9671  & 2       & 242     & 17.8    & 392.83  & 4.03    & 34.7   \\\\\n",
       "\\end{tabular}\n"
      ],
      "text/markdown": [
       "\n",
       "crim | Z.N | indus | chas | nox | rm | age | dis | rad | tax | ptratio | black | lstat | medv | \n",
       "|---|---|---|\n",
       "| 0.00632 | 18      | 2.31    | 0       | 0.538   | 6.575   | 65.2    | 4.0900  | 1       | 296     | 15.3    | 396.90  | 4.98    | 24.0    | \n",
       "| 0.02731 |  0      | 7.07    | 0       | 0.469   | 6.421   | 78.9    | 4.9671  | 2       | 242     | 17.8    | 396.90  | 9.14    | 21.6    | \n",
       "| 0.02729 |  0      | 7.07    | 0       | 0.469   | 7.185   | 61.1    | 4.9671  | 2       | 242     | 17.8    | 392.83  | 4.03    | 34.7    | \n",
       "\n",
       "\n"
      ],
      "text/plain": [
       "  crim    Z.N indus chas nox   rm    age  dis    rad tax ptratio black  lstat\n",
       "1 0.00632 18  2.31  0    0.538 6.575 65.2 4.0900 1   296 15.3    396.90 4.98 \n",
       "2 0.02731  0  7.07  0    0.469 6.421 78.9 4.9671 2   242 17.8    396.90 9.14 \n",
       "3 0.02729  0  7.07  0    0.469 7.185 61.1 4.9671 2   242 17.8    392.83 4.03 \n",
       "  medv\n",
       "1 24.0\n",
       "2 21.6\n",
       "3 34.7"
      ]
     },
     "metadata": {},
     "output_type": "display_data"
    }
   ],
   "source": [
    "# zn 변수명을 Z.N으로 변경\n",
    "head(rename(my.data,\n",
    "            Z.N=zn),\n",
    "     n = 3)"
   ]
  },
  {
   "cell_type": "markdown",
   "metadata": {
    "nbpresent": {
     "id": "2e1971c7-7f78-48ea-9867-ec186b03853f"
    }
   },
   "source": [
    "# Add new columns (that are functions of existing columns) with mutate()\n",
    "---"
   ]
  },
  {
   "cell_type": "code",
   "execution_count": 29,
   "metadata": {
    "collapsed": false,
    "nbpresent": {
     "id": "a51ebfe0-ae6b-4214-89d1-5d74029a6193"
    }
   },
   "outputs": [
    {
     "data": {
      "text/html": [
       "<table>\n",
       "<thead><tr><th scope=col>crim</th><th scope=col>zn</th><th scope=col>indus</th><th scope=col>chas</th><th scope=col>nox</th><th scope=col>rm</th><th scope=col>age</th><th scope=col>dis</th><th scope=col>rad</th><th scope=col>tax</th><th scope=col>ptratio</th><th scope=col>black</th><th scope=col>lstat</th><th scope=col>medv</th><th scope=col>twice.age</th><th scope=col>new.col</th></tr></thead>\n",
       "<tbody>\n",
       "\t<tr><td>0.00632 </td><td>18      </td><td>2.31    </td><td>0       </td><td>0.538   </td><td>6.575   </td><td>65.2    </td><td>4.0900  </td><td>1       </td><td>296     </td><td>15.3    </td><td>396.90  </td><td>4.98    </td><td>24.0    </td><td>130.4   </td><td>11.41928</td></tr>\n",
       "\t<tr><td>0.02731 </td><td> 0      </td><td>7.07    </td><td>0       </td><td>0.469   </td><td>6.421   </td><td>78.9    </td><td>4.9671  </td><td>2       </td><td>242     </td><td>17.8    </td><td>396.90  </td><td>9.14    </td><td>21.6    </td><td>157.8   </td><td>12.56185</td></tr>\n",
       "\t<tr><td>0.02729 </td><td> 0      </td><td>7.07    </td><td>0       </td><td>0.469   </td><td>7.185   </td><td>61.1    </td><td>4.9671  </td><td>2       </td><td>242     </td><td>17.8    </td><td>392.83  </td><td>4.03    </td><td>34.7    </td><td>122.2   </td><td>11.05441</td></tr>\n",
       "</tbody>\n",
       "</table>\n"
      ],
      "text/latex": [
       "\\begin{tabular}{r|llllllllllllllll}\n",
       " crim & zn & indus & chas & nox & rm & age & dis & rad & tax & ptratio & black & lstat & medv & twice.age & new.col\\\\\n",
       "\\hline\n",
       "\t 0.00632  & 18       & 2.31     & 0        & 0.538    & 6.575    & 65.2     & 4.0900   & 1        & 296      & 15.3     & 396.90   & 4.98     & 24.0     & 130.4    & 11.41928\\\\\n",
       "\t 0.02731  &  0       & 7.07     & 0        & 0.469    & 6.421    & 78.9     & 4.9671   & 2        & 242      & 17.8     & 396.90   & 9.14     & 21.6     & 157.8    & 12.56185\\\\\n",
       "\t 0.02729  &  0       & 7.07     & 0        & 0.469    & 7.185    & 61.1     & 4.9671   & 2        & 242      & 17.8     & 392.83   & 4.03     & 34.7     & 122.2    & 11.05441\\\\\n",
       "\\end{tabular}\n"
      ],
      "text/markdown": [
       "\n",
       "crim | zn | indus | chas | nox | rm | age | dis | rad | tax | ptratio | black | lstat | medv | twice.age | new.col | \n",
       "|---|---|---|\n",
       "| 0.00632  | 18       | 2.31     | 0        | 0.538    | 6.575    | 65.2     | 4.0900   | 1        | 296      | 15.3     | 396.90   | 4.98     | 24.0     | 130.4    | 11.41928 | \n",
       "| 0.02731  |  0       | 7.07     | 0        | 0.469    | 6.421    | 78.9     | 4.9671   | 2        | 242      | 17.8     | 396.90   | 9.14     | 21.6     | 157.8    | 12.56185 | \n",
       "| 0.02729  |  0       | 7.07     | 0        | 0.469    | 7.185    | 61.1     | 4.9671   | 2        | 242      | 17.8     | 392.83   | 4.03     | 34.7     | 122.2    | 11.05441 | \n",
       "\n",
       "\n"
      ],
      "text/plain": [
       "  crim    zn indus chas nox   rm    age  dis    rad tax ptratio black  lstat\n",
       "1 0.00632 18 2.31  0    0.538 6.575 65.2 4.0900 1   296 15.3    396.90 4.98 \n",
       "2 0.02731  0 7.07  0    0.469 6.421 78.9 4.9671 2   242 17.8    396.90 9.14 \n",
       "3 0.02729  0 7.07  0    0.469 7.185 61.1 4.9671 2   242 17.8    392.83 4.03 \n",
       "  medv twice.age new.col \n",
       "1 24.0 130.4     11.41928\n",
       "2 21.6 157.8     12.56185\n",
       "3 34.7 122.2     11.05441"
      ]
     },
     "metadata": {},
     "output_type": "display_data"
    }
   ],
   "source": [
    "# 새로운 변수(column) 삽입 => mutate\n",
    "# 2*age한 값을 twice.age 변수로 추가\n",
    "# sqrt(twice.age)한 값을 new.col 변수로 추가 \n",
    "head(mutate(my.data,\n",
    "           twice.age = 2*age,\n",
    "           new.col = sqrt(twice.age)),\n",
    "     n = 3)"
   ]
  },
  {
   "cell_type": "code",
   "execution_count": 30,
   "metadata": {
    "collapsed": false,
    "nbpresent": {
     "id": "74331131-c17e-4a8f-91fd-d856021dd49d"
    }
   },
   "outputs": [
    {
     "data": {
      "text/html": [
       "<table>\n",
       "<thead><tr><th scope=col>twice.age</th><th scope=col>new.col</th></tr></thead>\n",
       "<tbody>\n",
       "\t<tr><td>130.4   </td><td>11.41928</td></tr>\n",
       "\t<tr><td>157.8   </td><td>12.56185</td></tr>\n",
       "\t<tr><td>122.2   </td><td>11.05441</td></tr>\n",
       "</tbody>\n",
       "</table>\n"
      ],
      "text/latex": [
       "\\begin{tabular}{r|ll}\n",
       " twice.age & new.col\\\\\n",
       "\\hline\n",
       "\t 130.4    & 11.41928\\\\\n",
       "\t 157.8    & 12.56185\\\\\n",
       "\t 122.2    & 11.05441\\\\\n",
       "\\end{tabular}\n"
      ],
      "text/markdown": [
       "\n",
       "twice.age | new.col | \n",
       "|---|---|---|\n",
       "| 130.4    | 11.41928 | \n",
       "| 157.8    | 12.56185 | \n",
       "| 122.2    | 11.05441 | \n",
       "\n",
       "\n"
      ],
      "text/plain": [
       "  twice.age new.col \n",
       "1 130.4     11.41928\n",
       "2 157.8     12.56185\n",
       "3 122.2     11.05441"
      ]
     },
     "metadata": {},
     "output_type": "display_data"
    }
   ],
   "source": [
    "# transmute\n",
    "# mutate와 비슷하지만 새롭게 추가된 변수만 결과로 반환\n",
    "head(transmute(my.data,\n",
    "               twice.age = 2*age,\n",
    "               new.col = sqrt(twice.age)),\n",
    "     n = 3)"
   ]
  },
  {
   "cell_type": "markdown",
   "metadata": {
    "nbpresent": {
     "id": "194338c1-d66f-4ab3-b332-ec1492ad886e"
    }
   },
   "source": [
    "# Summarise values with summarise()\n",
    "---"
   ]
  },
  {
   "cell_type": "code",
   "execution_count": 31,
   "metadata": {
    "collapsed": false,
    "nbpresent": {
     "id": "0d252b10-82b1-4ebe-b429-121d981a249f"
    }
   },
   "outputs": [
    {
     "data": {
      "text/html": [
       "<table>\n",
       "<thead><tr><th scope=col>mean.age</th></tr></thead>\n",
       "<tbody>\n",
       "\t<tr><td>68.5749</td></tr>\n",
       "</tbody>\n",
       "</table>\n"
      ],
      "text/latex": [
       "\\begin{tabular}{r|l}\n",
       " mean.age\\\\\n",
       "\\hline\n",
       "\t 68.5749\\\\\n",
       "\\end{tabular}\n"
      ],
      "text/markdown": [
       "\n",
       "mean.age | \n",
       "|---|\n",
       "| 68.5749 | \n",
       "\n",
       "\n"
      ],
      "text/plain": [
       "  mean.age\n",
       "1 68.5749 "
      ]
     },
     "metadata": {},
     "output_type": "display_data"
    }
   ],
   "source": [
    "# na값을 제외한 age의 평균을 계산해서 mean.age에 넣어줌)\n",
    "# group_by와 같이 사용해서 group별 연산 결과를 데이터로 삽입 가능\n",
    "summarise(my.data, \n",
    "          mean.age = mean(age, na.rm = TRUE))"
   ]
  },
  {
   "cell_type": "markdown",
   "metadata": {
    "nbpresent": {
     "id": "e1d3249d-1a2f-4674-8b3e-4c64ff5c5cb4"
    }
   },
   "source": [
    "# Select rows by position with slice():\n",
    "---"
   ]
  },
  {
   "cell_type": "code",
   "execution_count": 35,
   "metadata": {
    "collapsed": false,
    "nbpresent": {
     "id": "12f53a98-56df-4a43-9bed-69c623e24636"
    }
   },
   "outputs": [
    {
     "data": {
      "text/html": [
       "<table>\n",
       "<thead><tr><th scope=col>crim</th><th scope=col>zn</th><th scope=col>indus</th><th scope=col>chas</th><th scope=col>nox</th><th scope=col>rm</th><th scope=col>age</th><th scope=col>dis</th><th scope=col>rad</th><th scope=col>tax</th><th scope=col>ptratio</th><th scope=col>black</th><th scope=col>lstat</th><th scope=col>medv</th></tr></thead>\n",
       "<tbody>\n",
       "\t<tr><td>0.02731</td><td> 0.0   </td><td>7.07   </td><td>0      </td><td>0.469  </td><td>6.421  </td><td>78.9   </td><td>4.9671 </td><td>2      </td><td>242    </td><td>17.8   </td><td>396.90 </td><td> 9.14  </td><td>21.6   </td></tr>\n",
       "\t<tr><td>0.02729</td><td> 0.0   </td><td>7.07   </td><td>0      </td><td>0.469  </td><td>7.185  </td><td>61.1   </td><td>4.9671 </td><td>2      </td><td>242    </td><td>17.8   </td><td>392.83 </td><td> 4.03  </td><td>34.7   </td></tr>\n",
       "\t<tr><td>0.03237</td><td> 0.0   </td><td>2.18   </td><td>0      </td><td>0.458  </td><td>6.998  </td><td>45.8   </td><td>6.0622 </td><td>3      </td><td>222    </td><td>18.7   </td><td>394.63 </td><td> 2.94  </td><td>33.4   </td></tr>\n",
       "\t<tr><td>0.06905</td><td> 0.0   </td><td>2.18   </td><td>0      </td><td>0.458  </td><td>7.147  </td><td>54.2   </td><td>6.0622 </td><td>3      </td><td>222    </td><td>18.7   </td><td>396.90 </td><td> 5.33  </td><td>36.2   </td></tr>\n",
       "\t<tr><td>0.02985</td><td> 0.0   </td><td>2.18   </td><td>0      </td><td>0.458  </td><td>6.430  </td><td>58.7   </td><td>6.0622 </td><td>3      </td><td>222    </td><td>18.7   </td><td>394.12 </td><td> 5.21  </td><td>28.7   </td></tr>\n",
       "\t<tr><td>0.14455</td><td>12.5   </td><td>7.87   </td><td>0      </td><td>0.524  </td><td>6.172  </td><td>96.1   </td><td>5.9505 </td><td>5      </td><td>311    </td><td>15.2   </td><td>396.90 </td><td>19.15  </td><td>27.1   </td></tr>\n",
       "</tbody>\n",
       "</table>\n"
      ],
      "text/latex": [
       "\\begin{tabular}{r|llllllllllllll}\n",
       " crim & zn & indus & chas & nox & rm & age & dis & rad & tax & ptratio & black & lstat & medv\\\\\n",
       "\\hline\n",
       "\t 0.02731 &  0.0    & 7.07    & 0       & 0.469   & 6.421   & 78.9    & 4.9671  & 2       & 242     & 17.8    & 396.90  &  9.14   & 21.6   \\\\\n",
       "\t 0.02729 &  0.0    & 7.07    & 0       & 0.469   & 7.185   & 61.1    & 4.9671  & 2       & 242     & 17.8    & 392.83  &  4.03   & 34.7   \\\\\n",
       "\t 0.03237 &  0.0    & 2.18    & 0       & 0.458   & 6.998   & 45.8    & 6.0622  & 3       & 222     & 18.7    & 394.63  &  2.94   & 33.4   \\\\\n",
       "\t 0.06905 &  0.0    & 2.18    & 0       & 0.458   & 7.147   & 54.2    & 6.0622  & 3       & 222     & 18.7    & 396.90  &  5.33   & 36.2   \\\\\n",
       "\t 0.02985 &  0.0    & 2.18    & 0       & 0.458   & 6.430   & 58.7    & 6.0622  & 3       & 222     & 18.7    & 394.12  &  5.21   & 28.7   \\\\\n",
       "\t 0.14455 & 12.5    & 7.87    & 0       & 0.524   & 6.172   & 96.1    & 5.9505  & 5       & 311     & 15.2    & 396.90  & 19.15   & 27.1   \\\\\n",
       "\\end{tabular}\n"
      ],
      "text/markdown": [
       "\n",
       "crim | zn | indus | chas | nox | rm | age | dis | rad | tax | ptratio | black | lstat | medv | \n",
       "|---|---|---|---|---|---|\n",
       "| 0.02731 |  0.0    | 7.07    | 0       | 0.469   | 6.421   | 78.9    | 4.9671  | 2       | 242     | 17.8    | 396.90  |  9.14   | 21.6    | \n",
       "| 0.02729 |  0.0    | 7.07    | 0       | 0.469   | 7.185   | 61.1    | 4.9671  | 2       | 242     | 17.8    | 392.83  |  4.03   | 34.7    | \n",
       "| 0.03237 |  0.0    | 2.18    | 0       | 0.458   | 6.998   | 45.8    | 6.0622  | 3       | 222     | 18.7    | 394.63  |  2.94   | 33.4    | \n",
       "| 0.06905 |  0.0    | 2.18    | 0       | 0.458   | 7.147   | 54.2    | 6.0622  | 3       | 222     | 18.7    | 396.90  |  5.33   | 36.2    | \n",
       "| 0.02985 |  0.0    | 2.18    | 0       | 0.458   | 6.430   | 58.7    | 6.0622  | 3       | 222     | 18.7    | 394.12  |  5.21   | 28.7    | \n",
       "| 0.14455 | 12.5    | 7.87    | 0       | 0.524   | 6.172   | 96.1    | 5.9505  | 5       | 311     | 15.2    | 396.90  | 19.15   | 27.1    | \n",
       "\n",
       "\n"
      ],
      "text/plain": [
       "  crim    zn   indus chas nox   rm    age  dis    rad tax ptratio black  lstat\n",
       "1 0.02731  0.0 7.07  0    0.469 6.421 78.9 4.9671 2   242 17.8    396.90  9.14\n",
       "2 0.02729  0.0 7.07  0    0.469 7.185 61.1 4.9671 2   242 17.8    392.83  4.03\n",
       "3 0.03237  0.0 2.18  0    0.458 6.998 45.8 6.0622 3   222 18.7    394.63  2.94\n",
       "4 0.06905  0.0 2.18  0    0.458 7.147 54.2 6.0622 3   222 18.7    396.90  5.33\n",
       "5 0.02985  0.0 2.18  0    0.458 6.430 58.7 6.0622 3   222 18.7    394.12  5.21\n",
       "6 0.14455 12.5 7.87  0    0.524 6.172 96.1 5.9505 5   311 15.2    396.90 19.15\n",
       "  medv\n",
       "1 21.6\n",
       "2 34.7\n",
       "3 33.4\n",
       "4 36.2\n",
       "5 28.7\n",
       "6 27.1"
      ]
     },
     "metadata": {},
     "output_type": "display_data"
    },
    {
     "data": {
      "text/html": [
       "<table>\n",
       "<thead><tr><th scope=col>crim</th><th scope=col>zn</th><th scope=col>indus</th><th scope=col>chas</th><th scope=col>nox</th><th scope=col>rm</th><th scope=col>age</th><th scope=col>dis</th><th scope=col>rad</th><th scope=col>tax</th><th scope=col>ptratio</th><th scope=col>black</th><th scope=col>lstat</th><th scope=col>medv</th></tr></thead>\n",
       "<tbody>\n",
       "\t<tr><td>0.04741</td><td>0      </td><td>11.93  </td><td>0      </td><td>0.573  </td><td>6.03   </td><td>80.8   </td><td>2.505  </td><td>1      </td><td>273    </td><td>21     </td><td>396.9  </td><td>7.88   </td><td>11.9   </td></tr>\n",
       "</tbody>\n",
       "</table>\n"
      ],
      "text/latex": [
       "\\begin{tabular}{r|llllllllllllll}\n",
       " crim & zn & indus & chas & nox & rm & age & dis & rad & tax & ptratio & black & lstat & medv\\\\\n",
       "\\hline\n",
       "\t 0.04741 & 0       & 11.93   & 0       & 0.573   & 6.03    & 80.8    & 2.505   & 1       & 273     & 21      & 396.9   & 7.88    & 11.9   \\\\\n",
       "\\end{tabular}\n"
      ],
      "text/markdown": [
       "\n",
       "crim | zn | indus | chas | nox | rm | age | dis | rad | tax | ptratio | black | lstat | medv | \n",
       "|---|\n",
       "| 0.04741 | 0       | 11.93   | 0       | 0.573   | 6.03    | 80.8    | 2.505   | 1       | 273     | 21      | 396.9   | 7.88    | 11.9    | \n",
       "\n",
       "\n"
      ],
      "text/plain": [
       "  crim    zn indus chas nox   rm   age  dis   rad tax ptratio black lstat medv\n",
       "1 0.04741 0  11.93 0    0.573 6.03 80.8 2.505 1   273 21      396.9 7.88  11.9"
      ]
     },
     "metadata": {},
     "output_type": "display_data"
    }
   ],
   "source": [
    "# 데이터 슬라이싱\n",
    "# 2:6(2,3,4,5,6) , 8 에 해당하는 row(데이터) 출력 \n",
    "slice(my.data, c(2:6,8))\n",
    "\n",
    "# 마지막 row(데이터) 출력\n",
    "slice(my.data, n()) "
   ]
  },
  {
   "cell_type": "markdown",
   "metadata": {
    "nbpresent": {
     "id": "04b05a43-7128-41b7-bea6-cbd40ca95aea"
    }
   },
   "source": [
    "# Extract distinct (unique) rows with distinct()\n",
    "---"
   ]
  },
  {
   "cell_type": "code",
   "execution_count": 42,
   "metadata": {
    "collapsed": false,
    "nbpresent": {
     "id": "fcd5d964-8e13-4cf7-b9ea-ae99b32be4b6"
    }
   },
   "outputs": [
    {
     "data": {
      "text/html": [
       "<table>\n",
       "<thead><tr><th scope=col>Origin</th></tr></thead>\n",
       "<tbody>\n",
       "\t<tr><td>non-USA</td></tr>\n",
       "\t<tr><td>USA    </td></tr>\n",
       "</tbody>\n",
       "</table>\n"
      ],
      "text/latex": [
       "\\begin{tabular}{r|l}\n",
       " Origin\\\\\n",
       "\\hline\n",
       "\t non-USA\\\\\n",
       "\t USA    \\\\\n",
       "\\end{tabular}\n"
      ],
      "text/markdown": [
       "\n",
       "Origin | \n",
       "|---|---|\n",
       "| non-USA | \n",
       "| USA     | \n",
       "\n",
       "\n"
      ],
      "text/plain": [
       "  Origin \n",
       "1 non-USA\n",
       "2 USA    "
      ]
     },
     "metadata": {},
     "output_type": "display_data"
    },
    {
     "data": {
      "text/html": [
       "<table>\n",
       "<thead><tr><th scope=col>Type</th></tr></thead>\n",
       "<tbody>\n",
       "\t<tr><td>Small  </td></tr>\n",
       "\t<tr><td>Midsize</td></tr>\n",
       "\t<tr><td>Compact</td></tr>\n",
       "\t<tr><td>Large  </td></tr>\n",
       "\t<tr><td>Sporty </td></tr>\n",
       "\t<tr><td>Van    </td></tr>\n",
       "</tbody>\n",
       "</table>\n"
      ],
      "text/latex": [
       "\\begin{tabular}{r|l}\n",
       " Type\\\\\n",
       "\\hline\n",
       "\t Small  \\\\\n",
       "\t Midsize\\\\\n",
       "\t Compact\\\\\n",
       "\t Large  \\\\\n",
       "\t Sporty \\\\\n",
       "\t Van    \\\\\n",
       "\\end{tabular}\n"
      ],
      "text/markdown": [
       "\n",
       "Type | \n",
       "|---|---|---|---|---|---|\n",
       "| Small   | \n",
       "| Midsize | \n",
       "| Compact | \n",
       "| Large   | \n",
       "| Sporty  | \n",
       "| Van     | \n",
       "\n",
       "\n"
      ],
      "text/plain": [
       "  Type   \n",
       "1 Small  \n",
       "2 Midsize\n",
       "3 Compact\n",
       "4 Large  \n",
       "5 Sporty \n",
       "6 Van    "
      ]
     },
     "metadata": {},
     "output_type": "display_data"
    },
    {
     "data": {
      "text/html": [
       "<table>\n",
       "<thead><tr><th scope=col>Type</th><th scope=col>Origin</th></tr></thead>\n",
       "<tbody>\n",
       "\t<tr><td>Small  </td><td>non-USA</td></tr>\n",
       "\t<tr><td>Midsize</td><td>non-USA</td></tr>\n",
       "\t<tr><td>Compact</td><td>non-USA</td></tr>\n",
       "\t<tr><td>Midsize</td><td>USA    </td></tr>\n",
       "\t<tr><td>Large  </td><td>USA    </td></tr>\n",
       "\t<tr><td>Compact</td><td>USA    </td></tr>\n",
       "\t<tr><td>Sporty </td><td>USA    </td></tr>\n",
       "\t<tr><td>Van    </td><td>USA    </td></tr>\n",
       "\t<tr><td>Small  </td><td>USA    </td></tr>\n",
       "\t<tr><td>Sporty </td><td>non-USA</td></tr>\n",
       "\t<tr><td>Van    </td><td>non-USA</td></tr>\n",
       "</tbody>\n",
       "</table>\n"
      ],
      "text/latex": [
       "\\begin{tabular}{r|ll}\n",
       " Type & Origin\\\\\n",
       "\\hline\n",
       "\t Small   & non-USA\\\\\n",
       "\t Midsize & non-USA\\\\\n",
       "\t Compact & non-USA\\\\\n",
       "\t Midsize & USA    \\\\\n",
       "\t Large   & USA    \\\\\n",
       "\t Compact & USA    \\\\\n",
       "\t Sporty  & USA    \\\\\n",
       "\t Van     & USA    \\\\\n",
       "\t Small   & USA    \\\\\n",
       "\t Sporty  & non-USA\\\\\n",
       "\t Van     & non-USA\\\\\n",
       "\\end{tabular}\n"
      ],
      "text/markdown": [
       "\n",
       "Type | Origin | \n",
       "|---|---|---|---|---|---|---|---|---|---|---|\n",
       "| Small   | non-USA | \n",
       "| Midsize | non-USA | \n",
       "| Compact | non-USA | \n",
       "| Midsize | USA     | \n",
       "| Large   | USA     | \n",
       "| Compact | USA     | \n",
       "| Sporty  | USA     | \n",
       "| Van     | USA     | \n",
       "| Small   | USA     | \n",
       "| Sporty  | non-USA | \n",
       "| Van     | non-USA | \n",
       "\n",
       "\n"
      ],
      "text/plain": [
       "   Type    Origin \n",
       "1  Small   non-USA\n",
       "2  Midsize non-USA\n",
       "3  Compact non-USA\n",
       "4  Midsize USA    \n",
       "5  Large   USA    \n",
       "6  Compact USA    \n",
       "7  Sporty  USA    \n",
       "8  Van     USA    \n",
       "9  Small   USA    \n",
       "10 Sporty  non-USA\n",
       "11 Van     non-USA"
      ]
     },
     "metadata": {},
     "output_type": "display_data"
    }
   ],
   "source": [
    "# distint() : 중복된 row를 제거해서 데이터 출력\n",
    "# R 기본 기능 unique와 동일하지만 c언어 기반으로 구현되어 있어서 속도가 빠름\n",
    "# Cars93 데이터로 살펴보자\n",
    "distinct(Cars93, Origin)\n",
    "distinct(Cars93, Type)\n",
    "distinct(Cars93, Origin, Type)"
   ]
  },
  {
   "cell_type": "markdown",
   "metadata": {
    "nbpresent": {
     "id": "2c590afc-3150-4466-b2b7-5159311ce90c"
    }
   },
   "source": [
    "# Create samples with sample_n() and sample_f()\n",
    "---"
   ]
  },
  {
   "cell_type": "code",
   "execution_count": 47,
   "metadata": {
    "collapsed": false,
    "nbpresent": {
     "id": "02157e2f-7107-40d1-ae4f-7b55a2efb942"
    }
   },
   "outputs": [
    {
     "data": {
      "text/html": [
       "<table>\n",
       "<thead><tr><th scope=col>crim</th><th scope=col>zn</th><th scope=col>indus</th><th scope=col>chas</th><th scope=col>nox</th><th scope=col>rm</th><th scope=col>age</th><th scope=col>dis</th><th scope=col>rad</th><th scope=col>tax</th><th scope=col>ptratio</th><th scope=col>black</th><th scope=col>lstat</th><th scope=col>medv</th></tr></thead>\n",
       "<tbody>\n",
       "\t<tr><td> 0.62739</td><td>0       </td><td> 8.14   </td><td>0       </td><td>0.538   </td><td>5.834   </td><td>56.5    </td><td>4.4986  </td><td> 4      </td><td>307     </td><td>21.0    </td><td>395.62  </td><td> 8.47   </td><td>19.9    </td></tr>\n",
       "\t<tr><td>16.81180</td><td>0       </td><td>18.10   </td><td>0       </td><td>0.700   </td><td>5.277   </td><td>98.1    </td><td>1.4261  </td><td>24      </td><td>666     </td><td>20.2    </td><td>396.90  </td><td>30.81   </td><td> 7.2    </td></tr>\n",
       "\t<tr><td> 0.17331</td><td>0       </td><td> 9.69   </td><td>0       </td><td>0.585   </td><td>5.707   </td><td>54.0    </td><td>2.3817  </td><td> 6      </td><td>391     </td><td>19.2    </td><td>396.90  </td><td>12.01   </td><td>21.8    </td></tr>\n",
       "</tbody>\n",
       "</table>\n"
      ],
      "text/latex": [
       "\\begin{tabular}{r|llllllllllllll}\n",
       " crim & zn & indus & chas & nox & rm & age & dis & rad & tax & ptratio & black & lstat & medv\\\\\n",
       "\\hline\n",
       "\t  0.62739 & 0        &  8.14    & 0        & 0.538    & 5.834    & 56.5     & 4.4986   &  4       & 307      & 21.0     & 395.62   &  8.47    & 19.9    \\\\\n",
       "\t 16.81180 & 0        & 18.10    & 0        & 0.700    & 5.277    & 98.1     & 1.4261   & 24       & 666      & 20.2     & 396.90   & 30.81    &  7.2    \\\\\n",
       "\t  0.17331 & 0        &  9.69    & 0        & 0.585    & 5.707    & 54.0     & 2.3817   &  6       & 391      & 19.2     & 396.90   & 12.01    & 21.8    \\\\\n",
       "\\end{tabular}\n"
      ],
      "text/markdown": [
       "\n",
       "crim | zn | indus | chas | nox | rm | age | dis | rad | tax | ptratio | black | lstat | medv | \n",
       "|---|---|---|\n",
       "|  0.62739 | 0        |  8.14    | 0        | 0.538    | 5.834    | 56.5     | 4.4986   |  4       | 307      | 21.0     | 395.62   |  8.47    | 19.9     | \n",
       "| 16.81180 | 0        | 18.10    | 0        | 0.700    | 5.277    | 98.1     | 1.4261   | 24       | 666      | 20.2     | 396.90   | 30.81    |  7.2     | \n",
       "|  0.17331 | 0        |  9.69    | 0        | 0.585    | 5.707    | 54.0     | 2.3817   |  6       | 391      | 19.2     | 396.90   | 12.01    | 21.8     | \n",
       "\n",
       "\n"
      ],
      "text/plain": [
       "  crim     zn indus chas nox   rm    age  dis    rad tax ptratio black  lstat\n",
       "1  0.62739 0   8.14 0    0.538 5.834 56.5 4.4986  4  307 21.0    395.62  8.47\n",
       "2 16.81180 0  18.10 0    0.700 5.277 98.1 1.4261 24  666 20.2    396.90 30.81\n",
       "3  0.17331 0   9.69 0    0.585 5.707 54.0 2.3817  6  391 19.2    396.90 12.01\n",
       "  medv\n",
       "1 19.9\n",
       "2  7.2\n",
       "3 21.8"
      ]
     },
     "metadata": {},
     "output_type": "display_data"
    },
    {
     "data": {
      "text/html": [
       "<table>\n",
       "<thead><tr><th scope=col>crim</th><th scope=col>zn</th><th scope=col>indus</th><th scope=col>chas</th><th scope=col>nox</th><th scope=col>rm</th><th scope=col>age</th><th scope=col>dis</th><th scope=col>rad</th><th scope=col>tax</th><th scope=col>ptratio</th><th scope=col>black</th><th scope=col>lstat</th><th scope=col>medv</th></tr></thead>\n",
       "<tbody>\n",
       "\t<tr><td>0.08187</td><td>0      </td><td> 2.89  </td><td>0      </td><td>0.445  </td><td>7.820  </td><td>36.9   </td><td>3.4952 </td><td>2      </td><td>276    </td><td>18.0   </td><td>393.53 </td><td>3.57   </td><td>43.8   </td></tr>\n",
       "\t<tr><td>0.02498</td><td>0      </td><td> 1.89  </td><td>0      </td><td>0.518  </td><td>6.540  </td><td>59.7   </td><td>6.2669 </td><td>1      </td><td>422    </td><td>15.9   </td><td>389.96 </td><td>8.65   </td><td>16.5   </td></tr>\n",
       "\t<tr><td>0.19539</td><td>0      </td><td>10.81  </td><td>0      </td><td>0.413  </td><td>6.245  </td><td> 6.2   </td><td>5.2873 </td><td>4      </td><td>305    </td><td>19.2   </td><td>377.17 </td><td>7.54   </td><td>23.4   </td></tr>\n",
       "\t<tr><td>0.61470</td><td>0      </td><td> 6.20  </td><td>0      </td><td>0.507  </td><td>6.618  </td><td>80.8   </td><td>3.2721 </td><td>8      </td><td>307    </td><td>17.4   </td><td>396.90 </td><td>7.60   </td><td>30.1   </td></tr>\n",
       "\t<tr><td>0.79041</td><td>0      </td><td> 9.90  </td><td>0      </td><td>0.544  </td><td>6.122  </td><td>52.8   </td><td>2.6403 </td><td>4      </td><td>304    </td><td>18.4   </td><td>396.90 </td><td>5.98   </td><td>22.1   </td></tr>\n",
       "</tbody>\n",
       "</table>\n"
      ],
      "text/latex": [
       "\\begin{tabular}{r|llllllllllllll}\n",
       " crim & zn & indus & chas & nox & rm & age & dis & rad & tax & ptratio & black & lstat & medv\\\\\n",
       "\\hline\n",
       "\t 0.08187 & 0       &  2.89   & 0       & 0.445   & 7.820   & 36.9    & 3.4952  & 2       & 276     & 18.0    & 393.53  & 3.57    & 43.8   \\\\\n",
       "\t 0.02498 & 0       &  1.89   & 0       & 0.518   & 6.540   & 59.7    & 6.2669  & 1       & 422     & 15.9    & 389.96  & 8.65    & 16.5   \\\\\n",
       "\t 0.19539 & 0       & 10.81   & 0       & 0.413   & 6.245   &  6.2    & 5.2873  & 4       & 305     & 19.2    & 377.17  & 7.54    & 23.4   \\\\\n",
       "\t 0.61470 & 0       &  6.20   & 0       & 0.507   & 6.618   & 80.8    & 3.2721  & 8       & 307     & 17.4    & 396.90  & 7.60    & 30.1   \\\\\n",
       "\t 0.79041 & 0       &  9.90   & 0       & 0.544   & 6.122   & 52.8    & 2.6403  & 4       & 304     & 18.4    & 396.90  & 5.98    & 22.1   \\\\\n",
       "\\end{tabular}\n"
      ],
      "text/markdown": [
       "\n",
       "crim | zn | indus | chas | nox | rm | age | dis | rad | tax | ptratio | black | lstat | medv | \n",
       "|---|---|---|---|---|\n",
       "| 0.08187 | 0       |  2.89   | 0       | 0.445   | 7.820   | 36.9    | 3.4952  | 2       | 276     | 18.0    | 393.53  | 3.57    | 43.8    | \n",
       "| 0.02498 | 0       |  1.89   | 0       | 0.518   | 6.540   | 59.7    | 6.2669  | 1       | 422     | 15.9    | 389.96  | 8.65    | 16.5    | \n",
       "| 0.19539 | 0       | 10.81   | 0       | 0.413   | 6.245   |  6.2    | 5.2873  | 4       | 305     | 19.2    | 377.17  | 7.54    | 23.4    | \n",
       "| 0.61470 | 0       |  6.20   | 0       | 0.507   | 6.618   | 80.8    | 3.2721  | 8       | 307     | 17.4    | 396.90  | 7.60    | 30.1    | \n",
       "| 0.79041 | 0       |  9.90   | 0       | 0.544   | 6.122   | 52.8    | 2.6403  | 4       | 304     | 18.4    | 396.90  | 5.98    | 22.1    | \n",
       "\n",
       "\n"
      ],
      "text/plain": [
       "  crim    zn indus chas nox   rm    age  dis    rad tax ptratio black  lstat\n",
       "1 0.08187 0   2.89 0    0.445 7.820 36.9 3.4952 2   276 18.0    393.53 3.57 \n",
       "2 0.02498 0   1.89 0    0.518 6.540 59.7 6.2669 1   422 15.9    389.96 8.65 \n",
       "3 0.19539 0  10.81 0    0.413 6.245  6.2 5.2873 4   305 19.2    377.17 7.54 \n",
       "4 0.61470 0   6.20 0    0.507 6.618 80.8 3.2721 8   307 17.4    396.90 7.60 \n",
       "5 0.79041 0   9.90 0    0.544 6.122 52.8 2.6403 4   304 18.4    396.90 5.98 \n",
       "  medv\n",
       "1 43.8\n",
       "2 16.5\n",
       "3 23.4\n",
       "4 30.1\n",
       "5 22.1"
      ]
     },
     "metadata": {},
     "output_type": "display_data"
    },
    {
     "data": {
      "text/html": [
       "<table>\n",
       "<thead><tr><th scope=col>crim</th><th scope=col>zn</th><th scope=col>indus</th><th scope=col>chas</th><th scope=col>nox</th><th scope=col>rm</th><th scope=col>age</th><th scope=col>dis</th><th scope=col>rad</th><th scope=col>tax</th><th scope=col>ptratio</th><th scope=col>black</th><th scope=col>lstat</th><th scope=col>medv</th></tr></thead>\n",
       "<tbody>\n",
       "\t<tr><td> 0.05425</td><td>0       </td><td> 4.05   </td><td>0       </td><td>0.510   </td><td>6.315   </td><td> 73.4   </td><td>3.3175  </td><td> 5      </td><td>296     </td><td>16.6    </td><td>395.60  </td><td> 6.29   </td><td>24.6    </td></tr>\n",
       "\t<tr><td> 0.38735</td><td>0       </td><td>25.65   </td><td>0       </td><td>0.581   </td><td>5.613   </td><td> 95.6   </td><td>1.7572  </td><td> 2      </td><td>188     </td><td>19.1    </td><td>359.29  </td><td>27.26   </td><td>15.7    </td></tr>\n",
       "\t<tr><td>15.17720</td><td>0       </td><td>18.10   </td><td>0       </td><td>0.740   </td><td>6.152   </td><td>100.0   </td><td>1.9142  </td><td>24      </td><td>666     </td><td>20.2    </td><td>  9.32  </td><td>26.45   </td><td> 8.7    </td></tr>\n",
       "\t<tr><td> 0.07896</td><td>0       </td><td>12.83   </td><td>0       </td><td>0.437   </td><td>6.273   </td><td>  6.0   </td><td>4.2515  </td><td> 5      </td><td>398     </td><td>18.7    </td><td>394.92  </td><td> 6.78   </td><td>24.1    </td></tr>\n",
       "\t<tr><td> 9.59571</td><td>0       </td><td>18.10   </td><td>0       </td><td>0.693   </td><td>6.404   </td><td>100.0   </td><td>1.6390  </td><td>24      </td><td>666     </td><td>20.2    </td><td>376.11  </td><td>20.31   </td><td>12.1    </td></tr>\n",
       "</tbody>\n",
       "</table>\n"
      ],
      "text/latex": [
       "\\begin{tabular}{r|llllllllllllll}\n",
       " crim & zn & indus & chas & nox & rm & age & dis & rad & tax & ptratio & black & lstat & medv\\\\\n",
       "\\hline\n",
       "\t  0.05425 & 0        &  4.05    & 0        & 0.510    & 6.315    &  73.4    & 3.3175   &  5       & 296      & 16.6     & 395.60   &  6.29    & 24.6    \\\\\n",
       "\t  0.38735 & 0        & 25.65    & 0        & 0.581    & 5.613    &  95.6    & 1.7572   &  2       & 188      & 19.1     & 359.29   & 27.26    & 15.7    \\\\\n",
       "\t 15.17720 & 0        & 18.10    & 0        & 0.740    & 6.152    & 100.0    & 1.9142   & 24       & 666      & 20.2     &   9.32   & 26.45    &  8.7    \\\\\n",
       "\t  0.07896 & 0        & 12.83    & 0        & 0.437    & 6.273    &   6.0    & 4.2515   &  5       & 398      & 18.7     & 394.92   &  6.78    & 24.1    \\\\\n",
       "\t  9.59571 & 0        & 18.10    & 0        & 0.693    & 6.404    & 100.0    & 1.6390   & 24       & 666      & 20.2     & 376.11   & 20.31    & 12.1    \\\\\n",
       "\\end{tabular}\n"
      ],
      "text/markdown": [
       "\n",
       "crim | zn | indus | chas | nox | rm | age | dis | rad | tax | ptratio | black | lstat | medv | \n",
       "|---|---|---|---|---|\n",
       "|  0.05425 | 0        |  4.05    | 0        | 0.510    | 6.315    |  73.4    | 3.3175   |  5       | 296      | 16.6     | 395.60   |  6.29    | 24.6     | \n",
       "|  0.38735 | 0        | 25.65    | 0        | 0.581    | 5.613    |  95.6    | 1.7572   |  2       | 188      | 19.1     | 359.29   | 27.26    | 15.7     | \n",
       "| 15.17720 | 0        | 18.10    | 0        | 0.740    | 6.152    | 100.0    | 1.9142   | 24       | 666      | 20.2     |   9.32   | 26.45    |  8.7     | \n",
       "|  0.07896 | 0        | 12.83    | 0        | 0.437    | 6.273    |   6.0    | 4.2515   |  5       | 398      | 18.7     | 394.92   |  6.78    | 24.1     | \n",
       "|  9.59571 | 0        | 18.10    | 0        | 0.693    | 6.404    | 100.0    | 1.6390   | 24       | 666      | 20.2     | 376.11   | 20.31    | 12.1     | \n",
       "\n",
       "\n"
      ],
      "text/plain": [
       "  crim     zn indus chas nox   rm    age   dis    rad tax ptratio black  lstat\n",
       "1  0.05425 0   4.05 0    0.510 6.315  73.4 3.3175  5  296 16.6    395.60  6.29\n",
       "2  0.38735 0  25.65 0    0.581 5.613  95.6 1.7572  2  188 19.1    359.29 27.26\n",
       "3 15.17720 0  18.10 0    0.740 6.152 100.0 1.9142 24  666 20.2      9.32 26.45\n",
       "4  0.07896 0  12.83 0    0.437 6.273   6.0 4.2515  5  398 18.7    394.92  6.78\n",
       "5  9.59571 0  18.10 0    0.693 6.404 100.0 1.6390 24  666 20.2    376.11 20.31\n",
       "  medv\n",
       "1 24.6\n",
       "2 15.7\n",
       "3  8.7\n",
       "4 24.1\n",
       "5 12.1"
      ]
     },
     "metadata": {},
     "output_type": "display_data"
    }
   ],
   "source": [
    "# n개의 데이터 sampling\n",
    "sample_n(my.data, 3)\n",
    "\n",
    "# n%의 데이터 sampling\n",
    "sample_frac(my.data, .01)\n",
    "\n",
    "# n%의 데이터 복원추출\n",
    "sample_frac(my.data, .01,\n",
    "            replace = TRUE)"
   ]
  },
  {
   "cell_type": "markdown",
   "metadata": {
    "nbpresent": {
     "id": "d5e4e82b-e17f-4982-b941-380bf539af0e"
    }
   },
   "source": [
    "# Grouped operations\n",
    "---"
   ]
  },
  {
   "cell_type": "code",
   "execution_count": 53,
   "metadata": {
    "collapsed": false,
    "nbpresent": {
     "id": "790bcf61-1f91-422b-93cd-d74d9bd8d04e"
    }
   },
   "outputs": [
    {
     "data": {
      "text/html": [
       "<table>\n",
       "<thead><tr><th scope=col>tax</th><th scope=col>count</th><th scope=col>mean.age</th></tr></thead>\n",
       "<tbody>\n",
       "\t<tr><td>187     </td><td>1       </td><td>36.10000</td></tr>\n",
       "\t<tr><td>188     </td><td>7       </td><td>89.07143</td></tr>\n",
       "\t<tr><td>193     </td><td>8       </td><td>75.48750</td></tr>\n",
       "</tbody>\n",
       "</table>\n"
      ],
      "text/latex": [
       "\\begin{tabular}{r|lll}\n",
       " tax & count & mean.age\\\\\n",
       "\\hline\n",
       "\t 187      & 1        & 36.10000\\\\\n",
       "\t 188      & 7        & 89.07143\\\\\n",
       "\t 193      & 8        & 75.48750\\\\\n",
       "\\end{tabular}\n"
      ],
      "text/markdown": [
       "\n",
       "tax | count | mean.age | \n",
       "|---|---|---|\n",
       "| 187      | 1        | 36.10000 | \n",
       "| 188      | 7        | 89.07143 | \n",
       "| 193      | 8        | 75.48750 | \n",
       "\n",
       "\n"
      ],
      "text/plain": [
       "  tax count mean.age\n",
       "1 187 1     36.10000\n",
       "2 188 7     89.07143\n",
       "3 193 8     75.48750"
      ]
     },
     "metadata": {},
     "output_type": "display_data"
    }
   ],
   "source": [
    "# jupyter에서는 %>% 단축키((ctrl + shift + m)) 사용이 불가능 한 것 같다... \n",
    "# group_by(tax) => tax 별로 grouping해서 \n",
    "# sumamrise(count = n(), mean.age = mean(age,na.rm = TRUE)\n",
    "# => 각 tax별 count와 age의 평균을 계산\n",
    "result.1 = my.data %>%\n",
    "            group_by(tax) %>%\n",
    "            summarise(count = n(),\n",
    "                      mean.age = mean(age, na.rm = TRUE))\n",
    "head(result.1, n = 3)"
   ]
  },
  {
   "cell_type": "code",
   "execution_count": 58,
   "metadata": {
    "collapsed": false,
    "nbpresent": {
     "id": "29eb6d3f-64e6-420d-b38e-7805e1ee647f"
    }
   },
   "outputs": [
    {
     "data": {
      "text/html": [
       "<table>\n",
       "<thead><tr><th scope=col>Type</th><th scope=col>count</th><th scope=col>diff.type</th><th scope=col>first.tax</th><th scope=col>last.tax</th></tr></thead>\n",
       "<tbody>\n",
       "\t<tr><td>Compact</td><td>16     </td><td>1      </td><td>5500   </td><td>5400   </td></tr>\n",
       "\t<tr><td>Large  </td><td>11     </td><td>1      </td><td>4800   </td><td>4800   </td></tr>\n",
       "\t<tr><td>Midsize</td><td>22     </td><td>1      </td><td>5500   </td><td>6200   </td></tr>\n",
       "</tbody>\n",
       "</table>\n"
      ],
      "text/latex": [
       "\\begin{tabular}{r|lllll}\n",
       " Type & count & diff.type & first.tax & last.tax\\\\\n",
       "\\hline\n",
       "\t Compact & 16      & 1       & 5500    & 5400   \\\\\n",
       "\t Large   & 11      & 1       & 4800    & 4800   \\\\\n",
       "\t Midsize & 22      & 1       & 5500    & 6200   \\\\\n",
       "\\end{tabular}\n"
      ],
      "text/markdown": [
       "\n",
       "Type | count | diff.type | first.tax | last.tax | \n",
       "|---|---|---|\n",
       "| Compact | 16      | 1       | 5500    | 5400    | \n",
       "| Large   | 11      | 1       | 4800    | 4800    | \n",
       "| Midsize | 22      | 1       | 5500    | 6200    | \n",
       "\n",
       "\n"
      ],
      "text/plain": [
       "  Type    count diff.type first.tax last.tax\n",
       "1 Compact 16    1         5500      5400    \n",
       "2 Large   11    1         4800      4800    \n",
       "3 Midsize 22    1         5500      6200    "
      ]
     },
     "metadata": {},
     "output_type": "display_data"
    }
   ],
   "source": [
    "# Cars93 데이터가 보기 편할 것 같다...\n",
    "# count     : Type별 개수\n",
    "# diff.type : 중복을 제거한 Type 개수\n",
    "# first     : Type별 RPM의 첫번째 데이터\n",
    "# last      : Type별 RPM의 마지막 데이터\n",
    "result.2 = Cars93 %>%\n",
    "            group_by(Type) %>%\n",
    "            summarise(count = n(),\n",
    "                      diff.type = n_distinct(Type),\n",
    "                      first.tax=first(RPM),\n",
    "                      last.tax=last(RPM))\n",
    "head(result.2, n = 3)"
   ]
  },
  {
   "cell_type": "markdown",
   "metadata": {
    "nbpresent": {
     "id": "150d8d2b-a213-4fd4-a880-b23271b1a4af"
    }
   },
   "source": [
    "#### 그 밖에도 min(), max(), mean(), sum(), sd(), median(), IQR() 등...\n",
    "#### 다양한 기술 통계량을 구할 수 있다."
   ]
  },
  {
   "cell_type": "code",
   "execution_count": 75,
   "metadata": {
    "collapsed": false,
    "nbpresent": {
     "id": "25782525-c777-4669-ac4d-2c2c29011569"
    }
   },
   "outputs": [
    {
     "data": {
      "text/html": [
       "<table>\n",
       "<thead><tr><th scope=col>tax</th><th scope=col>rad</th><th scope=col>size</th></tr></thead>\n",
       "<tbody>\n",
       "\t<tr><td>187</td><td>5  </td><td>1  </td></tr>\n",
       "\t<tr><td>188</td><td>2  </td><td>7  </td></tr>\n",
       "\t<tr><td>193</td><td>3  </td><td>8  </td></tr>\n",
       "\t<tr><td>198</td><td>1  </td><td>1  </td></tr>\n",
       "\t<tr><td>216</td><td>3  </td><td>1  </td></tr>\n",
       "\t<tr><td>216</td><td>5  </td><td>4  </td></tr>\n",
       "</tbody>\n",
       "</table>\n"
      ],
      "text/latex": [
       "\\begin{tabular}{r|lll}\n",
       " tax & rad & size\\\\\n",
       "\\hline\n",
       "\t 187 & 5   & 1  \\\\\n",
       "\t 188 & 2   & 7  \\\\\n",
       "\t 193 & 3   & 8  \\\\\n",
       "\t 198 & 1   & 1  \\\\\n",
       "\t 216 & 3   & 1  \\\\\n",
       "\t 216 & 5   & 4  \\\\\n",
       "\\end{tabular}\n"
      ],
      "text/markdown": [
       "\n",
       "tax | rad | size | \n",
       "|---|---|---|---|---|---|\n",
       "| 187 | 5   | 1   | \n",
       "| 188 | 2   | 7   | \n",
       "| 193 | 3   | 8   | \n",
       "| 198 | 1   | 1   | \n",
       "| 216 | 3   | 1   | \n",
       "| 216 | 5   | 4   | \n",
       "\n",
       "\n"
      ],
      "text/plain": [
       "  tax rad size\n",
       "1 187 5   1   \n",
       "2 188 2   7   \n",
       "3 193 3   8   \n",
       "4 198 1   1   \n",
       "5 216 3   1   \n",
       "6 216 5   4   "
      ]
     },
     "metadata": {},
     "output_type": "display_data"
    }
   ],
   "source": [
    "# tax, rad 2개의 변수를 이용하여 그룹핑\n",
    "result.3 = my.data %>%\n",
    "            group_by(tax, rad) %>%\n",
    "            summarise(size = n())\n",
    "head(result.3)"
   ]
  },
  {
   "cell_type": "code",
   "execution_count": 96,
   "metadata": {
    "collapsed": false,
    "nbpresent": {
     "id": "6f590d03-4df0-4595-bbe9-29d63ad740db"
    }
   },
   "outputs": [
    {
     "data": {
      "text/html": [
       "<table>\n",
       "<thead><tr><th scope=col>date</th><th scope=col>alpabet</th></tr></thead>\n",
       "<tbody>\n",
       "\t<tr><td>2014-01-01</td><td>a         </td></tr>\n",
       "\t<tr><td>2014-01-01</td><td>a         </td></tr>\n",
       "\t<tr><td>2014-01-01</td><td>b         </td></tr>\n",
       "\t<tr><td>2014-01-01</td><td>c         </td></tr>\n",
       "\t<tr><td>2014-01-02</td><td>d         </td></tr>\n",
       "\t<tr><td>2014-01-02</td><td>e         </td></tr>\n",
       "\t<tr><td>2014-01-02</td><td>a         </td></tr>\n",
       "\t<tr><td>2014-01-03</td><td>a         </td></tr>\n",
       "\t<tr><td>2014-01-03</td><td>d         </td></tr>\n",
       "\t<tr><td>2014-01-03</td><td>c         </td></tr>\n",
       "</tbody>\n",
       "</table>\n"
      ],
      "text/latex": [
       "\\begin{tabular}{r|ll}\n",
       " date & alpabet\\\\\n",
       "\\hline\n",
       "\t 2014-01-01 & a         \\\\\n",
       "\t 2014-01-01 & a         \\\\\n",
       "\t 2014-01-01 & b         \\\\\n",
       "\t 2014-01-01 & c         \\\\\n",
       "\t 2014-01-02 & d         \\\\\n",
       "\t 2014-01-02 & e         \\\\\n",
       "\t 2014-01-02 & a         \\\\\n",
       "\t 2014-01-03 & a         \\\\\n",
       "\t 2014-01-03 & d         \\\\\n",
       "\t 2014-01-03 & c         \\\\\n",
       "\\end{tabular}\n"
      ],
      "text/markdown": [
       "\n",
       "date | alpabet | \n",
       "|---|---|---|---|---|---|---|---|---|---|\n",
       "| 2014-01-01 | a          | \n",
       "| 2014-01-01 | a          | \n",
       "| 2014-01-01 | b          | \n",
       "| 2014-01-01 | c          | \n",
       "| 2014-01-02 | d          | \n",
       "| 2014-01-02 | e          | \n",
       "| 2014-01-02 | a          | \n",
       "| 2014-01-03 | a          | \n",
       "| 2014-01-03 | d          | \n",
       "| 2014-01-03 | c          | \n",
       "\n",
       "\n"
      ],
      "text/plain": [
       "   date       alpabet\n",
       "1  2014-01-01 a      \n",
       "2  2014-01-01 a      \n",
       "3  2014-01-01 b      \n",
       "4  2014-01-01 c      \n",
       "5  2014-01-02 d      \n",
       "6  2014-01-02 e      \n",
       "7  2014-01-02 a      \n",
       "8  2014-01-03 a      \n",
       "9  2014-01-03 d      \n",
       "10 2014-01-03 c      "
      ]
     },
     "metadata": {},
     "output_type": "display_data"
    }
   ],
   "source": [
    "date=c(\"2014-01-01\" ,\"2014-01-01\" ,\"2014-01-01\" ,\n",
    "       \"2014-01-01\" ,\"2014-01-02\" ,\"2014-01-02\" ,\n",
    "       \"2014-01-02\" ,\"2014-01-03\" ,\"2014-01-03\" ,\"2014-01-03\")\n",
    "alpabet=c(\"a\",\"a\",\"b\",\"c\",\"d\",\"e\",\"a\",\"a\",\"d\",\"c\")\n",
    "df = data.frame(date, alpabet)\n",
    "df"
   ]
  },
  {
   "cell_type": "code",
   "execution_count": 102,
   "metadata": {
    "collapsed": false,
    "nbpresent": {
     "id": "a0fa15de-575d-4d88-8986-62d71080d3b2"
    }
   },
   "outputs": [
    {
     "data": {
      "text/html": [
       "<table>\n",
       "<thead><tr><th scope=col>date</th><th scope=col>count</th><th scope=col>cumsum</th></tr></thead>\n",
       "<tbody>\n",
       "\t<tr><td>2014-01-01</td><td>3         </td><td>3         </td></tr>\n",
       "\t<tr><td>2014-01-02</td><td>2         </td><td>5         </td></tr>\n",
       "</tbody>\n",
       "</table>\n"
      ],
      "text/latex": [
       "\\begin{tabular}{r|lll}\n",
       " date & count & cumsum\\\\\n",
       "\\hline\n",
       "\t 2014-01-01 & 3          & 3         \\\\\n",
       "\t 2014-01-02 & 2          & 5         \\\\\n",
       "\\end{tabular}\n"
      ],
      "text/markdown": [
       "\n",
       "date | count | cumsum | \n",
       "|---|---|\n",
       "| 2014-01-01 | 3          | 3          | \n",
       "| 2014-01-02 | 2          | 5          | \n",
       "\n",
       "\n"
      ],
      "text/plain": [
       "  date       count cumsum\n",
       "1 2014-01-01 3     3     \n",
       "2 2014-01-02 2     5     "
      ]
     },
     "metadata": {},
     "output_type": "display_data"
    }
   ],
   "source": [
    "# dumplicated() 함수는 중복된 데이터일 경우 TRUE 아니면 FALSE를 반환하는 함수\n",
    "# !dumplicated()를 사용시 중복된 데이터가 삭제됨\n",
    "df %>% \n",
    "  arrange(date) %>%                  # date 기준으로 오름차순\n",
    "  filter(!duplicated(number)) %>%    # 중복된 알파벳 제거\n",
    "  group_by(date) %>%                 # date로 그룹핑해서\n",
    "  summarise(count = length(date))%>% # count  : 각 date 원소 개수 \n",
    "  mutate(cumsum = cumsum(count))     # cumsum : count의 누적합\n"
   ]
  }
 ],
 "metadata": {
  "anaconda-cloud": {},
  "kernelspec": {
   "display_name": "R",
   "language": "R",
   "name": "ir"
  },
  "language_info": {
   "codemirror_mode": "r",
   "file_extension": ".r",
   "mimetype": "text/x-r-source",
   "name": "R",
   "pygments_lexer": "r",
   "version": "3.4.1"
  },
  "nbpresent": {
   "slides": {
    "00cea85c-53a6-439d-ad23-94e6bd7ce0e1": {
     "id": "00cea85c-53a6-439d-ad23-94e6bd7ce0e1",
     "prev": "8e8e964d-285c-4c23-81cd-549f69ef9b23",
     "regions": {
      "ce797383-3865-4185-a98d-32e9ca58f038": {
       "attrs": {
        "height": 0.8,
        "width": 0.8,
        "x": 0.1,
        "y": 0.1
       },
       "content": {
        "cell": "a0fa15de-575d-4d88-8986-62d71080d3b2",
        "part": "whole"
       },
       "id": "ce797383-3865-4185-a98d-32e9ca58f038"
      }
     }
    },
    "0151ea11-72a0-425b-be8e-8390fad2a0bd": {
     "id": "0151ea11-72a0-425b-be8e-8390fad2a0bd",
     "prev": "f3b6bcfe-ee22-4073-99b5-99e538f4e873",
     "regions": {
      "ab424528-fc81-4c45-81db-2e41a9552609": {
       "attrs": {
        "height": 0.8,
        "width": 0.8,
        "x": 0.1,
        "y": 0.1
       },
       "content": {
        "cell": "25782525-c777-4669-ac4d-2c2c29011569",
        "part": "whole"
       },
       "id": "ab424528-fc81-4c45-81db-2e41a9552609"
      }
     }
    },
    "08f0848c-946e-4968-b889-9829cc65a761": {
     "id": "08f0848c-946e-4968-b889-9829cc65a761",
     "prev": "b03abd41-7dc1-4da1-9c1a-f280f9443109",
     "regions": {
      "a333a2a3-19d6-4bea-b768-dccd8df938af": {
       "attrs": {
        "height": 0.8,
        "width": 0.8,
        "x": 0.1,
        "y": 0.1
       },
       "content": {
        "cell": "48356f8d-fa43-4838-b720-5e1de9919a73",
        "part": "whole"
       },
       "id": "a333a2a3-19d6-4bea-b768-dccd8df938af"
      }
     }
    },
    "0f55363c-814e-4ec1-abbc-60493b3fb6a7": {
     "id": "0f55363c-814e-4ec1-abbc-60493b3fb6a7",
     "prev": "08f0848c-946e-4968-b889-9829cc65a761",
     "regions": {
      "8a19369a-6af2-4521-9f23-b20cf19a60d8": {
       "attrs": {
        "height": 0.8,
        "width": 0.8000003698224852,
        "x": -0.2842533284023669,
        "y": 0.2780078895463511
       },
       "content": {
        "cell": "2468ba5d-f3c6-4bc9-a0c1-c157e81f5873",
        "part": "whole"
       },
       "id": "8a19369a-6af2-4521-9f23-b20cf19a60d8"
      }
     }
    },
    "184c553f-a1fa-4bf0-b620-3cf05149d667": {
     "id": "184c553f-a1fa-4bf0-b620-3cf05149d667",
     "prev": "4d11576b-5e92-4f6f-89ee-1947bd055137",
     "regions": {
      "d5582afa-a03e-42be-902e-306b766d2c8a": {
       "attrs": {
        "height": 0.8,
        "width": 0.8,
        "x": 0.1,
        "y": 0.1
       },
       "content": {
        "cell": "bf302563-7c42-4ab2-a194-b513b550b439",
        "part": "whole"
       },
       "id": "d5582afa-a03e-42be-902e-306b766d2c8a"
      }
     }
    },
    "2e994216-09bd-496b-adfd-7000a49d2a54": {
     "id": "2e994216-09bd-496b-adfd-7000a49d2a54",
     "prev": "beb704c2-41a1-46a5-a63b-46c14cc7d259",
     "regions": {
      "10e66382-9d60-4363-870d-5f491fc2bd3e": {
       "attrs": {
        "height": 0.8,
        "width": 0.8,
        "x": 0.1,
        "y": 0.1
       },
       "content": {
        "cell": "29eb6d3f-64e6-420d-b38e-7805e1ee647f",
        "part": "whole"
       },
       "id": "10e66382-9d60-4363-870d-5f491fc2bd3e"
      }
     }
    },
    "38fa374a-882e-43fc-9820-d15c9407ded8": {
     "id": "38fa374a-882e-43fc-9820-d15c9407ded8",
     "prev": "4dabcda1-5bbd-4f3b-81c2-7ab905f73b5c",
     "regions": {
      "5309d3f7-0ae0-4c5c-92e2-91fefccb288c": {
       "attrs": {
        "height": 0.8,
        "width": 0.8,
        "x": 0.1,
        "y": 0.1
       },
       "content": {
        "cell": "2c590afc-3150-4466-b2b7-5159311ce90c",
        "part": "whole"
       },
       "id": "5309d3f7-0ae0-4c5c-92e2-91fefccb288c"
      }
     }
    },
    "43c4a815-0569-47cb-bfa8-cc1f94032282": {
     "id": "43c4a815-0569-47cb-bfa8-cc1f94032282",
     "prev": "a41f40ef-641f-4b6c-9f03-0027a5b198f2",
     "regions": {
      "75e7e9dc-546b-4a0b-92a5-dcfdad11fb29": {
       "attrs": {
        "height": 0.8,
        "width": 0.8,
        "x": 0.1,
        "y": 0.1
       },
       "content": {
        "cell": "0d252b10-82b1-4ebe-b429-121d981a249f",
        "part": "whole"
       },
       "id": "75e7e9dc-546b-4a0b-92a5-dcfdad11fb29"
      }
     }
    },
    "499d54ee-099d-466c-8a75-516586b19c8c": {
     "id": "499d54ee-099d-466c-8a75-516586b19c8c",
     "prev": "8552b9b1-1a1a-4355-89e0-dca05f94000a",
     "regions": {
      "19590b01-5d1c-44ad-a6c5-f06757939f71": {
       "attrs": {
        "height": 0.8,
        "width": 0.8,
        "x": 0.1,
        "y": 0.1
       },
       "content": {
        "cell": "2e1971c7-7f78-48ea-9867-ec186b03853f",
        "part": "whole"
       },
       "id": "19590b01-5d1c-44ad-a6c5-f06757939f71"
      }
     }
    },
    "4d11576b-5e92-4f6f-89ee-1947bd055137": {
     "id": "4d11576b-5e92-4f6f-89ee-1947bd055137",
     "prev": "da383c33-fdd5-4094-865c-4b0153f01f69",
     "regions": {
      "a234c8b3-d415-4846-992c-9ab80751f6c3": {
       "attrs": {
        "height": 0.8,
        "width": 0.8,
        "x": 0.1,
        "y": 0.1
       },
       "content": {
        "cell": "6286cc5c-cd49-4b2e-8775-92a41358f864",
        "part": "whole"
       },
       "id": "a234c8b3-d415-4846-992c-9ab80751f6c3"
      }
     }
    },
    "4dabcda1-5bbd-4f3b-81c2-7ab905f73b5c": {
     "id": "4dabcda1-5bbd-4f3b-81c2-7ab905f73b5c",
     "prev": "b7f50a88-925d-4a2c-8531-3700c4f38134",
     "regions": {
      "f96c8516-1672-429d-b8ed-02b68eef0f4f": {
       "attrs": {
        "height": 0.8,
        "width": 0.8,
        "x": 0.1,
        "y": 0.1
       },
       "content": {
        "cell": "fcd5d964-8e13-4cf7-b9ea-ae99b32be4b6",
        "part": "whole"
       },
       "id": "f96c8516-1672-429d-b8ed-02b68eef0f4f"
      }
     }
    },
    "51bdc590-ce1b-4cf6-9450-34a97f5ada6f": {
     "id": "51bdc590-ce1b-4cf6-9450-34a97f5ada6f",
     "prev": "7607867a-eccb-4964-8a49-e8e88ff12351",
     "regions": {
      "442c0f9f-2274-421d-9cd7-a68f8e0e6d02": {
       "attrs": {
        "height": 0.8,
        "width": 0.8,
        "x": 0.1,
        "y": 0.1
       },
       "content": {
        "cell": "59d4732d-d7dc-4473-afa0-6011219e75e7",
        "part": "whole"
       },
       "id": "442c0f9f-2274-421d-9cd7-a68f8e0e6d02"
      }
     }
    },
    "65af6e5c-4f10-4347-acac-54762ace7d35": {
     "id": "65af6e5c-4f10-4347-acac-54762ace7d35",
     "prev": null,
     "regions": {
      "ee357e0f-6b80-482d-b36a-3b2eb55a0991": {
       "attrs": {
        "height": 0.8,
        "width": 0.8,
        "x": 0.1,
        "y": 0.1
       },
       "content": {
        "cell": "7cf56bba-e28b-47d7-85c3-e1b56c286040",
        "part": "whole"
       },
       "id": "ee357e0f-6b80-482d-b36a-3b2eb55a0991"
      }
     }
    },
    "7607867a-eccb-4964-8a49-e8e88ff12351": {
     "id": "7607867a-eccb-4964-8a49-e8e88ff12351",
     "prev": "d65f4ae0-c3c8-4394-900e-480cc852505f",
     "regions": {
      "40075ddd-2ba4-4404-b070-e756db4c362f": {
       "attrs": {
        "height": 0.8,
        "width": 0.8,
        "x": 0.1,
        "y": 0.1
       },
       "content": {
        "cell": "0eef68fe-805a-4108-9c80-35e6f9733cc7",
        "part": "whole"
       },
       "id": "40075ddd-2ba4-4404-b070-e756db4c362f"
      }
     }
    },
    "8552b9b1-1a1a-4355-89e0-dca05f94000a": {
     "id": "8552b9b1-1a1a-4355-89e0-dca05f94000a",
     "prev": "c79d7fd3-663f-47d7-921f-b1920792e61d",
     "regions": {
      "a1add295-2115-4afd-9fbf-7be2eff28946": {
       "attrs": {
        "height": 0.8,
        "width": 0.8,
        "x": 0.1,
        "y": 0.1
       },
       "content": {
        "cell": "4a3b2844-b0a8-40a6-8c0e-68a9863a6aed",
        "part": "whole"
       },
       "id": "a1add295-2115-4afd-9fbf-7be2eff28946"
      }
     }
    },
    "8e8e964d-285c-4c23-81cd-549f69ef9b23": {
     "id": "8e8e964d-285c-4c23-81cd-549f69ef9b23",
     "prev": "0151ea11-72a0-425b-be8e-8390fad2a0bd",
     "regions": {
      "d1d2e56a-2fa4-4bb5-8178-83e92b968ce1": {
       "attrs": {
        "height": 0.8,
        "width": 0.8,
        "x": 0.1,
        "y": 0.1
       },
       "content": {
        "cell": "6f590d03-4df0-4595-bbe9-29d63ad740db",
        "part": "whole"
       },
       "id": "d1d2e56a-2fa4-4bb5-8178-83e92b968ce1"
      }
     }
    },
    "9974dbe2-28e3-45d1-9641-21c0ccf33c65": {
     "id": "9974dbe2-28e3-45d1-9641-21c0ccf33c65",
     "prev": "d10a4ab7-8bf4-453e-b8d2-ab8991a75050",
     "regions": {
      "f9343aeb-7f65-479f-a587-4898ed33e897": {
       "attrs": {
        "height": 0.8,
        "width": 0.8,
        "x": 0.1,
        "y": 0.1
       },
       "content": {
        "cell": "f6a1102e-06b6-4276-af06-f3403771f9fa",
        "part": "whole"
       },
       "id": "f9343aeb-7f65-479f-a587-4898ed33e897"
      }
     }
    },
    "a41f40ef-641f-4b6c-9f03-0027a5b198f2": {
     "id": "a41f40ef-641f-4b6c-9f03-0027a5b198f2",
     "prev": "ab26090a-f085-44de-9ac9-a7e28d05d474",
     "regions": {
      "c68c7a3d-1824-4c55-b2ab-9a6283035dd0": {
       "attrs": {
        "height": 0.8,
        "width": 0.8,
        "x": 0.1,
        "y": 0.1
       },
       "content": {
        "cell": "194338c1-d66f-4ab3-b332-ec1492ad886e",
        "part": "whole"
       },
       "id": "c68c7a3d-1824-4c55-b2ab-9a6283035dd0"
      }
     }
    },
    "ab26090a-f085-44de-9ac9-a7e28d05d474": {
     "id": "ab26090a-f085-44de-9ac9-a7e28d05d474",
     "prev": "c1e89a6a-b504-4792-835a-8cc384c8f228",
     "regions": {
      "bef5336c-2e8b-4ad9-96ce-bafb4c98ea59": {
       "attrs": {
        "height": 0.8,
        "width": 0.8,
        "x": 0.1,
        "y": 0.1
       },
       "content": {
        "cell": "74331131-c17e-4a8f-91fd-d856021dd49d",
        "part": "whole"
       },
       "id": "bef5336c-2e8b-4ad9-96ce-bafb4c98ea59"
      }
     }
    },
    "b03abd41-7dc1-4da1-9c1a-f280f9443109": {
     "id": "b03abd41-7dc1-4da1-9c1a-f280f9443109",
     "prev": "51bdc590-ce1b-4cf6-9450-34a97f5ada6f",
     "regions": {
      "1c2d2e8d-9128-40c4-97f8-1617a667ad2e": {
       "attrs": {
        "height": 0.8,
        "width": 0.8,
        "x": 0.1,
        "y": 0.1
       },
       "content": {
        "cell": "41f59284-39db-4e93-b117-a55ba19e1e97",
        "part": "whole"
       },
       "id": "1c2d2e8d-9128-40c4-97f8-1617a667ad2e"
      }
     }
    },
    "b7f50a88-925d-4a2c-8531-3700c4f38134": {
     "id": "b7f50a88-925d-4a2c-8531-3700c4f38134",
     "prev": "ef74615a-2549-4fa2-9955-2ee7eff44a99",
     "regions": {
      "e1115173-1b71-4372-bfe8-9342a52ca1ae": {
       "attrs": {
        "height": 0.8,
        "width": 0.8,
        "x": 0.1,
        "y": 0.1
       },
       "content": {
        "cell": "04b05a43-7128-41b7-bea6-cbd40ca95aea",
        "part": "whole"
       },
       "id": "e1115173-1b71-4372-bfe8-9342a52ca1ae"
      }
     }
    },
    "beb704c2-41a1-46a5-a63b-46c14cc7d259": {
     "id": "beb704c2-41a1-46a5-a63b-46c14cc7d259",
     "prev": "d169cbfa-778b-4b75-8c11-b0e3a5451332",
     "regions": {
      "1fb76ec5-fddf-44ac-b6fd-2be4f18fda89": {
       "attrs": {
        "height": 0.8,
        "width": 0.8,
        "x": 0.1,
        "y": 0.1
       },
       "content": {
        "cell": "790bcf61-1f91-422b-93cd-d74d9bd8d04e",
        "part": "whole"
       },
       "id": "1fb76ec5-fddf-44ac-b6fd-2be4f18fda89"
      }
     }
    },
    "c1e89a6a-b504-4792-835a-8cc384c8f228": {
     "id": "c1e89a6a-b504-4792-835a-8cc384c8f228",
     "prev": "499d54ee-099d-466c-8a75-516586b19c8c",
     "regions": {
      "ff3fb530-54ae-463c-9204-6443f5345994": {
       "attrs": {
        "height": 0.8,
        "width": 0.8,
        "x": 0.1,
        "y": 0.1
       },
       "content": {
        "cell": "a51ebfe0-ae6b-4214-89d1-5d74029a6193",
        "part": "whole"
       },
       "id": "ff3fb530-54ae-463c-9204-6443f5345994"
      }
     }
    },
    "c77bccdc-7763-4f99-8e02-ae4df9eeef55": {
     "id": "c77bccdc-7763-4f99-8e02-ae4df9eeef55",
     "prev": "43c4a815-0569-47cb-bfa8-cc1f94032282",
     "regions": {
      "5d066391-40a4-4904-a19a-74f4578350f1": {
       "attrs": {
        "height": 0.8,
        "width": 0.8,
        "x": 0.1,
        "y": 0.1
       },
       "content": {
        "cell": "e1d3249d-1a2f-4674-8b3e-4c64ff5c5cb4",
        "part": "whole"
       },
       "id": "5d066391-40a4-4904-a19a-74f4578350f1"
      }
     }
    },
    "c79d7fd3-663f-47d7-921f-b1920792e61d": {
     "id": "c79d7fd3-663f-47d7-921f-b1920792e61d",
     "prev": "184c553f-a1fa-4bf0-b620-3cf05149d667",
     "regions": {
      "e2d98c3d-6dba-4824-9881-e00b7d48e2ee": {
       "attrs": {
        "height": 0.8,
        "width": 0.8,
        "x": 0.1,
        "y": 0.1
       },
       "content": {
        "cell": "5a0ac0c7-7a9d-440b-b115-7c234a48ee6d",
        "part": "whole"
       },
       "id": "e2d98c3d-6dba-4824-9881-e00b7d48e2ee"
      }
     }
    },
    "d10a4ab7-8bf4-453e-b8d2-ab8991a75050": {
     "id": "d10a4ab7-8bf4-453e-b8d2-ab8991a75050",
     "prev": "65af6e5c-4f10-4347-acac-54762ace7d35",
     "regions": {
      "75cfe1ef-af63-4e8c-9af8-8d392354bb97": {
       "attrs": {
        "height": 0.8,
        "width": 0.8,
        "x": 0.1,
        "y": 0.1
       },
       "content": {
        "cell": "acb3bc72-0421-43b6-8fef-956df03e41c2",
        "part": "whole"
       },
       "id": "75cfe1ef-af63-4e8c-9af8-8d392354bb97"
      }
     }
    },
    "d169cbfa-778b-4b75-8c11-b0e3a5451332": {
     "id": "d169cbfa-778b-4b75-8c11-b0e3a5451332",
     "prev": "f74d3e49-64f0-49a5-899b-898b45fb0433",
     "regions": {
      "023a2d2a-395b-424b-9408-a9b18681e74a": {
       "attrs": {
        "height": 0.8,
        "width": 0.8,
        "x": 0.1,
        "y": 0.1
       },
       "content": {
        "cell": "d5e4e82b-e17f-4982-b941-380bf539af0e",
        "part": "whole"
       },
       "id": "023a2d2a-395b-424b-9408-a9b18681e74a"
      }
     }
    },
    "d65f4ae0-c3c8-4394-900e-480cc852505f": {
     "id": "d65f4ae0-c3c8-4394-900e-480cc852505f",
     "prev": "9974dbe2-28e3-45d1-9641-21c0ccf33c65",
     "regions": {
      "7ff33b03-6935-44d2-ac40-5f6a27e632c0": {
       "attrs": {
        "height": 0.8,
        "width": 0.8,
        "x": 0.1,
        "y": 0.1
       },
       "content": {
        "cell": "b48b0349-9054-42b9-8a80-dfe6b80257b1",
        "part": "whole"
       },
       "id": "7ff33b03-6935-44d2-ac40-5f6a27e632c0"
      }
     }
    },
    "da383c33-fdd5-4094-865c-4b0153f01f69": {
     "id": "da383c33-fdd5-4094-865c-4b0153f01f69",
     "prev": "0f55363c-814e-4ec1-abbc-60493b3fb6a7",
     "regions": {
      "4fb7a10b-f824-4c09-8fd4-c8cfbf27bcda": {
       "attrs": {
        "height": 0.8,
        "width": 0.8,
        "x": 0.1,
        "y": 0.1
       },
       "content": {
        "cell": "e669bcef-6479-4ff4-b0d7-f77b34d7e144",
        "part": "whole"
       },
       "id": "4fb7a10b-f824-4c09-8fd4-c8cfbf27bcda"
      }
     }
    },
    "ef74615a-2549-4fa2-9955-2ee7eff44a99": {
     "id": "ef74615a-2549-4fa2-9955-2ee7eff44a99",
     "prev": "c77bccdc-7763-4f99-8e02-ae4df9eeef55",
     "regions": {
      "f4598d79-5d34-4a40-9c89-cc43080ebe7c": {
       "attrs": {
        "height": 0.8,
        "width": 0.8,
        "x": 0.1,
        "y": 0.1
       },
       "content": {
        "cell": "12f53a98-56df-4a43-9bed-69c623e24636",
        "part": "whole"
       },
       "id": "f4598d79-5d34-4a40-9c89-cc43080ebe7c"
      }
     }
    },
    "f3b6bcfe-ee22-4073-99b5-99e538f4e873": {
     "id": "f3b6bcfe-ee22-4073-99b5-99e538f4e873",
     "prev": "2e994216-09bd-496b-adfd-7000a49d2a54",
     "regions": {
      "49f12aae-da8b-44e4-8493-94fbb0b7c26e": {
       "attrs": {
        "height": 0.8,
        "width": 0.8,
        "x": 0.1,
        "y": 0.1
       },
       "content": {
        "cell": "150d8d2b-a213-4fd4-a880-b23271b1a4af",
        "part": "whole"
       },
       "id": "49f12aae-da8b-44e4-8493-94fbb0b7c26e"
      }
     }
    },
    "f74d3e49-64f0-49a5-899b-898b45fb0433": {
     "id": "f74d3e49-64f0-49a5-899b-898b45fb0433",
     "prev": "38fa374a-882e-43fc-9820-d15c9407ded8",
     "regions": {
      "0434caa8-bec4-47cb-a575-2421b96cf66d": {
       "attrs": {
        "height": 0.8,
        "width": 0.8,
        "x": 0.1,
        "y": 0.1
       },
       "content": {
        "cell": "02157e2f-7107-40d1-ae4f-7b55a2efb942",
        "part": "whole"
       },
       "id": "0434caa8-bec4-47cb-a575-2421b96cf66d"
      }
     }
    }
   },
   "themes": {}
  }
 },
 "nbformat": 4,
 "nbformat_minor": 1
}
